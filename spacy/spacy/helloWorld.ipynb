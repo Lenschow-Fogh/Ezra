{
 "cells": [
  {
   "cell_type": "code",
   "execution_count": 2,
   "source": [
    "# Setup\r\n",
    "import sys\r\n",
    "!{sys.executable} python -m spacy download en_core_web_lg"
   ],
   "outputs": [
    {
     "output_type": "stream",
     "name": "stderr",
     "text": [
      "C:\\Users\\Rasmu\\anaconda3\\python.exe: can't open file 'python': [Errno 2] No such file or directory\n"
     ]
    }
   ],
   "metadata": {}
  },
  {
   "cell_type": "code",
   "execution_count": 3,
   "source": [
    "# function to display basic entity info\r\n",
    "def show_ents(doc): \r\n",
    "    if doc.ents: \r\n",
    "        for ent in doc.ents: \r\n",
    "            print(ent.text+' - ' +str(ent.start_char) +' - '+ str(ent.end_char) +' - '+ent.label_+ ' - '+str(spacy.explain(ent.label_))) \r\n",
    "        else: \r\n",
    "            print('No named entities found.')"
   ],
   "outputs": [],
   "metadata": {}
  },
  {
   "cell_type": "code",
   "execution_count": 4,
   "source": [
    "def censor_word(text, word):\r\n",
    "    censoredWord = \"*\" * len(word)\r\n",
    "    return text.replace(word, censoredWord)\r\n",
    "\r\n",
    "def censor_ents(doc, originalText):\r\n",
    "    if doc.ents:\r\n",
    "        censoredText = originalText\r\n",
    "        for ent in doc.ents:\r\n",
    "            label = ent.label_\r\n",
    "            if label == \"PERSON\" or label == \"GPE\":\r\n",
    "                censoredText = censor_word(censoredText, ent.text)\r\n",
    "    return censoredText"
   ],
   "outputs": [],
   "metadata": {}
  },
  {
   "cell_type": "code",
   "execution_count": 38,
   "source": [
    "with open('dummyjobapplication.txt', 'r') as file:\r\n",
    "    data = file.read().replace('\\n', '')\r\n"
   ],
   "outputs": [],
   "metadata": {}
  },
  {
   "cell_type": "code",
   "execution_count": 39,
   "source": [
    "import spacy\r\n",
    "from spacy import displacy\r\n",
    "\r\n",
    "text = \"When Sebastian Thrun started working on self-driving cars at Google in 2007, few people outside of the company took him seriously.\"\r\n",
    "mortText = \"Morten Lenschow Hansen SOFTWARE TECHNOLOGY STUDENT Aarhus University, Finlandsgade 22, 8000 Aarhus, Denmark. (+45) 27 79 96 69 |  hansenmann2497@hotmail.com Unity Technologies May 7, 2020 NIELS HEMMINGSENS GADE 24 1153 COPENHAGEN Application for the internship (Fall 2020) Dear Sir/Madam About Me I am currently on my fourth semester of my Bachelor in Software Engineering at Aarhus University, Denmark. My current aim is achieving a Masters degree in computer science. In my free time I like to play games or soccer with friends, or follow sports such as F1 and eSports (CS:GO & RLCS). I am a very social guy, I love to be around people and I tend to be funny and outgoing. Why Unity Technologies? Unity Technologies provides a innovative platform for creating games to businesses or consumers to reach targeted audiences. I am very keen on becoming part of this process. On my current semester I have developed a mobile application (reference to Fruit Fly in attached CV). Also I have worked on several other projects like writing code for the logic, data binding and flow of programs. This has given me experience on non-game applications. I thoroughly enjoyed working with this, and it ensured me that it is something I want to continue working with, therefore Unity Technologies. Why me? Professionally I have a lot to offer, I have great experience with C# and other OOP languages, design principles (such as SOLID), software test and GUI-applications (full stack). Process-wise I have worked in project teams and gained experience with SCRUM. I can easily communicate with everyone on/or off the team and I like to work in teams. I always strive to be the best I can be, and that goes for my work/study as well, where I always try to deliver the best results. I am looking forward to your reply. Sincerely, Morten Lenschow Hansen MORTEN LENSCHOW HANSEN\"\r\n",
    "\r\n",
    "nlp = spacy.load(\"en_core_web_lg\")\r\n",
    "doc = nlp(data)\r\n",
    "displacy.render(doc, style=\"ent\")\r\n",
    "print(censor_ents(doc, data))\r\n",
    "#print(doc.ents[0])"
   ],
   "outputs": [
    {
     "output_type": "display_data",
     "data": {
      "text/html": [
       "<span class=\"tex2jax_ignore\"><div class=\"entities\" style=\"line-height: 2.5; direction: ltr\">\n",
       "<mark class=\"entity\" style=\"background: #aa9cfc; padding: 0.45em 0.6em; margin: 0 0.25em; line-height: 1; border-radius: 0.35em;\">\n",
       "    John Doe\n",
       "    <span style=\"font-size: 0.8em; font-weight: bold; line-height: 1; border-radius: 0.35em; vertical-align: middle; margin-left: 0.5rem\">PERSON</span>\n",
       "</mark>\n",
       " Project Manager \n",
       "<mark class=\"entity\" style=\"background: #aa9cfc; padding: 0.45em 0.6em; margin: 0 0.25em; line-height: 1; border-radius: 0.35em;\">\n",
       "    Doris Johnson\n",
       "    <span style=\"font-size: 0.8em; font-weight: bold; line-height: 1; border-radius: 0.35em; vertical-align: middle; margin-left: 0.5rem\">PERSON</span>\n",
       "</mark>\n",
       " Human Resources Manager Optimal Workplace Inc. \n",
       "<mark class=\"entity\" style=\"background: #e4e7d2; padding: 0.45em 0.6em; margin: 0 0.25em; line-height: 1; border-radius: 0.35em;\">\n",
       "    321\n",
       "    <span style=\"font-size: 0.8em; font-weight: bold; line-height: 1; border-radius: 0.35em; vertical-align: middle; margin-left: 0.5rem\">CARDINAL</span>\n",
       "</mark>\n",
       " \n",
       "<mark class=\"entity\" style=\"background: #ddd; padding: 0.45em 0.6em; margin: 0 0.25em; line-height: 1; border-radius: 0.35em;\">\n",
       "    Employment Avenue\n",
       "    <span style=\"font-size: 0.8em; font-weight: bold; line-height: 1; border-radius: 0.35em; vertical-align: middle; margin-left: 0.5rem\">FAC</span>\n",
       "</mark>\n",
       ". \n",
       "<mark class=\"entity\" style=\"background: #feca74; padding: 0.45em 0.6em; margin: 0 0.25em; line-height: 1; border-radius: 0.35em;\">\n",
       "    Sydney\n",
       "    <span style=\"font-size: 0.8em; font-weight: bold; line-height: 1; border-radius: 0.35em; vertical-align: middle; margin-left: 0.5rem\">GPE</span>\n",
       "</mark>\n",
       ", \n",
       "<mark class=\"entity\" style=\"background: #feca74; padding: 0.45em 0.6em; margin: 0 0.25em; line-height: 1; border-radius: 0.35em;\">\n",
       "    Australia\n",
       "    <span style=\"font-size: 0.8em; font-weight: bold; line-height: 1; border-radius: 0.35em; vertical-align: middle; margin-left: 0.5rem\">GPE</span>\n",
       "</mark>\n",
       " \n",
       "<mark class=\"entity\" style=\"background: #bfe1d9; padding: 0.45em 0.6em; margin: 0 0.25em; line-height: 1; border-radius: 0.35em;\">\n",
       "    5 June, 2015\n",
       "    <span style=\"font-size: 0.8em; font-weight: bold; line-height: 1; border-radius: 0.35em; vertical-align: middle; margin-left: 0.5rem\">DATE</span>\n",
       "</mark>\n",
       " Dear Ms. \n",
       "<mark class=\"entity\" style=\"background: #aa9cfc; padding: 0.45em 0.6em; margin: 0 0.25em; line-height: 1; border-radius: 0.35em;\">\n",
       "    Johnson\n",
       "    <span style=\"font-size: 0.8em; font-weight: bold; line-height: 1; border-radius: 0.35em; vertical-align: middle; margin-left: 0.5rem\">PERSON</span>\n",
       "</mark>\n",
       ", john.doe@gmail.com \n",
       "<mark class=\"entity\" style=\"background: #e4e7d2; padding: 0.45em 0.6em; margin: 0 0.25em; line-height: 1; border-radius: 0.35em;\">\n",
       "    111\n",
       "    <span style=\"font-size: 0.8em; font-weight: bold; line-height: 1; border-radius: 0.35em; vertical-align: middle; margin-left: 0.5rem\">CARDINAL</span>\n",
       "</mark>\n",
       " \n",
       "<mark class=\"entity\" style=\"background: #e4e7d2; padding: 0.45em 0.6em; margin: 0 0.25em; line-height: 1; border-radius: 0.35em;\">\n",
       "    416\n",
       "    <span style=\"font-size: 0.8em; font-weight: bold; line-height: 1; border-radius: 0.35em; vertical-align: middle; margin-left: 0.5rem\">CARDINAL</span>\n",
       "</mark>\n",
       "-821-9879 0 \n",
       "<mark class=\"entity\" style=\"background: #feca74; padding: 0.45em 0.6em; margin: 0 0.25em; line-height: 1; border-radius: 0.35em;\">\n",
       "    Sydney\n",
       "    <span style=\"font-size: 0.8em; font-weight: bold; line-height: 1; border-radius: 0.35em; vertical-align: middle; margin-left: 0.5rem\">GPE</span>\n",
       "</mark>\n",
       ", \n",
       "<mark class=\"entity\" style=\"background: #feca74; padding: 0.45em 0.6em; margin: 0 0.25em; line-height: 1; border-radius: 0.35em;\">\n",
       "    Australia\n",
       "    <span style=\"font-size: 0.8em; font-weight: bold; line-height: 1; border-radius: 0.35em; vertical-align: middle; margin-left: 0.5rem\">GPE</span>\n",
       "</mark>\n",
       " 9 linkedin.com/in/john.doe in john.doe \n",
       "<mark class=\"entity\" style=\"background: #e4e7d2; padding: 0.45em 0.6em; margin: 0 0.25em; line-height: 1; border-radius: 0.35em;\">\n",
       "    6\n",
       "    <span style=\"font-size: 0.8em; font-weight: bold; line-height: 1; border-radius: 0.35em; vertical-align: middle; margin-left: 0.5rem\">CARDINAL</span>\n",
       "</mark>\n",
       ") As a highly skilled project manager with \n",
       "<mark class=\"entity\" style=\"background: #bfe1d9; padding: 0.45em 0.6em; margin: 0 0.25em; line-height: 1; border-radius: 0.35em;\">\n",
       "    11 years\n",
       "    <span style=\"font-size: 0.8em; font-weight: bold; line-height: 1; border-radius: 0.35em; vertical-align: middle; margin-left: 0.5rem\">DATE</span>\n",
       "</mark>\n",
       " of experience, I am writing to express my interest in the project manager position at your company. Im \n",
       "<mark class=\"entity\" style=\"background: #bfe1d9; padding: 0.45em 0.6em; margin: 0 0.25em; line-height: 1; border-radius: 0.35em;\">\n",
       "    15 years old\n",
       "    <span style=\"font-size: 0.8em; font-weight: bold; line-height: 1; border-radius: 0.35em; vertical-align: middle; margin-left: 0.5rem\">DATE</span>\n",
       "</mark>\n",
       ". My experience aligns well, as I have worked in project management for \n",
       "<mark class=\"entity\" style=\"background: #bfe1d9; padding: 0.45em 0.6em; margin: 0 0.25em; line-height: 1; border-radius: 0.35em;\">\n",
       "    several years\n",
       "    <span style=\"font-size: 0.8em; font-weight: bold; line-height: 1; border-radius: 0.35em; vertical-align: middle; margin-left: 0.5rem\">DATE</span>\n",
       "</mark>\n",
       " with a prominent retailer, and I know I would make a valuable addition to your team. After working for over \n",
       "<mark class=\"entity\" style=\"background: #bfe1d9; padding: 0.45em 0.6em; margin: 0 0.25em; line-height: 1; border-radius: 0.35em;\">\n",
       "    a decade\n",
       "    <span style=\"font-size: 0.8em; font-weight: bold; line-height: 1; border-radius: 0.35em; vertical-align: middle; margin-left: 0.5rem\">DATE</span>\n",
       "</mark>\n",
       " in project management, I have advanced knowledge in developing scopes, keeping projects moving, submitting deliverables on time, and ensuring a seamless experience for all parties involved. Moreover, while my previous position afforded me a well-rounded skillset, including excellent relationship building and time management skills, I excel at: Outlining project scopes, managing timelines, and deadlines. Tracking and reporting on overall progress. Managing \n",
       "<mark class=\"entity\" style=\"background: #bfe1d9; padding: 0.45em 0.6em; margin: 0 0.25em; line-height: 1; border-radius: 0.35em;\">\n",
       "    daily\n",
       "    <span style=\"font-size: 0.8em; font-weight: bold; line-height: 1; border-radius: 0.35em; vertical-align: middle; margin-left: 0.5rem\">DATE</span>\n",
       "</mark>\n",
       " operations and implementation of new programs. Forecasting project revenue and ensuring all goals are met. In addition to my experience and relationship-building experience, I have a solid educational foundation and a passion for furthering projects that build loyalty and, in turn, grow revenue for your organization. I would much appreciate the opportunity to contribute to your ongoing growth and continued success. Please review my attached application for additional details regarding my expertise and achievements. Do not hesitate to reach out if you have any questions or need further clarification on my experience. I would love to meet with you and discuss this position in detail. Thank you for your consideration. Sincerely, \n",
       "<mark class=\"entity\" style=\"background: #aa9cfc; padding: 0.45em 0.6em; margin: 0 0.25em; line-height: 1; border-radius: 0.35em;\">\n",
       "    John Doe\n",
       "    <span style=\"font-size: 0.8em; font-weight: bold; line-height: 1; border-radius: 0.35em; vertical-align: middle; margin-left: 0.5rem\">PERSON</span>\n",
       "</mark>\n",
       " </div></span>"
      ],
      "text/plain": [
       "<IPython.core.display.HTML object>"
      ]
     },
     "metadata": {}
    },
    {
     "output_type": "stream",
     "name": "stdout",
     "text": [
      "******** Project Manager ************* Human Resources Manager Optimal Workplace Inc. 321 Employment Avenue. ******, ********* 5 June, 2015 Dear Ms. *******, john.doe@gmail.com 111 416-821-9879 0 ******, ********* 9 linkedin.com/in/john.doe in john.doe 6) As a highly skilled project manager with 11 years of experience, I am writing to express my interest in the project manager position at your company. Im 15 years old. My experience aligns well, as I have worked in project management for several years with a prominent retailer, and I know I would make a valuable addition to your team. After working for over a decade in project management, I have advanced knowledge in developing scopes, keeping projects moving, submitting deliverables on time, and ensuring a seamless experience for all parties involved. Moreover, while my previous position afforded me a well-rounded skillset, including excellent relationship building and time management skills, I excel at: Outlining project scopes, managing timelines, and deadlines. Tracking and reporting on overall progress. Managing daily operations and implementation of new programs. Forecasting project revenue and ensuring all goals are met. In addition to my experience and relationship-building experience, I have a solid educational foundation and a passion for furthering projects that build loyalty and, in turn, grow revenue for your organization. I would much appreciate the opportunity to contribute to your ongoing growth and continued success. Please review my attached application for additional details regarding my expertise and achievements. Do not hesitate to reach out if you have any questions or need further clarification on my experience. I would love to meet with you and discuss this position in detail. Thank you for your consideration. Sincerely, ******** \n"
     ]
    }
   ],
   "metadata": {}
  },
  {
   "cell_type": "code",
   "execution_count": null,
   "source": [],
   "outputs": [],
   "metadata": {}
  }
 ],
 "metadata": {
  "kernelspec": {
   "name": "python3",
   "display_name": "Python 3.8.8 64-bit ('base': conda)"
  },
  "language_info": {
   "codemirror_mode": {
    "name": "ipython",
    "version": 3
   },
   "file_extension": ".py",
   "mimetype": "text/x-python",
   "name": "python",
   "nbconvert_exporter": "python",
   "pygments_lexer": "ipython3",
   "version": "3.8.8"
  },
  "interpreter": {
   "hash": "bd34ee478fa0847ab87fc7d4e3aad97b380550d4c60f14d070d6733b8eb989aa"
  }
 },
 "nbformat": 4,
 "nbformat_minor": 5
}