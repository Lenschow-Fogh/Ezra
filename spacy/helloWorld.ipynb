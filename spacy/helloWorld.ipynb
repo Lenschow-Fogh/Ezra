{
 "cells": [
  {
   "cell_type": "code",
   "execution_count": 38,
   "id": "cff0c1d2",
   "metadata": {},
   "outputs": [
    {
     "name": "stderr",
     "output_type": "stream",
     "text": [
      "C:\\Users\\hanse\\anaconda3\\python.exe: can't open file 'python': [Errno 2] No such file or directory\n"
     ]
    }
   ],
   "source": [
    "# Setup\n",
    "import sys\n",
    "!{sys.executable} python -m spacy download en_core_web_lg"
   ]
  },
  {
   "cell_type": "code",
   "execution_count": 4,
   "id": "0d680e77",
   "metadata": {},
   "outputs": [],
   "source": [
    "# function to display basic entity info\n",
    "def show_ents(doc): \n",
    "    if doc.ents: \n",
    "        for ent in doc.ents: \n",
    "            print(ent.text+' - ' +str(ent.start_char) +' - '+ str(ent.end_char) +' - '+ent.label_+ ' - '+str(spacy.explain(ent.label_))) \n",
    "        else: \n",
    "            print('No named entities found.')"
   ]
  },
  {
   "cell_type": "code",
   "execution_count": 43,
   "id": "0b921892",
   "metadata": {},
   "outputs": [],
   "source": [
    "def censor_word(text, word):\n",
    "    censoredWord = \"*\" * len(word)\n",
    "    return text.replace(word, censoredWord)\n",
    "\n",
    "def censor_ents(doc, originalText):\n",
    "    if doc.ents:\n",
    "        censoredText = originalText\n",
    "        for ent in doc.ents:\n",
    "            label = ent.label_\n",
    "            if label == \"PERSON\" or label == \"GPE\":\n",
    "                censoredText = censor_word(censoredText, ent.text)\n",
    "    return censoredText"
   ]
  },
  {
   "cell_type": "code",
   "execution_count": 46,
   "id": "9756d965",
   "metadata": {},
   "outputs": [
    {
     "data": {
      "text/html": [
       "<span class=\"tex2jax_ignore\"><div class=\"entities\" style=\"line-height: 2.5; direction: ltr\">\n",
       "<mark class=\"entity\" style=\"background: #ddd; padding: 0.45em 0.6em; margin: 0 0.25em; line-height: 1; border-radius: 0.35em;\">\n",
       "    Morten LenschowHansen\n",
       "    <span style=\"font-size: 0.8em; font-weight: bold; line-height: 1; border-radius: 0.35em; vertical-align: middle; margin-left: 0.5rem\">PER</span>\n",
       "</mark>\n",
       " SOFTWARE TECHNOLOGY STUDENT \n",
       "<mark class=\"entity\" style=\"background: #7aecec; padding: 0.45em 0.6em; margin: 0 0.25em; line-height: 1; border-radius: 0.35em;\">\n",
       "    Aarhus University\n",
       "    <span style=\"font-size: 0.8em; font-weight: bold; line-height: 1; border-radius: 0.35em; vertical-align: middle; margin-left: 0.5rem\">ORG</span>\n",
       "</mark>\n",
       ", \n",
       "<mark class=\"entity\" style=\"background: #ff9561; padding: 0.45em 0.6em; margin: 0 0.25em; line-height: 1; border-radius: 0.35em;\">\n",
       "    Finlandsgade 22\n",
       "    <span style=\"font-size: 0.8em; font-weight: bold; line-height: 1; border-radius: 0.35em; vertical-align: middle; margin-left: 0.5rem\">LOC</span>\n",
       "</mark>\n",
       ", 8000 \n",
       "<mark class=\"entity\" style=\"background: #ff9561; padding: 0.45em 0.6em; margin: 0 0.25em; line-height: 1; border-radius: 0.35em;\">\n",
       "    Aarhus\n",
       "    <span style=\"font-size: 0.8em; font-weight: bold; line-height: 1; border-radius: 0.35em; vertical-align: middle; margin-left: 0.5rem\">LOC</span>\n",
       "</mark>\n",
       ", \n",
       "<mark class=\"entity\" style=\"background: #ff9561; padding: 0.45em 0.6em; margin: 0 0.25em; line-height: 1; border-radius: 0.35em;\">\n",
       "    Denmark\n",
       "    <span style=\"font-size: 0.8em; font-weight: bold; line-height: 1; border-radius: 0.35em; vertical-align: middle; margin-left: 0.5rem\">LOC</span>\n",
       "</mark>\n",
       "  (+45) 27 79 96 69 |  hansenmann2497@hotmail.com \n",
       "<mark class=\"entity\" style=\"background: #7aecec; padding: 0.45em 0.6em; margin: 0 0.25em; line-height: 1; border-radius: 0.35em;\">\n",
       "    Unity Technologies May 7\n",
       "    <span style=\"font-size: 0.8em; font-weight: bold; line-height: 1; border-radius: 0.35em; vertical-align: middle; margin-left: 0.5rem\">ORG</span>\n",
       "</mark>\n",
       ", 2020 \n",
       "<mark class=\"entity\" style=\"background: #ddd; padding: 0.45em 0.6em; margin: 0 0.25em; line-height: 1; border-radius: 0.35em;\">\n",
       "    NIELS HEMMINGSENS GADE\n",
       "    <span style=\"font-size: 0.8em; font-weight: bold; line-height: 1; border-radius: 0.35em; vertical-align: middle; margin-left: 0.5rem\">PER</span>\n",
       "</mark>\n",
       " 24 1153 \n",
       "<mark class=\"entity\" style=\"background: #7aecec; padding: 0.45em 0.6em; margin: 0 0.25em; line-height: 1; border-radius: 0.35em;\">\n",
       "    COPENHAGEN Application\n",
       "    <span style=\"font-size: 0.8em; font-weight: bold; line-height: 1; border-radius: 0.35em; vertical-align: middle; margin-left: 0.5rem\">ORG</span>\n",
       "</mark>\n",
       " for the internship (\n",
       "<mark class=\"entity\" style=\"background: #ddd; padding: 0.45em 0.6em; margin: 0 0.25em; line-height: 1; border-radius: 0.35em;\">\n",
       "    Fall 2020\n",
       "    <span style=\"font-size: 0.8em; font-weight: bold; line-height: 1; border-radius: 0.35em; vertical-align: middle; margin-left: 0.5rem\">MISC</span>\n",
       "</mark>\n",
       ") \n",
       "<mark class=\"entity\" style=\"background: #ddd; padding: 0.45em 0.6em; margin: 0 0.25em; line-height: 1; border-radius: 0.35em;\">\n",
       "    Dear Sir/Madam About Me\n",
       "    <span style=\"font-size: 0.8em; font-weight: bold; line-height: 1; border-radius: 0.35em; vertical-align: middle; margin-left: 0.5rem\">MISC</span>\n",
       "</mark>\n",
       " I am currently on my fourth semester of my Bachelor in Software Engineering at \n",
       "<mark class=\"entity\" style=\"background: #ff9561; padding: 0.45em 0.6em; margin: 0 0.25em; line-height: 1; border-radius: 0.35em;\">\n",
       "    Aarhus University\n",
       "    <span style=\"font-size: 0.8em; font-weight: bold; line-height: 1; border-radius: 0.35em; vertical-align: middle; margin-left: 0.5rem\">LOC</span>\n",
       "</mark>\n",
       ", \n",
       "<mark class=\"entity\" style=\"background: #ff9561; padding: 0.45em 0.6em; margin: 0 0.25em; line-height: 1; border-radius: 0.35em;\">\n",
       "    Denmark\n",
       "    <span style=\"font-size: 0.8em; font-weight: bold; line-height: 1; border-radius: 0.35em; vertical-align: middle; margin-left: 0.5rem\">LOC</span>\n",
       "</mark>\n",
       ". My current aim is achieving a Masters degree in computer science. In my free time I like to play games or soccer with friends, or follow sports such as F1 and eSports (\n",
       "<mark class=\"entity\" style=\"background: #7aecec; padding: 0.45em 0.6em; margin: 0 0.25em; line-height: 1; border-radius: 0.35em;\">\n",
       "    CS\n",
       "    <span style=\"font-size: 0.8em; font-weight: bold; line-height: 1; border-radius: 0.35em; vertical-align: middle; margin-left: 0.5rem\">ORG</span>\n",
       "</mark>\n",
       ":\n",
       "<mark class=\"entity\" style=\"background: #7aecec; padding: 0.45em 0.6em; margin: 0 0.25em; line-height: 1; border-radius: 0.35em;\">\n",
       "    GO &amp; RLCS\n",
       "    <span style=\"font-size: 0.8em; font-weight: bold; line-height: 1; border-radius: 0.35em; vertical-align: middle; margin-left: 0.5rem\">ORG</span>\n",
       "</mark>\n",
       "). I am a very social guy, I love to be around people and I tend to be funny and outgoing. Why \n",
       "<mark class=\"entity\" style=\"background: #7aecec; padding: 0.45em 0.6em; margin: 0 0.25em; line-height: 1; border-radius: 0.35em;\">\n",
       "    Unity Technologies\n",
       "    <span style=\"font-size: 0.8em; font-weight: bold; line-height: 1; border-radius: 0.35em; vertical-align: middle; margin-left: 0.5rem\">ORG</span>\n",
       "</mark>\n",
       "? \n",
       "<mark class=\"entity\" style=\"background: #7aecec; padding: 0.45em 0.6em; margin: 0 0.25em; line-height: 1; border-radius: 0.35em;\">\n",
       "    Unity Technologies provides a\n",
       "    <span style=\"font-size: 0.8em; font-weight: bold; line-height: 1; border-radius: 0.35em; vertical-align: middle; margin-left: 0.5rem\">ORG</span>\n",
       "</mark>\n",
       " innovative platform for creating games to businesses or consumers to reach targeted audiences. I am very keen on becoming part of this process. On my current semester I have developed a mobile application (reference to \n",
       "<mark class=\"entity\" style=\"background: #7aecec; padding: 0.45em 0.6em; margin: 0 0.25em; line-height: 1; border-radius: 0.35em;\">\n",
       "    Fruit Fly in\n",
       "    <span style=\"font-size: 0.8em; font-weight: bold; line-height: 1; border-radius: 0.35em; vertical-align: middle; margin-left: 0.5rem\">ORG</span>\n",
       "</mark>\n",
       " attached CV). Also I have worked on several other projects like writing code for \n",
       "<mark class=\"entity\" style=\"background: #ddd; padding: 0.45em 0.6em; margin: 0 0.25em; line-height: 1; border-radius: 0.35em;\">\n",
       "    the logic\n",
       "    <span style=\"font-size: 0.8em; font-weight: bold; line-height: 1; border-radius: 0.35em; vertical-align: middle; margin-left: 0.5rem\">MISC</span>\n",
       "</mark>\n",
       ", data binding and flow of programs. This has given me experience on non-game applications. I \n",
       "<mark class=\"entity\" style=\"background: #ff9561; padding: 0.45em 0.6em; margin: 0 0.25em; line-height: 1; border-radius: 0.35em;\">\n",
       "    thoroughly enjoyed\n",
       "    <span style=\"font-size: 0.8em; font-weight: bold; line-height: 1; border-radius: 0.35em; vertical-align: middle; margin-left: 0.5rem\">LOC</span>\n",
       "</mark>\n",
       " working with this, and it ensured me that it is something I want to continue working with, therefore \n",
       "<mark class=\"entity\" style=\"background: #7aecec; padding: 0.45em 0.6em; margin: 0 0.25em; line-height: 1; border-radius: 0.35em;\">\n",
       "    Unity Technologies\n",
       "    <span style=\"font-size: 0.8em; font-weight: bold; line-height: 1; border-radius: 0.35em; vertical-align: middle; margin-left: 0.5rem\">ORG</span>\n",
       "</mark>\n",
       ". Why me? \n",
       "<mark class=\"entity\" style=\"background: #ddd; padding: 0.45em 0.6em; margin: 0 0.25em; line-height: 1; border-radius: 0.35em;\">\n",
       "    Professionally\n",
       "    <span style=\"font-size: 0.8em; font-weight: bold; line-height: 1; border-radius: 0.35em; vertical-align: middle; margin-left: 0.5rem\">PER</span>\n",
       "</mark>\n",
       " I have a lot to offer, I have great experience with C# and other OOP languages, design principles (such as SOLID), software test and \n",
       "<mark class=\"entity\" style=\"background: #ddd; padding: 0.45em 0.6em; margin: 0 0.25em; line-height: 1; border-radius: 0.35em;\">\n",
       "    GUI-applications\n",
       "    <span style=\"font-size: 0.8em; font-weight: bold; line-height: 1; border-radius: 0.35em; vertical-align: middle; margin-left: 0.5rem\">MISC</span>\n",
       "</mark>\n",
       " (full stack). \n",
       "<mark class=\"entity\" style=\"background: #ddd; padding: 0.45em 0.6em; margin: 0 0.25em; line-height: 1; border-radius: 0.35em;\">\n",
       "    Process-wise\n",
       "    <span style=\"font-size: 0.8em; font-weight: bold; line-height: 1; border-radius: 0.35em; vertical-align: middle; margin-left: 0.5rem\">MISC</span>\n",
       "</mark>\n",
       " I have worked in project teams and gained experience with SCRUM. I can easily communicate with everyone on/or off the team and I like to work in teams. I always strive to be the best I can be, and that goes for my work/study as well, where I \n",
       "<mark class=\"entity\" style=\"background: #ddd; padding: 0.45em 0.6em; margin: 0 0.25em; line-height: 1; border-radius: 0.35em;\">\n",
       "    always try\n",
       "    <span style=\"font-size: 0.8em; font-weight: bold; line-height: 1; border-radius: 0.35em; vertical-align: middle; margin-left: 0.5rem\">MISC</span>\n",
       "</mark>\n",
       " to deliver the best results. I am looking forward to your reply. Sincerely, \n",
       "<mark class=\"entity\" style=\"background: #ddd; padding: 0.45em 0.6em; margin: 0 0.25em; line-height: 1; border-radius: 0.35em;\">\n",
       "    Morten Lenschow Hansen MORTEN LENSCHOW HANSEN\n",
       "    <span style=\"font-size: 0.8em; font-weight: bold; line-height: 1; border-radius: 0.35em; vertical-align: middle; margin-left: 0.5rem\">PER</span>\n",
       "</mark>\n",
       "</div></span>"
      ],
      "text/plain": [
       "<IPython.core.display.HTML object>"
      ]
     },
     "metadata": {},
     "output_type": "display_data"
    },
    {
     "name": "stdout",
     "output_type": "stream",
     "text": [
      "Morten LenschowHansen SOFTWARE TECHNOLOGY STUDENT Aarhus University, Finlandsgade 22, 8000 Aarhus, Denmark  (+45) 27 79 96 69 |  hansenmann2497@hotmail.com Unity Technologies May 7, 2020 NIELS HEMMINGSENS GADE 24 1153 COPENHAGEN Application for the internship (Fall 2020) Dear Sir/Madam About Me I am currently on my fourth semester of my Bachelor in Software Engineering at Aarhus University, Denmark. My current aim is achieving a Masters degree in computer science. In my free time I like to play games or soccer with friends, or follow sports such as F1 and eSports (CS:GO & RLCS). I am a very social guy, I love to be around people and I tend to be funny and outgoing. Why Unity Technologies? Unity Technologies provides a innovative platform for creating games to businesses or consumers to reach targeted audiences. I am very keen on becoming part of this process. On my current semester I have developed a mobile application (reference to Fruit Fly in attached CV). Also I have worked on several other projects like writing code for the logic, data binding and flow of programs. This has given me experience on non-game applications. I thoroughly enjoyed working with this, and it ensured me that it is something I want to continue working with, therefore Unity Technologies. Why me? Professionally I have a lot to offer, I have great experience with C# and other OOP languages, design principles (such as SOLID), software test and GUI-applications (full stack). Process-wise I have worked in project teams and gained experience with SCRUM. I can easily communicate with everyone on/or off the team and I like to work in teams. I always strive to be the best I can be, and that goes for my work/study as well, where I always try to deliver the best results. I am looking forward to your reply. Sincerely, Morten Lenschow Hansen MORTEN LENSCHOW HANSEN\n"
     ]
    }
   ],
   "source": [
    "import spacy\n",
    "from spacy import displacy\n",
    "\n",
    "text = \"When Sebastian Thrun started working on self-driving cars at Google in 2007, few people outside of the company took him seriously.\"\n",
    "mortText = \"Morten LenschowHansen SOFTWARE TECHNOLOGY STUDENT Aarhus University, Finlandsgade 22, 8000 Aarhus, Denmark  (+45) 27 79 96 69 |  hansenmann2497@hotmail.com Unity Technologies May 7, 2020 NIELS HEMMINGSENS GADE 24 1153 COPENHAGEN Application for the internship (Fall 2020) Dear Sir/Madam About Me I am currently on my fourth semester of my Bachelor in Software Engineering at Aarhus University, Denmark. My current aim is achieving a Masters degree in computer science. In my free time I like to play games or soccer with friends, or follow sports such as F1 and eSports (CS:GO & RLCS). I am a very social guy, I love to be around people and I tend to be funny and outgoing. Why Unity Technologies? Unity Technologies provides a innovative platform for creating games to businesses or consumers to reach targeted audiences. I am very keen on becoming part of this process. On my current semester I have developed a mobile application (reference to Fruit Fly in attached CV). Also I have worked on several other projects like writing code for the logic, data binding and flow of programs. This has given me experience on non-game applications. I thoroughly enjoyed working with this, and it ensured me that it is something I want to continue working with, therefore Unity Technologies. Why me? Professionally I have a lot to offer, I have great experience with C# and other OOP languages, design principles (such as SOLID), software test and GUI-applications (full stack). Process-wise I have worked in project teams and gained experience with SCRUM. I can easily communicate with everyone on/or off the team and I like to work in teams. I always strive to be the best I can be, and that goes for my work/study as well, where I always try to deliver the best results. I am looking forward to your reply. Sincerely, Morten Lenschow Hansen MORTEN LENSCHOW HANSEN\"\n",
    "\n",
    "nlp = spacy.load(\"en_core_web_lg\")\n",
    "doc = nlp(mortText)\n",
    "displacy.render(doc, style=\"ent\")\n",
    "print(censor_ents(doc, mortText))"
   ]
  },
  {
   "cell_type": "code",
   "execution_count": null,
   "id": "bc965f3b",
   "metadata": {},
   "outputs": [],
   "source": []
  }
 ],
 "metadata": {
  "kernelspec": {
   "display_name": "Python 3",
   "language": "python",
   "name": "python3"
  },
  "language_info": {
   "codemirror_mode": {
    "name": "ipython",
    "version": 3
   },
   "file_extension": ".py",
   "mimetype": "text/x-python",
   "name": "python",
   "nbconvert_exporter": "python",
   "pygments_lexer": "ipython3",
   "version": "3.8.8"
  }
 },
 "nbformat": 4,
 "nbformat_minor": 5
}
