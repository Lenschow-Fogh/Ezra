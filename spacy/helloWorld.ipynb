{
 "cells": [
  {
   "cell_type": "code",
   "execution_count": 8,
   "id": "cff0c1d2",
   "metadata": {},
   "outputs": [
    {
     "name": "stderr",
     "output_type": "stream",
     "text": [
      "C:\\Users\\hanse\\anaconda3\\python.exe: can't open file 'python3': [Errno 2] No such file or directory\n"
     ]
    }
   ],
   "source": [
    "# Setup\n",
    "import sys\n",
    "!{sys.executable} python -m spacy download en_core_web_trf"
   ]
  },
  {
   "cell_type": "code",
   "execution_count": 3,
   "id": "9756d965",
   "metadata": {},
   "outputs": [
    {
     "ename": "OSError",
     "evalue": "[E050] Can't find model 'en_core_web_trf'. It doesn't seem to be a Python package or a valid path to a data directory.",
     "output_type": "error",
     "traceback": [
      "\u001b[1;31m---------------------------------------------------------------------------\u001b[0m",
      "\u001b[1;31mOSError\u001b[0m                                   Traceback (most recent call last)",
      "\u001b[1;32m<ipython-input-3-401c353c6151>\u001b[0m in \u001b[0;36m<module>\u001b[1;34m\u001b[0m\n\u001b[0;32m      5\u001b[0m \u001b[0mmortText\u001b[0m \u001b[1;33m=\u001b[0m \u001b[1;34m\"Morten LenschowHansen SOFTWARE TECHNOLOGY STUDENT Aarhus University, Finlandsgade 22, 8000 Aarhus, Denmark  (+45) 27 79 96 69 |  hansenmann2497@hotmail.com Unity Technologies May 7, 2020 NIELS HEMMINGSENS GADE 24 1153 COPENHAGEN Application for the internship (Fall 2020) Dear Sir/Madam About Me I am currently on my fourth semester of my Bachelor in Software Engineering at Aarhus University, Denmark. My current aim is achieving a Masters degree in computer science. In my free time I like to play games or soccer with friends, or follow sports such as F1 and eSports (CS:GO & RLCS). I am a very social guy, I love to be around people and I tend to be funny and outgoing. Why Unity Technologies? Unity Technologies provides a innovative platform for creating games to businesses or consumers to reach targeted audiences. I am very keen on becoming part of this process. On my current semester I have developed a mobile application (reference to Fruit Fly in attached CV). Also I have worked on several other projects like writing code for the logic, data binding and flow of programs. This has given me experience on non-game applications. I thoroughly enjoyed working with this, and it ensured me that it is something I want to continue working with, therefore Unity Technologies. Why me? Professionally I have a lot to offer, I have great experience with C# and other OOP languages, design principles (such as SOLID), software test and GUI-applications (full stack). Process-wise I have worked in project teams and gained experience with SCRUM. I can easily communicate with everyone on/or off the team and I like to work in teams. I always strive to be the best I can be, and that goes for my work/study as well, where I always try to deliver the best results. I am looking forward to your reply. Sincerely, Morten Lenschow Hansen MORTEN LENSCHOW HANSEN\"\u001b[0m\u001b[1;33m\u001b[0m\u001b[1;33m\u001b[0m\u001b[0m\n\u001b[0;32m      6\u001b[0m \u001b[1;33m\u001b[0m\u001b[0m\n\u001b[1;32m----> 7\u001b[1;33m \u001b[0mnlp\u001b[0m \u001b[1;33m=\u001b[0m \u001b[0mspacy\u001b[0m\u001b[1;33m.\u001b[0m\u001b[0mload\u001b[0m\u001b[1;33m(\u001b[0m\u001b[1;34m\"en_core_web_trf\"\u001b[0m\u001b[1;33m)\u001b[0m\u001b[1;33m\u001b[0m\u001b[1;33m\u001b[0m\u001b[0m\n\u001b[0m\u001b[0;32m      8\u001b[0m \u001b[0mdoc\u001b[0m \u001b[1;33m=\u001b[0m \u001b[0mnlp\u001b[0m\u001b[1;33m(\u001b[0m\u001b[0mmortText\u001b[0m\u001b[1;33m)\u001b[0m\u001b[1;33m\u001b[0m\u001b[1;33m\u001b[0m\u001b[0m\n\u001b[0;32m      9\u001b[0m \u001b[0mdisplacy\u001b[0m\u001b[1;33m.\u001b[0m\u001b[0mrender\u001b[0m\u001b[1;33m(\u001b[0m\u001b[0mdoc\u001b[0m\u001b[1;33m,\u001b[0m \u001b[0mstyle\u001b[0m\u001b[1;33m=\u001b[0m\u001b[1;34m\"ent\"\u001b[0m\u001b[1;33m)\u001b[0m\u001b[1;33m\u001b[0m\u001b[1;33m\u001b[0m\u001b[0m\n",
      "\u001b[1;32m~\\anaconda3\\lib\\site-packages\\spacy\\__init__.py\u001b[0m in \u001b[0;36mload\u001b[1;34m(name, vocab, disable, exclude, config)\u001b[0m\n\u001b[0;32m     49\u001b[0m     \u001b[0mRETURNS\u001b[0m \u001b[1;33m(\u001b[0m\u001b[0mLanguage\u001b[0m\u001b[1;33m)\u001b[0m\u001b[1;33m:\u001b[0m \u001b[0mThe\u001b[0m \u001b[0mloaded\u001b[0m \u001b[0mnlp\u001b[0m \u001b[0mobject\u001b[0m\u001b[1;33m.\u001b[0m\u001b[1;33m\u001b[0m\u001b[1;33m\u001b[0m\u001b[0m\n\u001b[0;32m     50\u001b[0m     \"\"\"\n\u001b[1;32m---> 51\u001b[1;33m     return util.load_model(\n\u001b[0m\u001b[0;32m     52\u001b[0m         \u001b[0mname\u001b[0m\u001b[1;33m,\u001b[0m \u001b[0mvocab\u001b[0m\u001b[1;33m=\u001b[0m\u001b[0mvocab\u001b[0m\u001b[1;33m,\u001b[0m \u001b[0mdisable\u001b[0m\u001b[1;33m=\u001b[0m\u001b[0mdisable\u001b[0m\u001b[1;33m,\u001b[0m \u001b[0mexclude\u001b[0m\u001b[1;33m=\u001b[0m\u001b[0mexclude\u001b[0m\u001b[1;33m,\u001b[0m \u001b[0mconfig\u001b[0m\u001b[1;33m=\u001b[0m\u001b[0mconfig\u001b[0m\u001b[1;33m\u001b[0m\u001b[1;33m\u001b[0m\u001b[0m\n\u001b[0;32m     53\u001b[0m     )\n",
      "\u001b[1;32m~\\anaconda3\\lib\\site-packages\\spacy\\util.py\u001b[0m in \u001b[0;36mload_model\u001b[1;34m(name, vocab, disable, exclude, config)\u001b[0m\n\u001b[0;32m    326\u001b[0m     \u001b[1;32mif\u001b[0m \u001b[0mname\u001b[0m \u001b[1;32min\u001b[0m \u001b[0mOLD_MODEL_SHORTCUTS\u001b[0m\u001b[1;33m:\u001b[0m\u001b[1;33m\u001b[0m\u001b[1;33m\u001b[0m\u001b[0m\n\u001b[0;32m    327\u001b[0m         \u001b[1;32mraise\u001b[0m \u001b[0mIOError\u001b[0m\u001b[1;33m(\u001b[0m\u001b[0mErrors\u001b[0m\u001b[1;33m.\u001b[0m\u001b[0mE941\u001b[0m\u001b[1;33m.\u001b[0m\u001b[0mformat\u001b[0m\u001b[1;33m(\u001b[0m\u001b[0mname\u001b[0m\u001b[1;33m=\u001b[0m\u001b[0mname\u001b[0m\u001b[1;33m,\u001b[0m \u001b[0mfull\u001b[0m\u001b[1;33m=\u001b[0m\u001b[0mOLD_MODEL_SHORTCUTS\u001b[0m\u001b[1;33m[\u001b[0m\u001b[0mname\u001b[0m\u001b[1;33m]\u001b[0m\u001b[1;33m)\u001b[0m\u001b[1;33m)\u001b[0m\u001b[1;33m\u001b[0m\u001b[1;33m\u001b[0m\u001b[0m\n\u001b[1;32m--> 328\u001b[1;33m     \u001b[1;32mraise\u001b[0m \u001b[0mIOError\u001b[0m\u001b[1;33m(\u001b[0m\u001b[0mErrors\u001b[0m\u001b[1;33m.\u001b[0m\u001b[0mE050\u001b[0m\u001b[1;33m.\u001b[0m\u001b[0mformat\u001b[0m\u001b[1;33m(\u001b[0m\u001b[0mname\u001b[0m\u001b[1;33m=\u001b[0m\u001b[0mname\u001b[0m\u001b[1;33m)\u001b[0m\u001b[1;33m)\u001b[0m\u001b[1;33m\u001b[0m\u001b[1;33m\u001b[0m\u001b[0m\n\u001b[0m\u001b[0;32m    329\u001b[0m \u001b[1;33m\u001b[0m\u001b[0m\n\u001b[0;32m    330\u001b[0m \u001b[1;33m\u001b[0m\u001b[0m\n",
      "\u001b[1;31mOSError\u001b[0m: [E050] Can't find model 'en_core_web_trf'. It doesn't seem to be a Python package or a valid path to a data directory."
     ]
    }
   ],
   "source": [
    "import spacy\n",
    "from spacy import displacy\n",
    "\n",
    "text = \"When Sebastian Thrun started working on self-driving cars at Google in 2007, few people outside of the company took him seriously.\"\n",
    "mortText = \"Morten LenschowHansen SOFTWARE TECHNOLOGY STUDENT Aarhus University, Finlandsgade 22, 8000 Aarhus, Denmark  (+45) 27 79 96 69 |  hansenmann2497@hotmail.com Unity Technologies May 7, 2020 NIELS HEMMINGSENS GADE 24 1153 COPENHAGEN Application for the internship (Fall 2020) Dear Sir/Madam About Me I am currently on my fourth semester of my Bachelor in Software Engineering at Aarhus University, Denmark. My current aim is achieving a Masters degree in computer science. In my free time I like to play games or soccer with friends, or follow sports such as F1 and eSports (CS:GO & RLCS). I am a very social guy, I love to be around people and I tend to be funny and outgoing. Why Unity Technologies? Unity Technologies provides a innovative platform for creating games to businesses or consumers to reach targeted audiences. I am very keen on becoming part of this process. On my current semester I have developed a mobile application (reference to Fruit Fly in attached CV). Also I have worked on several other projects like writing code for the logic, data binding and flow of programs. This has given me experience on non-game applications. I thoroughly enjoyed working with this, and it ensured me that it is something I want to continue working with, therefore Unity Technologies. Why me? Professionally I have a lot to offer, I have great experience with C# and other OOP languages, design principles (such as SOLID), software test and GUI-applications (full stack). Process-wise I have worked in project teams and gained experience with SCRUM. I can easily communicate with everyone on/or off the team and I like to work in teams. I always strive to be the best I can be, and that goes for my work/study as well, where I always try to deliver the best results. I am looking forward to your reply. Sincerely, Morten Lenschow Hansen MORTEN LENSCHOW HANSEN\"\n",
    "\n",
    "nlp = spacy.load(\"en_core_web_trf\")\n",
    "doc = nlp(mortText)\n",
    "displacy.render(doc, style=\"ent\")"
   ]
  },
  {
   "cell_type": "code",
   "execution_count": null,
   "id": "bc965f3b",
   "metadata": {},
   "outputs": [],
   "source": []
  }
 ],
 "metadata": {
  "kernelspec": {
   "display_name": "Python 3",
   "language": "python",
   "name": "python3"
  },
  "language_info": {
   "codemirror_mode": {
    "name": "ipython",
    "version": 3
   },
   "file_extension": ".py",
   "mimetype": "text/x-python",
   "name": "python",
   "nbconvert_exporter": "python",
   "pygments_lexer": "ipython3",
   "version": "3.8.8"
  }
 },
 "nbformat": 4,
 "nbformat_minor": 5
}
