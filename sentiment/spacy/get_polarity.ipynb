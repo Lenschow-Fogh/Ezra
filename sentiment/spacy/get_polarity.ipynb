{
 "cells": [
  {
   "cell_type": "code",
   "execution_count": 17,
   "source": [
    "import json\r\n",
    "\r\n",
    "# Borrowed from https://stats.stackexchange.com/a/70807\r\n",
    "def normalize_dict(d):\r\n",
    "    v_min = min(d.values())\r\n",
    "    v_max = max(d.values())\r\n",
    "    for k in d:\r\n",
    "        d[k] = (d[k]-v_min)/(v_max-v_min)\r\n",
    "\r\n",
    "with open('../datasets/4_word_weight_m_ordered.json') as json_file:\r\n",
    "    m_data = json.load(json_file)\r\n",
    "\r\n",
    "with open('../datasets/4_word_weight_w.json') as json_file:\r\n",
    "    w_data = json.load(json_file)\r\n",
    "\r\n",
    "normalize_dict(m_data)\r\n",
    "normalize_dict(w_data)"
   ],
   "outputs": [],
   "metadata": {}
  },
  {
   "cell_type": "code",
   "execution_count": 22,
   "source": [
    "from collections import OrderedDict\r\n",
    "\r\n",
    "pol_dict = {key: w_data[key] - m_data.get(key, 0) for key in w_data}\r\n",
    "for k, v in m_data.items():\r\n",
    "    if k not in pol_dict:\r\n",
    "        pol_dict[k] = -v\r\n",
    "\r\n",
    "with open('../datasets/5_word_polarity.json', \"w\") as outFile:\r\n",
    "    json.dump(pol_dict, outFile)\r\n",
    "\r\n",
    "desc_pol_dict = OrderedDict(sorted(pol_dict.items(), key=lambda kv: kv[1], reverse=True))\r\n",
    "\r\n",
    "with open('../datasets/5_word_polarity_ordered.json', \"w\") as outFile:\r\n",
    "    json.dump(desc_pol_dict, outFile)"
   ],
   "outputs": [],
   "metadata": {}
  }
 ],
 "metadata": {
  "orig_nbformat": 4,
  "language_info": {
   "name": "python",
   "version": "3.9.7",
   "mimetype": "text/x-python",
   "codemirror_mode": {
    "name": "ipython",
    "version": 3
   },
   "pygments_lexer": "ipython3",
   "nbconvert_exporter": "python",
   "file_extension": ".py"
  },
  "kernelspec": {
   "name": "python3",
   "display_name": "Python 3.9.7 64-bit (windows store)"
  },
  "interpreter": {
   "hash": "5ce0bbaaba556c243eee45087b7684ce43fda2aa9a5b0798832d1be21bf73af7"
  }
 },
 "nbformat": 4,
 "nbformat_minor": 2
}