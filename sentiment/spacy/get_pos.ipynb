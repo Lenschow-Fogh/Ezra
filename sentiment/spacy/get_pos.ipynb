{
 "cells": [
  {
   "cell_type": "code",
   "execution_count": 62,
   "source": [
    "import json\r\n",
    "import spacy\r\n",
    "\r\n",
    "with open('../datasets/3_text_and_gender_SM.json') as json_file:\r\n",
    "    data = json.load(json_file)\r\n",
    "\r\n",
    "with open('../datasets/5_word_polarity.json') as json_file:\r\n",
    "    polarity_dict = json.load(json_file)\r\n",
    "\r\n",
    "nlp = spacy.load(\"en_core_web_lg\")"
   ],
   "outputs": [],
   "metadata": {}
  },
  {
   "cell_type": "code",
   "execution_count": 63,
   "source": [
    "corpus =    {\r\n",
    "                'X': [], \r\n",
    "                'label': []\r\n",
    "            }\r\n",
    "# corpus['X'].append({'Sentence #', 'Word', 'Lemma', 'POS', 'Tag', 'Dep', 'Polarity'})\r\n",
    "# corpus['label'].append({'Gender'})\r\n",
    "\r\n",
    "for article in data['articles']:\r\n",
    "    doc = nlp(article['text'])\r\n",
    "    assert doc.has_annotation(\"SENT_START\")\r\n",
    "    for sent in doc.sents:\r\n",
    "        for token in sent:\r\n",
    "            corpus['X'].append({'sentence': 1, 'word': token.text, 'lemma': token.lemma_, 'pos': token.pos_, 'dep': token.dep_, 'polarity': polarity_dict[token.lemma_] if token.lemma_ in polarity_dict else 0})\r\n",
    "            corpus['label'].append({'gender': article['gender']})\r\n",
    "\r\n",
    "with open('../datasets/6_dataset.json', \"w\") as outFile:\r\n",
    "    json.dump(corpus, outFile)"
   ],
   "outputs": [],
   "metadata": {}
  }
 ],
 "metadata": {
  "orig_nbformat": 4,
  "language_info": {
   "name": "python",
   "version": "3.9.7",
   "mimetype": "text/x-python",
   "codemirror_mode": {
    "name": "ipython",
    "version": 3
   },
   "pygments_lexer": "ipython3",
   "nbconvert_exporter": "python",
   "file_extension": ".py"
  },
  "kernelspec": {
   "name": "python3",
   "display_name": "Python 3.9.7 64-bit (windows store)"
  },
  "interpreter": {
   "hash": "5ce0bbaaba556c243eee45087b7684ce43fda2aa9a5b0798832d1be21bf73af7"
  }
 },
 "nbformat": 4,
 "nbformat_minor": 2
}