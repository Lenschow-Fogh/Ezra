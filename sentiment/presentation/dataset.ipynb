{
 "cells": [
  {
   "cell_type": "code",
   "execution_count": 108,
   "metadata": {},
   "outputs": [],
   "source": [
    "import re\n",
    "import json\n",
    "import string\n",
    "import nltk\n",
    "import numpy as np\n",
    "import pandas as pd\n",
    "import seaborn as sns\n",
    "# from wordcloud import WordCloud\n",
    "from collections import Counter\n",
    "import matplotlib.pyplot as plt\n",
    "from sklearn.model_selection import train_test_split\n",
    "from sklearn.feature_extraction.text import  CountVectorizer\n",
    "from sklearn.naive_bayes import MultinomialNB\n",
    "from sklearn.metrics import confusion_matrix, classification_report, accuracy_score"
   ]
  },
  {
   "cell_type": "code",
   "execution_count": 109,
   "metadata": {},
   "outputs": [
    {
     "name": "stdout",
     "output_type": "stream",
     "text": [
      "{'category': 'CRIME', 'headline': 'There Were 2 Mass Shootings In Texas Last Week, But Only 1 On TV', 'authors': 'Melissa Jeltsen', 'link': 'https://www.huffingtonpost.com/entry/texas-amanda-painter-mass-shooting_us_5b081ab4e4b0802d69caad89', 'short_description': 'She left her husband. He killed their children. Just another day in America.', 'date': '2018-05-26'}\n"
     ]
    }
   ],
   "source": [
    "df = pd.read_json('../datasets/1_newsDataset.json')\n",
    "print(df['articles'][0])"
   ]
  },
  {
   "cell_type": "code",
   "execution_count": 110,
   "metadata": {},
   "outputs": [
    {
     "name": "stdout",
     "output_type": "stream",
     "text": [
      "shape: (200853, 7)\n"
     ]
    },
    {
     "data": {
      "text/html": [
       "<div>\n",
       "<style scoped>\n",
       "    .dataframe tbody tr th:only-of-type {\n",
       "        vertical-align: middle;\n",
       "    }\n",
       "\n",
       "    .dataframe tbody tr th {\n",
       "        vertical-align: top;\n",
       "    }\n",
       "\n",
       "    .dataframe thead th {\n",
       "        text-align: right;\n",
       "    }\n",
       "</style>\n",
       "<table border=\"1\" class=\"dataframe\">\n",
       "  <thead>\n",
       "    <tr style=\"text-align: right;\">\n",
       "      <th></th>\n",
       "      <th>category</th>\n",
       "      <th>headline</th>\n",
       "      <th>authors</th>\n",
       "      <th>link</th>\n",
       "      <th>short_description</th>\n",
       "      <th>date</th>\n",
       "    </tr>\n",
       "  </thead>\n",
       "  <tbody>\n",
       "    <tr>\n",
       "      <th>0</th>\n",
       "      <td>CRIME</td>\n",
       "      <td>There Were 2 Mas...</td>\n",
       "      <td>Melissa Jeltsen</td>\n",
       "      <td>https://www.huff...</td>\n",
       "      <td>She left her hus...</td>\n",
       "      <td>2018-05-26</td>\n",
       "    </tr>\n",
       "    <tr>\n",
       "      <th>1</th>\n",
       "      <td>ENTERTAINMENT</td>\n",
       "      <td>Will Smith Joins...</td>\n",
       "      <td>Andy McDonald</td>\n",
       "      <td>https://www.huff...</td>\n",
       "      <td>Of course it has...</td>\n",
       "      <td>2018-05-26</td>\n",
       "    </tr>\n",
       "    <tr>\n",
       "      <th>2</th>\n",
       "      <td>ENTERTAINMENT</td>\n",
       "      <td>Hugh Grant Marri...</td>\n",
       "      <td>Ron Dicker</td>\n",
       "      <td>https://www.huff...</td>\n",
       "      <td>The actor and hi...</td>\n",
       "      <td>2018-05-26</td>\n",
       "    </tr>\n",
       "    <tr>\n",
       "      <th>3</th>\n",
       "      <td>ENTERTAINMENT</td>\n",
       "      <td>Jim Carrey Blast...</td>\n",
       "      <td>Ron Dicker</td>\n",
       "      <td>https://www.huff...</td>\n",
       "      <td>The actor gives ...</td>\n",
       "      <td>2018-05-26</td>\n",
       "    </tr>\n",
       "    <tr>\n",
       "      <th>4</th>\n",
       "      <td>ENTERTAINMENT</td>\n",
       "      <td>Julianna Marguli...</td>\n",
       "      <td>Ron Dicker</td>\n",
       "      <td>https://www.huff...</td>\n",
       "      <td>The \"Dietland\" a...</td>\n",
       "      <td>2018-05-26</td>\n",
       "    </tr>\n",
       "    <tr>\n",
       "      <th>5</th>\n",
       "      <td>ENTERTAINMENT</td>\n",
       "      <td>Morgan Freeman '...</td>\n",
       "      <td>Ron Dicker</td>\n",
       "      <td>https://www.huff...</td>\n",
       "      <td>\"It is not right...</td>\n",
       "      <td>2018-05-26</td>\n",
       "    </tr>\n",
       "    <tr>\n",
       "      <th>6</th>\n",
       "      <td>ENTERTAINMENT</td>\n",
       "      <td>Donald Trump Is ...</td>\n",
       "      <td>Ron Dicker</td>\n",
       "      <td>https://www.huff...</td>\n",
       "      <td>It's catchy, all...</td>\n",
       "      <td>2018-05-26</td>\n",
       "    </tr>\n",
       "    <tr>\n",
       "      <th>7</th>\n",
       "      <td>ENTERTAINMENT</td>\n",
       "      <td>What To Watch On...</td>\n",
       "      <td>Todd Van Luling</td>\n",
       "      <td>https://www.huff...</td>\n",
       "      <td>There's a great ...</td>\n",
       "      <td>2018-05-26</td>\n",
       "    </tr>\n",
       "    <tr>\n",
       "      <th>8</th>\n",
       "      <td>ENTERTAINMENT</td>\n",
       "      <td>Mike Myers Revea...</td>\n",
       "      <td>Andy McDonald</td>\n",
       "      <td>https://www.huff...</td>\n",
       "      <td>Myer's kids may ...</td>\n",
       "      <td>2018-05-26</td>\n",
       "    </tr>\n",
       "    <tr>\n",
       "      <th>9</th>\n",
       "      <td>ENTERTAINMENT</td>\n",
       "      <td>What To Watch On...</td>\n",
       "      <td>Todd Van Luling</td>\n",
       "      <td>https://www.huff...</td>\n",
       "      <td>You're getting a...</td>\n",
       "      <td>2018-05-26</td>\n",
       "    </tr>\n",
       "  </tbody>\n",
       "</table>\n",
       "</div>"
      ],
      "text/plain": [
       "        category  \\\n",
       "0          CRIME   \n",
       "1  ENTERTAINMENT   \n",
       "2  ENTERTAINMENT   \n",
       "3  ENTERTAINMENT   \n",
       "4  ENTERTAINMENT   \n",
       "5  ENTERTAINMENT   \n",
       "6  ENTERTAINMENT   \n",
       "7  ENTERTAINMENT   \n",
       "8  ENTERTAINMENT   \n",
       "9  ENTERTAINMENT   \n",
       "\n",
       "              headline  \\\n",
       "0  There Were 2 Mas...   \n",
       "1  Will Smith Joins...   \n",
       "2  Hugh Grant Marri...   \n",
       "3  Jim Carrey Blast...   \n",
       "4  Julianna Marguli...   \n",
       "5  Morgan Freeman '...   \n",
       "6  Donald Trump Is ...   \n",
       "7  What To Watch On...   \n",
       "8  Mike Myers Revea...   \n",
       "9  What To Watch On...   \n",
       "\n",
       "           authors  \\\n",
       "0  Melissa Jeltsen   \n",
       "1    Andy McDonald   \n",
       "2       Ron Dicker   \n",
       "3       Ron Dicker   \n",
       "4       Ron Dicker   \n",
       "5       Ron Dicker   \n",
       "6       Ron Dicker   \n",
       "7  Todd Van Luling   \n",
       "8    Andy McDonald   \n",
       "9  Todd Van Luling   \n",
       "\n",
       "                  link  \\\n",
       "0  https://www.huff...   \n",
       "1  https://www.huff...   \n",
       "2  https://www.huff...   \n",
       "3  https://www.huff...   \n",
       "4  https://www.huff...   \n",
       "5  https://www.huff...   \n",
       "6  https://www.huff...   \n",
       "7  https://www.huff...   \n",
       "8  https://www.huff...   \n",
       "9  https://www.huff...   \n",
       "\n",
       "     short_description  \\\n",
       "0  She left her hus...   \n",
       "1  Of course it has...   \n",
       "2  The actor and hi...   \n",
       "3  The actor gives ...   \n",
       "4  The \"Dietland\" a...   \n",
       "5  \"It is not right...   \n",
       "6  It's catchy, all...   \n",
       "7  There's a great ...   \n",
       "8  Myer's kids may ...   \n",
       "9  You're getting a...   \n",
       "\n",
       "         date  \n",
       "0  2018-05-26  \n",
       "1  2018-05-26  \n",
       "2  2018-05-26  \n",
       "3  2018-05-26  \n",
       "4  2018-05-26  \n",
       "5  2018-05-26  \n",
       "6  2018-05-26  \n",
       "7  2018-05-26  \n",
       "8  2018-05-26  \n",
       "9  2018-05-26  "
      ]
     },
     "execution_count": 110,
     "metadata": {},
     "output_type": "execute_result"
    }
   ],
   "source": [
    "pd.options.display.width = 0\n",
    "pd.set_option('display.width', 5)\n",
    "pd.set_option('display.max_columns', 10, 'display.width', 10, 'display.max_colwidth', 20, 'display.max_rows',100)\n",
    "df = pd.read_json('../datasets/1_newsDataset.json')\n",
    "df['category'] = df['articles'].apply(lambda x: x['category'])\n",
    "df['headline'] = df['articles'].apply(lambda x: x['headline'])\n",
    "df['authors'] = df['articles'].apply(lambda x: x['authors'])\n",
    "df['link'] = df['articles'].apply(lambda x: x['link'])\n",
    "df['short_description'] = df['articles'].apply(lambda x: x['short_description'])\n",
    "df['date'] = df['articles'].apply(lambda x: x['date'])\n",
    "data = df.drop('articles', axis=1)\n",
    "\n",
    "print('shape:', df.shape)\n",
    "pd.options.display.width = 0\n",
    "pd.set_option('display.width', 5)\n",
    "data.head(10)"
   ]
  },
  {
   "cell_type": "code",
   "execution_count": 111,
   "metadata": {},
   "outputs": [
    {
     "data": {
      "text/plain": [
       "Text(0.5, 1.0, \"Distribution of articles' categories\")"
      ]
     },
     "execution_count": 111,
     "metadata": {},
     "output_type": "execute_result"
    },
    {
     "data": {
      "image/png": "[encoded data removed]",
      "text/plain": [
       "<Figure size 1008x576 with 1 Axes>"
      ]
     },
     "metadata": {
      "needs_background": "light"
     },
     "output_type": "display_data"
    }
   ],
   "source": [
    "my_cmap = plt.get_cmap(\"tab20\")\n",
    "count = data.category.value_counts()\n",
    "rescale = lambda y: ((y - np.min(y)) +  1200) / ((np.max(y) - np.min(y) -5000))\n",
    "# rescale = lambda y: (y - np.min(y)) / (np.max(y) - np.min(y))\n",
    "\n",
    "plt.figure(figsize=(14,8))\n",
    "bars = plt.bar(count.index, count, color=my_cmap(rescale(list(count))), width=0.8, alpha=0.7, align='center')\n",
    "plt.xticks(rotation=90)\n",
    "plt.ylabel('Frequency of a category', fontdict={'fontsize':13, 'fontweight': 'bold'})\n",
    "plt.xlabel('Unique categories', fontdict={'fontsize':13, 'fontweight': 'bold'})\n",
    "plt.title(\"Distribution of articles' categories\", fontdict={'fontsize':14, 'fontweight': 'bold'})"
   ]
  },
  {
   "cell_type": "code",
   "execution_count": 117,
   "metadata": {},
   "outputs": [
    {
     "ename": "TypeError",
     "evalue": "'DataFrame' object is not callable",
     "output_type": "error",
     "traceback": [
      "\u001b[1;31m---------------------------------------------------------------------------\u001b[0m",
      "\u001b[1;31mTypeError\u001b[0m                                 Traceback (most recent call last)",
      "\u001b[1;32m~\\AppData\\Local\\Temp/ipykernel_16600/2492292488.py\u001b[0m in \u001b[0;36m<module>\u001b[1;34m\u001b[0m\n\u001b[0;32m      9\u001b[0m \u001b[0mwomen_categories\u001b[0m \u001b[1;33m=\u001b[0m \u001b[1;33m[\u001b[0m\u001b[1;34m'WOMEN'\u001b[0m\u001b[1;33m,\u001b[0m \u001b[1;34m'STYLE & BEAUTY'\u001b[0m\u001b[1;33m]\u001b[0m\u001b[1;33m\u001b[0m\u001b[1;33m\u001b[0m\u001b[0m\n\u001b[0;32m     10\u001b[0m \u001b[1;33m\u001b[0m\u001b[0m\n\u001b[1;32m---> 11\u001b[1;33m \u001b[0mmen_articles\u001b[0m \u001b[1;33m=\u001b[0m \u001b[0mdata\u001b[0m\u001b[1;33m(\u001b[0m\u001b[1;32mlambda\u001b[0m \u001b[0marticle\u001b[0m\u001b[1;33m:\u001b[0m \u001b[0marticle\u001b[0m\u001b[1;33m.\u001b[0m\u001b[0mcategory\u001b[0m \u001b[1;32min\u001b[0m \u001b[0mmen_categories\u001b[0m\u001b[1;33m)\u001b[0m\u001b[1;33m\u001b[0m\u001b[1;33m\u001b[0m\u001b[0m\n\u001b[0m",
      "\u001b[1;31mTypeError\u001b[0m: 'DataFrame' object is not callable"
     ]
    }
   ],
   "source": []
  }
 ],
 "metadata": {
  "interpreter": {
   "hash": "5ce0bbaaba556c243eee45087b7684ce43fda2aa9a5b0798832d1be21bf73af7"
  },
  "kernelspec": {
   "display_name": "Python 3.9.9 64-bit (windows store)",
   "language": "python",
   "name": "python3"
  },
  "language_info": {
   "codemirror_mode": {
    "name": "ipython",
    "version": 3
   },
   "file_extension": ".py",
   "mimetype": "text/x-python",
   "name": "python",
   "nbconvert_exporter": "python",
   "pygments_lexer": "ipython3",
   "version": "3.9.9"
  },
  "orig_nbformat": 4
 },
 "nbformat": 4,
 "nbformat_minor": 2
}
