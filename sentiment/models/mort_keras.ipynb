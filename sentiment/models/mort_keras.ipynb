{
 "cells": [
  {
   "cell_type": "code",
   "execution_count": 35,
   "metadata": {},
   "outputs": [],
   "source": [
    "import pandas as pd\n",
    "\n",
    "df = pd.read_json('../datasets/7_dataset_SM.json')\n",
    "df = df[:5000]\n",
    "df = df.fillna(method='ffill')"
   ]
  },
  {
   "cell_type": "code",
   "execution_count": 36,
   "metadata": {},
   "outputs": [],
   "source": [
    "from tensorflow.keras.preprocessing.text import Tokenizer\n",
    "from tensorflow.keras.preprocessing.sequence import pad_sequences\n",
    "tokenizer = Tokenizer(oov_token=\"<OOV>\")"
   ]
  },
  {
   "cell_type": "code",
   "execution_count": 37,
   "metadata": {},
   "outputs": [
    {
     "name": "stderr",
     "output_type": "stream",
     "text": [
      "C:\\Users\\hanse\\AppData\\Local\\Temp/ipykernel_8504/1510606078.py:1: FutureWarning: Indexing with multiple keys (implicitly converted to a tuple of keys) will be deprecated, use a list instead.\n",
      "  df = df.groupby(['Sentence #'],as_index=False)['Word', 'Lemma', 'POS', 'Dep', 'Polarity', 'Gender'].agg(lambda x: list(x))\n"
     ]
    }
   ],
   "source": [
    "df = df.groupby(['Sentence #'],as_index=False)['Word', 'Lemma', 'POS', 'Dep', 'Polarity', 'Gender'].agg(lambda x: list(x))"
   ]
  },
  {
   "cell_type": "code",
   "execution_count": 38,
   "metadata": {},
   "outputs": [
    {
     "data": {
      "text/html": [
       "<div>\n",
       "<style scoped>\n",
       "    .dataframe tbody tr th:only-of-type {\n",
       "        vertical-align: middle;\n",
       "    }\n",
       "\n",
       "    .dataframe tbody tr th {\n",
       "        vertical-align: top;\n",
       "    }\n",
       "\n",
       "    .dataframe thead th {\n",
       "        text-align: right;\n",
       "    }\n",
       "</style>\n",
       "<table border=\"1\" class=\"dataframe\">\n",
       "  <thead>\n",
       "    <tr style=\"text-align: right;\">\n",
       "      <th></th>\n",
       "      <th>Sentence #</th>\n",
       "      <th>Word</th>\n",
       "      <th>Lemma</th>\n",
       "      <th>POS</th>\n",
       "      <th>Dep</th>\n",
       "      <th>Polarity</th>\n",
       "      <th>Gender</th>\n",
       "    </tr>\n",
       "  </thead>\n",
       "  <tbody>\n",
       "    <tr>\n",
       "      <th>0</th>\n",
       "      <td>1</td>\n",
       "      <td>[organizations, decided, drop, women, accused,...</td>\n",
       "      <td>[organization, decide, drop, woman, accuse, in...</td>\n",
       "      <td>[NOUN, VERB, VERB, NOUN, VERB, ADJ, NOUN, ADJ,...</td>\n",
       "      <td>[nsubj, ROOT, xcomp, nsubj, advcl, amod, pobj,...</td>\n",
       "      <td>[-0.19334491413051003, -0.034137248164741, -0....</td>\n",
       "      <td>[W, W, W, W, W, W, W, W, W]</td>\n",
       "    </tr>\n",
       "    <tr>\n",
       "      <th>1</th>\n",
       "      <td>2</td>\n",
       "      <td>[Women, previously, worked, winning, actor, to...</td>\n",
       "      <td>[woman, previously, work, win, actor, tell, CN...</td>\n",
       "      <td>[NOUN, ADV, VERB, VERB, NOUN, VERB, PROPN, ADV...</td>\n",
       "      <td>[nsubj, advmod, relcl, amod, pobj, ROOT, dobj,...</td>\n",
       "      <td>[0.35316112487835105, -0.039333311401716003, -...</td>\n",
       "      <td>[W, W, W, W, W, W, W, W, W, W, W, W, W, W, W]</td>\n",
       "    </tr>\n",
       "    <tr>\n",
       "      <th>2</th>\n",
       "      <td>3</td>\n",
       "      <td>[response, allegations, Visa, announced, suspe...</td>\n",
       "      <td>[response, allegation, Visa, announce, suspend...</td>\n",
       "      <td>[NOUN, NOUN, PROPN, VERB, VERB, NOUN, NOUN]</td>\n",
       "      <td>[pobj, pobj, nsubj, ROOT, ccomp, compound, pobj]</td>\n",
       "      <td>[-0.039620517765398, -0.01715489752247, -0.023...</td>\n",
       "      <td>[W, W, W, W, W, W, W]</td>\n",
       "    </tr>\n",
       "    <tr>\n",
       "      <th>3</th>\n",
       "      <td>4</td>\n",
       "      <td>[aware, allegations, Mr.]</td>\n",
       "      <td>[aware, allegation, Mr.]</td>\n",
       "      <td>[ADJ, NOUN, PROPN]</td>\n",
       "      <td>[acomp, pobj, compound]</td>\n",
       "      <td>[-0.035281092794016006, -0.01715489752247, -0....</td>\n",
       "      <td>[W, W, W]</td>\n",
       "    </tr>\n",
       "    <tr>\n",
       "      <th>4</th>\n",
       "      <td>5</td>\n",
       "      <td>[point, Visa, suspending, marketing, actor, fe...</td>\n",
       "      <td>[point, Visa, suspend, marketing, actor, featu...</td>\n",
       "      <td>[NOUN, PROPN, VERB, NOUN, NOUN, VERB, PROPN, V...</td>\n",
       "      <td>[pobj, nsubj, ccomp, dobj, nsubjpass, relcl, n...</td>\n",
       "      <td>[-0.19485058785637502, -0.023234042885702, -0....</td>\n",
       "      <td>[W, W, W, W, W, W, W, W, W]</td>\n",
       "    </tr>\n",
       "    <tr>\n",
       "      <th>...</th>\n",
       "      <td>...</td>\n",
       "      <td>...</td>\n",
       "      <td>...</td>\n",
       "      <td>...</td>\n",
       "      <td>...</td>\n",
       "      <td>...</td>\n",
       "      <td>...</td>\n",
       "    </tr>\n",
       "    <tr>\n",
       "      <th>487</th>\n",
       "      <td>587</td>\n",
       "      <td>[Check, highlights, beginning, 1:20, clip]</td>\n",
       "      <td>[check, highlight, begin, 1:20, clip]</td>\n",
       "      <td>[VERB, NOUN, VERB, NUM, NOUN]</td>\n",
       "      <td>[ROOT, dobj, acl, pobj, pobj]</td>\n",
       "      <td>[0.13395629431782202, -0.041961959063024, -0.0...</td>\n",
       "      <td>[M, M, M, M, M]</td>\n",
       "    </tr>\n",
       "    <tr>\n",
       "      <th>488</th>\n",
       "      <td>588</td>\n",
       "      <td>[right, conditioning, fight, coach, thrown, to...</td>\n",
       "      <td>[right, conditioning, fight, coach, throw, tow...</td>\n",
       "      <td>[ADJ, NOUN, VERB, NOUN, VERB, NOUN, ADJ, ADJ, ...</td>\n",
       "      <td>[amod, dobj, relcl, nsubj, ccomp, pobj, amod, ...</td>\n",
       "      <td>[-0.08494815701551901, -0.0009555807142420001,...</td>\n",
       "      <td>[M, M, M, M, M, M, M, M, M, M, M]</td>\n",
       "    </tr>\n",
       "    <tr>\n",
       "      <th>489</th>\n",
       "      <td>589</td>\n",
       "      <td>[think, coach, let]</td>\n",
       "      <td>[think, coach, let]</td>\n",
       "      <td>[VERB, NOUN, VERB]</td>\n",
       "      <td>[ROOT, nsubj, ccomp]</td>\n",
       "      <td>[-0.076708684196439, -0.194677775887752, -0.03...</td>\n",
       "      <td>[M, M, M]</td>\n",
       "    </tr>\n",
       "    <tr>\n",
       "      <th>490</th>\n",
       "      <td>590</td>\n",
       "      <td>[sad]</td>\n",
       "      <td>[sad]</td>\n",
       "      <td>[ADJ]</td>\n",
       "      <td>[acomp]</td>\n",
       "      <td>[-0.00039390346295100004]</td>\n",
       "      <td>[M]</td>\n",
       "    </tr>\n",
       "    <tr>\n",
       "      <th>491</th>\n",
       "      <td>591</td>\n",
       "      <td>[saying, lot, bad, things, social, media, thin...</td>\n",
       "      <td>[say, lot, bad, thing, social, medium, think, ...</td>\n",
       "      <td>[VERB, NOUN, ADJ, NOUN, ADJ, NOUN, VERB, VERB,...</td>\n",
       "      <td>[ROOT, dobj, amod, pobj, amod, pobj, conj, cco...</td>\n",
       "      <td>[-0.5282501101982571, -0.085633419319321, -0.0...</td>\n",
       "      <td>[M, M, M, M, M, M, M, M, M, M, M, M, M]</td>\n",
       "    </tr>\n",
       "  </tbody>\n",
       "</table>\n",
       "<p>492 rows × 7 columns</p>\n",
       "</div>"
      ],
      "text/plain": [
       "     Sentence #                                               Word  \\\n",
       "0             1  [organizations, decided, drop, women, accused,...   \n",
       "1             2  [Women, previously, worked, winning, actor, to...   \n",
       "2             3  [response, allegations, Visa, announced, suspe...   \n",
       "3             4                          [aware, allegations, Mr.]   \n",
       "4             5  [point, Visa, suspending, marketing, actor, fe...   \n",
       "..          ...                                                ...   \n",
       "487         587         [Check, highlights, beginning, 1:20, clip]   \n",
       "488         588  [right, conditioning, fight, coach, thrown, to...   \n",
       "489         589                                [think, coach, let]   \n",
       "490         590                                              [sad]   \n",
       "491         591  [saying, lot, bad, things, social, media, thin...   \n",
       "\n",
       "                                                 Lemma  \\\n",
       "0    [organization, decide, drop, woman, accuse, in...   \n",
       "1    [woman, previously, work, win, actor, tell, CN...   \n",
       "2    [response, allegation, Visa, announce, suspend...   \n",
       "3                             [aware, allegation, Mr.]   \n",
       "4    [point, Visa, suspend, marketing, actor, featu...   \n",
       "..                                                 ...   \n",
       "487              [check, highlight, begin, 1:20, clip]   \n",
       "488  [right, conditioning, fight, coach, throw, tow...   \n",
       "489                                [think, coach, let]   \n",
       "490                                              [sad]   \n",
       "491  [say, lot, bad, thing, social, medium, think, ...   \n",
       "\n",
       "                                                   POS  \\\n",
       "0    [NOUN, VERB, VERB, NOUN, VERB, ADJ, NOUN, ADJ,...   \n",
       "1    [NOUN, ADV, VERB, VERB, NOUN, VERB, PROPN, ADV...   \n",
       "2          [NOUN, NOUN, PROPN, VERB, VERB, NOUN, NOUN]   \n",
       "3                                   [ADJ, NOUN, PROPN]   \n",
       "4    [NOUN, PROPN, VERB, NOUN, NOUN, VERB, PROPN, V...   \n",
       "..                                                 ...   \n",
       "487                      [VERB, NOUN, VERB, NUM, NOUN]   \n",
       "488  [ADJ, NOUN, VERB, NOUN, VERB, NOUN, ADJ, ADJ, ...   \n",
       "489                                 [VERB, NOUN, VERB]   \n",
       "490                                              [ADJ]   \n",
       "491  [VERB, NOUN, ADJ, NOUN, ADJ, NOUN, VERB, VERB,...   \n",
       "\n",
       "                                                   Dep  \\\n",
       "0    [nsubj, ROOT, xcomp, nsubj, advcl, amod, pobj,...   \n",
       "1    [nsubj, advmod, relcl, amod, pobj, ROOT, dobj,...   \n",
       "2     [pobj, pobj, nsubj, ROOT, ccomp, compound, pobj]   \n",
       "3                              [acomp, pobj, compound]   \n",
       "4    [pobj, nsubj, ccomp, dobj, nsubjpass, relcl, n...   \n",
       "..                                                 ...   \n",
       "487                      [ROOT, dobj, acl, pobj, pobj]   \n",
       "488  [amod, dobj, relcl, nsubj, ccomp, pobj, amod, ...   \n",
       "489                               [ROOT, nsubj, ccomp]   \n",
       "490                                            [acomp]   \n",
       "491  [ROOT, dobj, amod, pobj, amod, pobj, conj, cco...   \n",
       "\n",
       "                                              Polarity  \\\n",
       "0    [-0.19334491413051003, -0.034137248164741, -0....   \n",
       "1    [0.35316112487835105, -0.039333311401716003, -...   \n",
       "2    [-0.039620517765398, -0.01715489752247, -0.023...   \n",
       "3    [-0.035281092794016006, -0.01715489752247, -0....   \n",
       "4    [-0.19485058785637502, -0.023234042885702, -0....   \n",
       "..                                                 ...   \n",
       "487  [0.13395629431782202, -0.041961959063024, -0.0...   \n",
       "488  [-0.08494815701551901, -0.0009555807142420001,...   \n",
       "489  [-0.076708684196439, -0.194677775887752, -0.03...   \n",
       "490                          [-0.00039390346295100004]   \n",
       "491  [-0.5282501101982571, -0.085633419319321, -0.0...   \n",
       "\n",
       "                                            Gender  \n",
       "0                      [W, W, W, W, W, W, W, W, W]  \n",
       "1    [W, W, W, W, W, W, W, W, W, W, W, W, W, W, W]  \n",
       "2                            [W, W, W, W, W, W, W]  \n",
       "3                                        [W, W, W]  \n",
       "4                      [W, W, W, W, W, W, W, W, W]  \n",
       "..                                             ...  \n",
       "487                                [M, M, M, M, M]  \n",
       "488              [M, M, M, M, M, M, M, M, M, M, M]  \n",
       "489                                      [M, M, M]  \n",
       "490                                            [M]  \n",
       "491        [M, M, M, M, M, M, M, M, M, M, M, M, M]  \n",
       "\n",
       "[492 rows x 7 columns]"
      ]
     },
     "execution_count": 38,
     "metadata": {},
     "output_type": "execute_result"
    }
   ],
   "source": [
    "df"
   ]
  },
  {
   "cell_type": "code",
   "execution_count": 39,
   "metadata": {},
   "outputs": [],
   "source": [
    "split = round(len(df)*0.8)\n",
    "train_sentences = df['Lemma'][:split]\n",
    "train_labels = df['Gender'][:split]\n",
    "test_sentences = df['Lemma'][split:]\n",
    "test_labels = df['Gender'][split:]"
   ]
  },
  {
   "cell_type": "code",
   "execution_count": 40,
   "metadata": {},
   "outputs": [],
   "source": [
    "import numpy as np\n",
    "training_sentences = []\n",
    "training_labels = []\n",
    "testing_sentences = []\n",
    "testing_labels = []\n",
    "\n",
    "for row in train_labels:\n",
    "    training_labels.append(0 if row[0] == 'M' else 1)\n",
    "for row in test_labels:\n",
    "    testing_labels.append(0 if row[0] == 'M' else 1)"
   ]
  },
  {
   "cell_type": "code",
   "execution_count": 41,
   "metadata": {},
   "outputs": [],
   "source": [
    "vocab_size = 40000\n",
    "embedding_dim = 16\n",
    "max_length = 120\n",
    "trunc_type = 'post'\n",
    "oov_tok = '<OOV>'\n",
    "padding_type = 'post'"
   ]
  },
  {
   "cell_type": "code",
   "execution_count": 42,
   "metadata": {},
   "outputs": [],
   "source": [
    "tokenizer = Tokenizer(num_words=vocab_size, oov_token=oov_tok)\n",
    "tokenizer.fit_on_texts(train_sentences)\n",
    "word_index = tokenizer.word_index"
   ]
  },
  {
   "cell_type": "code",
   "execution_count": 43,
   "metadata": {},
   "outputs": [],
   "source": [
    "sequences = tokenizer.texts_to_sequences(train_sentences)\n",
    "padded = pad_sequences(sequences, maxlen=max_length, truncating=trunc_type)\n",
    "testing_sentences = tokenizer.texts_to_sequences(test_sentences)\n",
    "testing_padded = pad_sequences(testing_sentences, maxlen=max_length)"
   ]
  },
  {
   "cell_type": "code",
   "execution_count": 44,
   "metadata": {},
   "outputs": [
    {
     "name": "stdout",
     "output_type": "stream",
     "text": [
      "Model: \"sequential_4\"\n",
      "_________________________________________________________________\n",
      "Layer (type)                 Output Shape              Param #   \n",
      "=================================================================\n",
      "embedding_4 (Embedding)      (None, 120, 16)           640000    \n",
      "_________________________________________________________________\n",
      "global_average_pooling1d_4 ( (None, 16)                0         \n",
      "_________________________________________________________________\n",
      "dense_8 (Dense)              (None, 6)                 102       \n",
      "_________________________________________________________________\n",
      "dense_9 (Dense)              (None, 1)                 7         \n",
      "=================================================================\n",
      "Total params: 640,109\n",
      "Trainable params: 640,109\n",
      "Non-trainable params: 0\n",
      "_________________________________________________________________\n"
     ]
    }
   ],
   "source": [
    "import tensorflow as tf\n",
    "\n",
    "model = tf.keras.Sequential([\n",
    "    tf.keras.layers.Embedding(vocab_size, embedding_dim, input_length=max_length),\n",
    "    tf.keras.layers.GlobalAveragePooling1D(),\n",
    "    tf.keras.layers.Dense(6, activation='relu'),\n",
    "    tf.keras.layers.Dense(1, activation='sigmoid')\n",
    "])\n",
    "model.compile(loss='binary_crossentropy', optimizer='adam', metrics=['accuracy'])\n",
    "model.summary()"
   ]
  },
  {
   "cell_type": "code",
   "execution_count": 50,
   "metadata": {},
   "outputs": [
    {
     "data": {
      "text/plain": [
       "array([0, 0, 0, 0, 0, 0, 0, 0, 0, 0, 0, 0, 0, 0, 0, 0, 0, 0, 0, 0, 0, 0,\n",
       "       0, 0, 0, 0, 0, 0, 0, 0, 0, 0, 0, 0, 0, 0, 0, 0, 0, 0, 0, 0, 1, 1,\n",
       "       1, 1, 1, 1, 1, 1, 1, 1, 1, 1, 1, 1, 1, 1, 0, 0, 0, 0, 0, 0, 0, 0,\n",
       "       0, 0, 0, 0, 1, 1, 1, 1, 1, 1, 1, 1, 1, 1, 1, 1, 1, 1, 1, 1, 1, 0,\n",
       "       0, 0, 0, 0, 0, 0, 0, 0, 0, 0])"
      ]
     },
     "execution_count": 50,
     "metadata": {},
     "output_type": "execute_result"
    }
   ],
   "source": [
    "import numpy as np\n",
    "\n",
    "training_labels_final = np.array(training_labels)\n",
    "testing_labels_final = np.array(testing_labels)"
   ]
  },
  {
   "cell_type": "code",
   "execution_count": 46,
   "metadata": {},
   "outputs": [
    {
     "name": "stdout",
     "output_type": "stream",
     "text": [
      "Epoch 1/40\n",
      "13/13 [==============================] - 1s 16ms/step - loss: 0.6885 - accuracy: 0.5964 - val_loss: 0.6803 - val_accuracy: 0.6633\n",
      "Epoch 2/40\n",
      "13/13 [==============================] - 0s 7ms/step - loss: 0.6842 - accuracy: 0.5964 - val_loss: 0.6718 - val_accuracy: 0.6633\n",
      "Epoch 3/40\n",
      "13/13 [==============================] - 0s 9ms/step - loss: 0.6800 - accuracy: 0.5964 - val_loss: 0.6648 - val_accuracy: 0.6633\n",
      "Epoch 4/40\n",
      "13/13 [==============================] - 0s 8ms/step - loss: 0.6764 - accuracy: 0.5964 - val_loss: 0.6599 - val_accuracy: 0.6633\n",
      "Epoch 5/40\n",
      "13/13 [==============================] - 0s 6ms/step - loss: 0.6739 - accuracy: 0.5964 - val_loss: 0.6569 - val_accuracy: 0.6633\n",
      "Epoch 6/40\n",
      "13/13 [==============================] - 0s 7ms/step - loss: 0.6728 - accuracy: 0.5964 - val_loss: 0.6528 - val_accuracy: 0.6633\n",
      "Epoch 7/40\n",
      "13/13 [==============================] - 0s 6ms/step - loss: 0.6711 - accuracy: 0.5964 - val_loss: 0.6508 - val_accuracy: 0.6633\n",
      "Epoch 8/40\n",
      "13/13 [==============================] - 0s 7ms/step - loss: 0.6700 - accuracy: 0.5964 - val_loss: 0.6490 - val_accuracy: 0.6633\n",
      "Epoch 9/40\n",
      "13/13 [==============================] - 0s 7ms/step - loss: 0.6689 - accuracy: 0.5964 - val_loss: 0.6485 - val_accuracy: 0.6633\n",
      "Epoch 10/40\n",
      "13/13 [==============================] - 0s 6ms/step - loss: 0.6678 - accuracy: 0.5964 - val_loss: 0.6488 - val_accuracy: 0.6633\n",
      "Epoch 11/40\n",
      "13/13 [==============================] - 0s 5ms/step - loss: 0.6668 - accuracy: 0.5964 - val_loss: 0.6490 - val_accuracy: 0.6633\n",
      "Epoch 12/40\n",
      "13/13 [==============================] - 0s 7ms/step - loss: 0.6657 - accuracy: 0.5964 - val_loss: 0.6487 - val_accuracy: 0.6633\n",
      "Epoch 13/40\n",
      "13/13 [==============================] - 0s 6ms/step - loss: 0.6646 - accuracy: 0.5964 - val_loss: 0.6482 - val_accuracy: 0.6633\n",
      "Epoch 14/40\n",
      "13/13 [==============================] - 0s 5ms/step - loss: 0.6630 - accuracy: 0.5964 - val_loss: 0.6477 - val_accuracy: 0.6633\n",
      "Epoch 15/40\n",
      "13/13 [==============================] - 0s 5ms/step - loss: 0.6617 - accuracy: 0.5964 - val_loss: 0.6477 - val_accuracy: 0.6633\n",
      "Epoch 16/40\n",
      "13/13 [==============================] - 0s 6ms/step - loss: 0.6600 - accuracy: 0.5964 - val_loss: 0.6468 - val_accuracy: 0.6633\n",
      "Epoch 17/40\n",
      "13/13 [==============================] - 0s 6ms/step - loss: 0.6583 - accuracy: 0.5964 - val_loss: 0.6450 - val_accuracy: 0.6633\n",
      "Epoch 18/40\n",
      "13/13 [==============================] - 0s 5ms/step - loss: 0.6564 - accuracy: 0.5964 - val_loss: 0.6438 - val_accuracy: 0.6633\n",
      "Epoch 19/40\n",
      "13/13 [==============================] - 0s 6ms/step - loss: 0.6542 - accuracy: 0.5964 - val_loss: 0.6441 - val_accuracy: 0.6633\n",
      "Epoch 20/40\n",
      "13/13 [==============================] - 0s 6ms/step - loss: 0.6520 - accuracy: 0.5964 - val_loss: 0.6436 - val_accuracy: 0.6633\n",
      "Epoch 21/40\n",
      "13/13 [==============================] - 0s 6ms/step - loss: 0.6494 - accuracy: 0.5964 - val_loss: 0.6432 - val_accuracy: 0.6633\n",
      "Epoch 22/40\n",
      "13/13 [==============================] - 0s 7ms/step - loss: 0.6464 - accuracy: 0.5964 - val_loss: 0.6437 - val_accuracy: 0.6633\n",
      "Epoch 23/40\n",
      "13/13 [==============================] - 0s 7ms/step - loss: 0.6435 - accuracy: 0.5964 - val_loss: 0.6432 - val_accuracy: 0.6633\n",
      "Epoch 24/40\n",
      "13/13 [==============================] - 0s 7ms/step - loss: 0.6401 - accuracy: 0.5964 - val_loss: 0.6427 - val_accuracy: 0.6633\n",
      "Epoch 25/40\n",
      "13/13 [==============================] - 0s 6ms/step - loss: 0.6364 - accuracy: 0.5964 - val_loss: 0.6421 - val_accuracy: 0.6633\n",
      "Epoch 26/40\n",
      "13/13 [==============================] - 0s 5ms/step - loss: 0.6327 - accuracy: 0.5964 - val_loss: 0.6407 - val_accuracy: 0.6633\n",
      "Epoch 27/40\n",
      "13/13 [==============================] - 0s 7ms/step - loss: 0.6281 - accuracy: 0.5964 - val_loss: 0.6404 - val_accuracy: 0.6633\n",
      "Epoch 28/40\n",
      "13/13 [==============================] - 0s 7ms/step - loss: 0.6237 - accuracy: 0.5964 - val_loss: 0.6398 - val_accuracy: 0.6633\n",
      "Epoch 29/40\n",
      "13/13 [==============================] - 0s 7ms/step - loss: 0.6188 - accuracy: 0.5964 - val_loss: 0.6376 - val_accuracy: 0.6633\n",
      "Epoch 30/40\n",
      "13/13 [==============================] - 0s 6ms/step - loss: 0.6132 - accuracy: 0.5964 - val_loss: 0.6381 - val_accuracy: 0.6633\n",
      "Epoch 31/40\n",
      "13/13 [==============================] - 0s 5ms/step - loss: 0.6074 - accuracy: 0.5964 - val_loss: 0.6372 - val_accuracy: 0.6633\n",
      "Epoch 32/40\n",
      "13/13 [==============================] - 0s 7ms/step - loss: 0.6014 - accuracy: 0.5964 - val_loss: 0.6365 - val_accuracy: 0.6633\n",
      "Epoch 33/40\n",
      "13/13 [==============================] - 0s 7ms/step - loss: 0.5950 - accuracy: 0.5964 - val_loss: 0.6336 - val_accuracy: 0.6633\n",
      "Epoch 34/40\n",
      "13/13 [==============================] - 0s 7ms/step - loss: 0.5882 - accuracy: 0.5964 - val_loss: 0.6328 - val_accuracy: 0.6633\n",
      "Epoch 35/40\n",
      "13/13 [==============================] - 0s 6ms/step - loss: 0.5816 - accuracy: 0.5964 - val_loss: 0.6318 - val_accuracy: 0.6633\n",
      "Epoch 36/40\n",
      "13/13 [==============================] - 0s 7ms/step - loss: 0.5740 - accuracy: 0.5964 - val_loss: 0.6294 - val_accuracy: 0.6633\n",
      "Epoch 37/40\n",
      "13/13 [==============================] - 0s 6ms/step - loss: 0.5665 - accuracy: 0.5964 - val_loss: 0.6271 - val_accuracy: 0.6633\n",
      "Epoch 38/40\n",
      "13/13 [==============================] - 0s 7ms/step - loss: 0.5590 - accuracy: 0.5964 - val_loss: 0.6243 - val_accuracy: 0.6633\n",
      "Epoch 39/40\n",
      "13/13 [==============================] - 0s 7ms/step - loss: 0.5510 - accuracy: 0.5964 - val_loss: 0.6238 - val_accuracy: 0.6633\n",
      "Epoch 40/40\n",
      "13/13 [==============================] - 0s 6ms/step - loss: 0.5431 - accuracy: 0.5964 - val_loss: 0.6208 - val_accuracy: 0.6633\n"
     ]
    }
   ],
   "source": [
    "num_epochs = 40\n",
    "history = model.fit(padded, training_labels_final, epochs=num_epochs, \n",
    "validation_data=(testing_padded, testing_labels_final))"
   ]
  },
  {
   "cell_type": "code",
   "execution_count": 47,
   "metadata": {},
   "outputs": [
    {
     "data": {
      "text/plain": [
       "<Figure size 432x288 with 0 Axes>"
      ]
     },
     "execution_count": 47,
     "metadata": {},
     "output_type": "execute_result"
    },
    {
     "data": {
      "image/png": "[encoded data removed]",
      "text/plain": [
       "<Figure size 432x288 with 1 Axes>"
      ]
     },
     "metadata": {
      "needs_background": "light"
     },
     "output_type": "display_data"
    },
    {
     "data": {
      "image/png": "[encoded data removed]",
      "text/plain": [
       "<Figure size 432x288 with 1 Axes>"
      ]
     },
     "metadata": {
      "needs_background": "light"
     },
     "output_type": "display_data"
    },
    {
     "data": {
      "text/plain": [
       "<Figure size 432x288 with 0 Axes>"
      ]
     },
     "metadata": {},
     "output_type": "display_data"
    }
   ],
   "source": [
    "%matplotlib inline\n",
    "import matplotlib.pyplot as plt\n",
    "import matplotlib.image as mpimg\n",
    "acc = history.history['accuracy']\n",
    "val_acc = history.history['val_accuracy']\n",
    "loss = history.history['loss']\n",
    "val_loss = history.history['val_loss']\n",
    "epochs=range(len(acc))\n",
    "plt.plot(epochs, acc, 'r', 'Training Accuracy')\n",
    "plt.plot(epochs, val_acc, 'b', 'Validation Accuracy')\n",
    "plt.title('Training and validation accuracy')\n",
    "plt.figure()\n",
    "plt.plot(epochs, loss, 'r', 'Training Loss')\n",
    "plt.plot(epochs, val_loss, 'b', 'Validation Loss')\n",
    "plt.title('Training and validation loss')\n",
    "plt.figure()"
   ]
  },
  {
   "cell_type": "code",
   "execution_count": 48,
   "metadata": {},
   "outputs": [
    {
     "data": {
      "text/plain": [
       "array([[0, 0, 0, ..., 0, 0, 1],\n",
       "       [0, 0, 0, ..., 0, 0, 1],\n",
       "       [0, 0, 0, ..., 0, 0, 1],\n",
       "       ...,\n",
       "       [0, 0, 0, ..., 0, 0, 1],\n",
       "       [0, 0, 0, ..., 0, 0, 1],\n",
       "       [0, 0, 0, ..., 0, 0, 1]])"
      ]
     },
     "execution_count": 48,
     "metadata": {},
     "output_type": "execute_result"
    }
   ],
   "source": [
    "test = tokenizer.texts_to_sequences('this is a test')\n",
    "test = pad_sequences(test, maxlen=max_length)\n",
    "\n",
    "test"
   ]
  },
  {
   "cell_type": "code",
   "execution_count": 49,
   "metadata": {},
   "outputs": [
    {
     "ename": "IndentationError",
     "evalue": "expected an indented block (Temp/ipykernel_8504/4207814905.py, line 11)",
     "output_type": "error",
     "traceback": [
      "\u001b[1;36m  File \u001b[1;32m\"C:\\Users\\hanse\\AppData\\Local\\Temp/ipykernel_8504/4207814905.py\"\u001b[1;36m, line \u001b[1;32m11\u001b[0m\n\u001b[1;33m    pad_length = 128 - len(s)\u001b[0m\n\u001b[1;37m    ^\u001b[0m\n\u001b[1;31mIndentationError\u001b[0m\u001b[1;31m:\u001b[0m expected an indented block\n"
     ]
    }
   ],
   "source": [
    "samples = ['The plot is fantastic', \n",
    "    'The movie was cool and thrilling', \n",
    "    'one of the worst films I have ever seen']\n",
    "\n",
    "# encode into integers\n",
    "sample_encoded = [encoder.encode(sample) for sample in samples]\n",
    "\n",
    "# pad with zeros to have same length \n",
    "sample_padded = []\n",
    "for s in sample_encoded:\n",
    "pad_length = 128 - len(s)\n",
    "zeros = [0]*pad_length\n",
    "s.extend(zeros)\n",
    "s = tf.convert_to_tensor(s)\n",
    "sample_padded.append(s)\n",
    "# convert into tensor before feeding the model\n",
    "sample_padded = tf.convert_to_tensor(sample_padded)\n",
    "\n",
    "#make predictions\n",
    "predictions = model.predict(sample_padded)\n",
    "predictions"
   ]
  }
 ],
 "metadata": {
  "interpreter": {
   "hash": "5ce0bbaaba556c243eee45087b7684ce43fda2aa9a5b0798832d1be21bf73af7"
  },
  "kernelspec": {
   "display_name": "Python 3.9.7 64-bit (windows store)",
   "name": "python3"
  },
  "language_info": {
   "codemirror_mode": {
    "name": "ipython",
    "version": 3
   },
   "file_extension": ".py",
   "mimetype": "text/x-python",
   "name": "python",
   "nbconvert_exporter": "python",
   "pygments_lexer": "ipython3",
   "version": "3.9.7"
  },
  "orig_nbformat": 4
 },
 "nbformat": 4,
 "nbformat_minor": 2
}
