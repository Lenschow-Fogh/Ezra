{
 "cells": [
  {
   "cell_type": "code",
   "execution_count": 28,
   "metadata": {},
   "outputs": [],
   "source": [
    "import os\n",
    "os.environ['CUDA_VISIBLE_DEVICES'] = '-1'\n",
    "\n",
    "import pandas as pd\n",
    "import numpy as np\n",
    "from keras.preprocessing.sequence import pad_sequences\n",
    "from sklearn.model_selection import train_test_split\n",
    "import tensorflow as tf\n",
    "from tensorflow import keras\n",
    "from tensorflow.keras import layers\n",
    "from keras.utils.vis_utils import plot_model\n",
    "import time\n",
    "from sklearn.metrics import confusion_matrix\n",
    "import matplotlib.pyplot as plt\n",
    "from tensorflow.keras.utils import to_categorical\n",
    "from sklearn.metrics import classification_report\n",
    "from collections import Counter"
   ]
  },
  {
   "cell_type": "code",
   "execution_count": 29,
   "metadata": {},
   "outputs": [],
   "source": [
    "pol_to_rep = {\n",
    "  -1.0: 10,\n",
    "  -0.9: 1,\n",
    "  -0.8: 2,\n",
    "  -0.7: 3,\n",
    "  -0.6: 4,\n",
    "  -0.5: 5,\n",
    "  -0.4: 6,\n",
    "  -0.3: 7,\n",
    "  -0.2: 8,\n",
    "  -0.1: 9,\n",
    "  -0.0: 0,\n",
    "  0.0: 0,\n",
    "  0.1: 11,\n",
    "  0.2: 12,\n",
    "  0.3: 13,\n",
    "  0.4: 14,\n",
    "  0.5: 15,\n",
    "  0.6: 16,\n",
    "  0.7: 17,\n",
    "  0.8: 18,\n",
    "  0.9: 19,\n",
    "  1.0: 20,\n",
    "}\n",
    "\n",
    "rep_to_pol = {\n",
    "  10 : -1.0,\n",
    "  1 : -0.9,\n",
    "  2 : -0.8,\n",
    "  3 : -0.7,\n",
    "  4 : -0.6,\n",
    "  5 : -0.5,\n",
    "  6 : -0.4,\n",
    "  7 : -0.3,\n",
    "  8 : -0.2,\n",
    "  9 : -0.1,\n",
    "  0 : 0.0,\n",
    "  11 : 0.1,\n",
    "  12 : 0.2,\n",
    "  13 : 0.3,\n",
    "  14 : 0.4,\n",
    "  15 : 0.5,\n",
    "  16 : 0.6,\n",
    "  17 : 0.7,\n",
    "  18 : 0.8,\n",
    "  19 : 0.9,\n",
    "  20 : 1.0,\n",
    "}"
   ]
  },
  {
   "cell_type": "code",
   "execution_count": 30,
   "metadata": {},
   "outputs": [
    {
     "data": {
      "image/png": "[encoded data removed]",
      "text/plain": [
       "<Figure size 720x360 with 1 Axes>"
      ]
     },
     "metadata": {
      "needs_background": "light"
     },
     "output_type": "display_data"
    }
   ],
   "source": [
    "import pandas as pd\n",
    "\n",
    "df = pd.read_json('../datasets/8_dataset_sliced.json')\n",
    "df = pd.concat([df.head(15000), df.tail(5000)])\n",
    "\n",
    "M, W = df[\"Gender\"].value_counts()\n",
    "if M>W:\n",
    "    diff = M-W\n",
    "    df = df.drop(df.loc[df['Gender'] == 'M'].index[:diff], axis=0)\n",
    "elif W>M:\n",
    "    diff = W-M\n",
    "    df = df.drop(df.loc[df['Gender'] == 'W'].index[:diff], axis=0)\n",
    "\n",
    "df[\"Gender\"].value_counts().plot(kind=\"bar\", figsize=(10,5))\n",
    "df['Sentiment'] = df.Gender.apply(lambda x: -1 if x == \"M\" else 1)\n",
    "df = df.drop('Gender', axis=1)\n",
    "df['Dep'] = df['Dep'].str.upper()"
   ]
  },
  {
   "cell_type": "code",
   "execution_count": 31,
   "metadata": {},
   "outputs": [
    {
     "name": "stdout",
     "output_type": "stream",
     "text": [
      "[0, 1, 2, 3, 4, 5, 6, 7, 8, 9, 10, 11, 12, 13, 14, 15, 16, 17, 18, 19, 20]\n"
     ]
    },
    {
     "name": "stderr",
     "output_type": "stream",
     "text": [
      "C:\\Users\\hanse\\AppData\\Local\\Temp/ipykernel_2648/3287278792.py:36: FutureWarning: Indexing with multiple keys (implicitly converted to a tuple of keys) will be deprecated, use a list instead.\n",
      "  df = df.groupby(['Sentence #'],as_index=False)['Word', 'Lemma', 'Tag', 'POS', 'Dep', 'Polarity', 'Sentiment', 'Polarity_rounded', 'Lemma_index', 'Tag_index', 'POS_index', 'Dep_index'].agg(lambda x: list(x))\n"
     ]
    },
    {
     "data": {
      "text/html": [
       "<div>\n",
       "<style scoped>\n",
       "    .dataframe tbody tr th:only-of-type {\n",
       "        vertical-align: middle;\n",
       "    }\n",
       "\n",
       "    .dataframe tbody tr th {\n",
       "        vertical-align: top;\n",
       "    }\n",
       "\n",
       "    .dataframe thead th {\n",
       "        text-align: right;\n",
       "    }\n",
       "</style>\n",
       "<table border=\"1\" class=\"dataframe\">\n",
       "  <thead>\n",
       "    <tr style=\"text-align: right;\">\n",
       "      <th></th>\n",
       "      <th>Sentence #</th>\n",
       "      <th>Word</th>\n",
       "      <th>Lemma</th>\n",
       "      <th>Tag</th>\n",
       "      <th>POS</th>\n",
       "      <th>Dep</th>\n",
       "      <th>Polarity</th>\n",
       "      <th>Sentiment</th>\n",
       "      <th>Polarity_rounded</th>\n",
       "      <th>Lemma_index</th>\n",
       "      <th>Tag_index</th>\n",
       "      <th>POS_index</th>\n",
       "      <th>Dep_index</th>\n",
       "    </tr>\n",
       "  </thead>\n",
       "  <tbody>\n",
       "    <tr>\n",
       "      <th>0</th>\n",
       "      <td>1</td>\n",
       "      <td>[organizations, decided, drop, women, accused,...</td>\n",
       "      <td>[organization, decide, drop, woman, accuse, in...</td>\n",
       "      <td>[NNS, VBN, VB, NNS, VBD, JJ, NN, JJ, NN]</td>\n",
       "      <td>[NOUN, VERB, VERB, NOUN, VERB, ADJ, NOUN, ADJ,...</td>\n",
       "      <td>[NSUBJ, ROOT, XCOMP, NSUBJ, ADVCL, AMOD, POBJ,...</td>\n",
       "      <td>[0.506489491162892, 0.32769425602846003, -0.12...</td>\n",
       "      <td>[1, 1, 1, 1, 1, 1, 1, 1, 1]</td>\n",
       "      <td>[15, 13, 9, 0, 11, 0, 0, 7, 17]</td>\n",
       "      <td>[2558, 1330, 1489, 3735, 649, 2059, 885, 3128,...</td>\n",
       "      <td>[18, 28, 25, 18, 26, 9, 15, 9, 15]</td>\n",
       "      <td>[8, 16, 16, 8, 16, 1, 8, 1, 8]</td>\n",
       "      <td>[23, 36, 37, 23, 3, 5, 29, 5, 13]</td>\n",
       "    </tr>\n",
       "    <tr>\n",
       "      <th>1</th>\n",
       "      <td>2</td>\n",
       "      <td>[Women, previously, worked, winning, actor, to...</td>\n",
       "      <td>[woman, previously, work, win, actor, tell, CN...</td>\n",
       "      <td>[NNS, RB, VBD, VBG, NN, VBD, NNP, RB, NNS, NNS...</td>\n",
       "      <td>[NOUN, ADV, VERB, VERB, NOUN, VERB, PROPN, ADV...</td>\n",
       "      <td>[NSUBJ, ADVMOD, RELCL, AMOD, POBJ, ROOT, DOBJ,...</td>\n",
       "      <td>[0.0, -0.111174966250348, 0.0, 0.7726255539569...</td>\n",
       "      <td>[1, 1, 1, 1, 1, 1, 1, 1, 1, 1, 1, 1, 1, 1, 1]</td>\n",
       "      <td>[0, 9, 0, 18, 11, 0, 0, 0, 2, 7, 20, 0, 9, 0, 0]</td>\n",
       "      <td>[3735, 2756, 3740, 3722, 661, 3428, 117, 2955,...</td>\n",
       "      <td>[18, 19, 26, 27, 15, 26, 16, 19, 18, 18, 15, 1...</td>\n",
       "      <td>[8, 3, 16, 16, 8, 16, 12, 3, 8, 8, 8, 3, 16, 1...</td>\n",
       "      <td>[23, 4, 35, 5, 29, 36, 18, 4, 18, 29, 13, 4, 1...</td>\n",
       "    </tr>\n",
       "  </tbody>\n",
       "</table>\n",
       "</div>"
      ],
      "text/plain": [
       "   Sentence #                                               Word  \\\n",
       "0           1  [organizations, decided, drop, women, accused,...   \n",
       "1           2  [Women, previously, worked, winning, actor, to...   \n",
       "\n",
       "                                               Lemma  \\\n",
       "0  [organization, decide, drop, woman, accuse, in...   \n",
       "1  [woman, previously, work, win, actor, tell, CN...   \n",
       "\n",
       "                                                 Tag  \\\n",
       "0           [NNS, VBN, VB, NNS, VBD, JJ, NN, JJ, NN]   \n",
       "1  [NNS, RB, VBD, VBG, NN, VBD, NNP, RB, NNS, NNS...   \n",
       "\n",
       "                                                 POS  \\\n",
       "0  [NOUN, VERB, VERB, NOUN, VERB, ADJ, NOUN, ADJ,...   \n",
       "1  [NOUN, ADV, VERB, VERB, NOUN, VERB, PROPN, ADV...   \n",
       "\n",
       "                                                 Dep  \\\n",
       "0  [NSUBJ, ROOT, XCOMP, NSUBJ, ADVCL, AMOD, POBJ,...   \n",
       "1  [NSUBJ, ADVMOD, RELCL, AMOD, POBJ, ROOT, DOBJ,...   \n",
       "\n",
       "                                            Polarity  \\\n",
       "0  [0.506489491162892, 0.32769425602846003, -0.12...   \n",
       "1  [0.0, -0.111174966250348, 0.0, 0.7726255539569...   \n",
       "\n",
       "                                       Sentiment  \\\n",
       "0                    [1, 1, 1, 1, 1, 1, 1, 1, 1]   \n",
       "1  [1, 1, 1, 1, 1, 1, 1, 1, 1, 1, 1, 1, 1, 1, 1]   \n",
       "\n",
       "                                   Polarity_rounded  \\\n",
       "0                   [15, 13, 9, 0, 11, 0, 0, 7, 17]   \n",
       "1  [0, 9, 0, 18, 11, 0, 0, 0, 2, 7, 20, 0, 9, 0, 0]   \n",
       "\n",
       "                                         Lemma_index  \\\n",
       "0  [2558, 1330, 1489, 3735, 649, 2059, 885, 3128,...   \n",
       "1  [3735, 2756, 3740, 3722, 661, 3428, 117, 2955,...   \n",
       "\n",
       "                                           Tag_index  \\\n",
       "0                 [18, 28, 25, 18, 26, 9, 15, 9, 15]   \n",
       "1  [18, 19, 26, 27, 15, 26, 16, 19, 18, 18, 15, 1...   \n",
       "\n",
       "                                           POS_index  \\\n",
       "0                     [8, 16, 16, 8, 16, 1, 8, 1, 8]   \n",
       "1  [8, 3, 16, 16, 8, 16, 12, 3, 8, 8, 8, 3, 16, 1...   \n",
       "\n",
       "                                           Dep_index  \n",
       "0                  [23, 36, 37, 23, 3, 5, 29, 5, 13]  \n",
       "1  [23, 4, 35, 5, 29, 36, 18, 4, 18, 29, 13, 4, 1...  "
      ]
     },
     "execution_count": 31,
     "metadata": {},
     "output_type": "execute_result"
    }
   ],
   "source": [
    "lemma_vocab = np.unique(df['Lemma']).tolist()\n",
    "lemma_vocab.insert(0, '<PAD>')\n",
    "\n",
    "tag_vocab = np.unique(df['Tag']).tolist()\n",
    "tag_vocab.insert(0, '<PAD>')\n",
    "\n",
    "pos_vocab = np.unique(df['POS']).tolist()\n",
    "pos_vocab.insert(0, '<PAD>')\n",
    "\n",
    "dep_vocab = np.unique(df['Dep']).tolist()\n",
    "dep_vocab.insert(0, '<PAD>')\n",
    "\n",
    "df['Polarity_rounded'] = df['Polarity'].apply(lambda s: pol_to_rep[round(float(s), 1)])\n",
    "polarity_range = []\n",
    "\n",
    "for i in np.arange(0.0, 2.1, 0.1):\n",
    "    polarity_range.append(int(round(i*10, 1)))\n",
    "\n",
    "i_to_lemma = {i:lemma for  i, lemma in enumerate(lemma_vocab)}\n",
    "lemma_to_i = {lemma:i for  i, lemma in enumerate(lemma_vocab)}\n",
    "\n",
    "i_to_tag = {i:tag for  i, tag in enumerate(tag_vocab)}\n",
    "tag_to_i = {tag:i for  i, tag in enumerate(tag_vocab)}\n",
    "\n",
    "i_to_pos = {i:pos for  i, pos in enumerate(pos_vocab)}\n",
    "pos_to_i = {pos:i for  i, pos in enumerate(pos_vocab)}\n",
    "\n",
    "i_to_dep = {i:dep for  i, dep in enumerate(dep_vocab)}\n",
    "dep_to_i = {dep:i for  i, dep in enumerate(dep_vocab)}\n",
    "\n",
    "df['Lemma_index'] = df['Lemma'].map(lemma_to_i)\n",
    "df['Tag_index'] = df['Tag'].map(tag_to_i)\n",
    "df['POS_index'] = df['POS'].map(pos_to_i)\n",
    "df['Dep_index'] = df['Dep'].map(dep_to_i)\n",
    "\n",
    "df = df.groupby(['Sentence #'],as_index=False)['Word', 'Lemma', 'Tag', 'POS', 'Dep', 'Polarity', 'Sentiment', 'Polarity_rounded', 'Lemma_index', 'Tag_index', 'POS_index', 'Dep_index'].agg(lambda x: list(x))\n",
    "#df = df.sample(frac=1).reset_index(drop=True)\n",
    "\n",
    "# df['Word'].apply(lambda s: s.insert(0,\"<SOS>\"))\n",
    "# df['Word'].apply(lambda s: s.insert(len(s),\"<EOS>\"))\n",
    "# df['Polarity_rounded'].apply(lambda s: s.insert(0,10))\n",
    "# df['Polarity_rounded'].apply(lambda s: s.insert(len(s),10))\n",
    "\n",
    "\n",
    "print(polarity_range)\n",
    "\n",
    "df.head(2)"
   ]
  },
  {
   "cell_type": "code",
   "execution_count": 32,
   "metadata": {},
   "outputs": [
    {
     "name": "stderr",
     "output_type": "stream",
     "text": [
      "No handles with labels found to put in legend.\n"
     ]
    },
    {
     "data": {
      "image/png": "[encoded data removed]",
      "text/plain": [
       "<Figure size 720x432 with 1 Axes>"
      ]
     },
     "metadata": {
      "needs_background": "light"
     },
     "output_type": "display_data"
    }
   ],
   "source": [
    "sentence_plot = df[\"Lemma\"].values\n",
    "sentence_plot_sorted = list(sorted(sentence_plot, key=len))\n",
    "c = Counter(map(len, sentence_plot_sorted))\n",
    "\n",
    "total_sentences = 0\n",
    "total_words = 0\n",
    "for i in c:\n",
    "    total_sentences = total_sentences + c[i]\n",
    "    total_words = total_words + c[i]*i\n",
    "\n",
    "sentences_80_pct = total_sentences / 100 * 90\n",
    "words_80_pct = total_words / 100 * 90\n",
    "\n",
    "boundary_sen = 0\n",
    "counter_sen = 0\n",
    "\n",
    "for i in c:\n",
    "    if(counter_sen + c[i] < int(sentences_80_pct)):\n",
    "        counter_sen = counter_sen + c[i]\n",
    "        boundary_sen = i\n",
    "    else:\n",
    "        break\n",
    "\n",
    "boundary_word = 0\n",
    "counter_word = 0\n",
    "\n",
    "for i in c:\n",
    "    if(counter_word + c[i] * i < int(words_80_pct)):\n",
    "        counter_word = counter_word + c[i] * i\n",
    "        boundary_word = i\n",
    "    else:\n",
    "        break\n",
    "\n",
    "\n",
    "my_cmap = plt.get_cmap(\"viridis\")\n",
    "rescale = lambda y: (y - np.min(y)) / (np.max(y) - np.min(y))\n",
    "\n",
    "\n",
    "plt.figure(figsize=[10,6])\n",
    "bars = plt.bar(list(c.keys()), list(c.values()), color=my_cmap(rescale(list(c.values()))), width=0.8, alpha=0.7, align='center')\n",
    "\n",
    "# for r in bars.get_children():\n",
    "#     if(r.get_x() > boundary_sen):\n",
    "#         r.set_alpha(0.2)\n",
    "\n",
    "plt.legend(loc=\"best\")\n",
    "plt.ylim([0, max(list(c.values()))+10])\n",
    "ax2 = plt.gca()\n",
    "\n",
    "ymin, ymax = ax2.get_ylim()\n",
    "plt.vlines(boundary_sen, ymin=ymin, ymax=ymax, colors='r', label='80% of sentences')\n",
    "plt.vlines(boundary_word, ymin=ymin, ymax=ymax, colors='black', label=\"80% of words\")\n",
    "\n",
    "plt.ylabel('Frequency of sentence', fontdict={'fontsize':13, 'fontweight': 'bold'})\n",
    "plt.xlabel('# words in sentence', fontdict={'fontsize':13, 'fontweight': 'bold'})\n",
    "plt.title(\"Distribution of sentence lengths\", fontdict={'fontsize':14, 'fontweight': 'bold'})\n",
    "plt.legend()\n",
    "plt.show()"
   ]
  },
  {
   "cell_type": "code",
   "execution_count": 41,
   "metadata": {},
   "outputs": [],
   "source": [
    "tokens = df['Lemma_index'].tolist()\n",
    "pos = df['POS_index'].tolist()\n",
    "polarities = df['Polarity_rounded'].tolist()\n",
    "\n",
    "max_length = boundary_sen\n",
    "pad_type = 'post'\n",
    "\n",
    "pad_tokens = pad_sequences(tokens, maxlen=max_length, dtype='int32', padding=pad_type)\n",
    "pad_pos = pad_sequences(pos, maxlen=max_length, dtype='int32', padding=pad_type)\n",
    "\n",
    "pad_polarities = pad_sequences(polarities, maxlen=max_length, dtype='int32', padding=pad_type, value=0)\n",
    "pad_polarities = [to_categorical(i, num_classes=len(pol_to_rep)) for i in pad_polarities]\n",
    "\n",
    "train_tokens, test_tokens, train_polarities, test_polarities = train_test_split(pad_tokens, pad_polarities, test_size=0.25)\n",
    "train_pos, test_pos, train_polarities, test_polarities = train_test_split(pad_pos, pad_polarities, test_size=0.25)"
   ]
  },
  {
   "cell_type": "code",
   "execution_count": 42,
   "metadata": {},
   "outputs": [],
   "source": [
    "import os\n",
    "import time\n",
    "import tensorflow as tf\n",
    "from keras import callbacks\n",
    "\n",
    "# Borrowed from: https://www.geeksforgeeks.org/choose-optimal-number-of-epochs-to-train-a-neural-network-in-keras/\n",
    "earlystopping = callbacks.EarlyStopping(monitor =\"val_loss\", \n",
    "                                        mode =\"min\", patience = 10, \n",
    "                                        restore_best_weights = True)\n",
    "\n",
    "model_name = 'words_multi_label_multi_feature'\n",
    "model_variant = 'base_sliced'\n",
    "\n",
    "def exponential_decay(lr0, s):\n",
    "    def exponential_decay_fn(epoch):\n",
    "        exp = lr0 * 0.1**(epoch / s)\n",
    "        tf.summary.scalar('learning rate', data=exp, step=epoch)\n",
    "        return exp\n",
    "    return exponential_decay_fn\n",
    "\n",
    "exponential_decay_fn = exponential_decay(lr0=0.01, s=10)\n",
    "lr_scheduler = tf.keras.callbacks.LearningRateScheduler(exponential_decay_fn)\n",
    "\n",
    "root_logdir = os.path.join(os.curdir, \"./logged_models/\" + model_name + '/' + model_variant)\n",
    "def get_run_logdir():\n",
    "    run_id = time.strftime(\"run_%Y_%m_%d-%H_%M_%S\")\n",
    "    return os.path.join(root_logdir, run_id)\n",
    "\n",
    "run_log_dir = get_run_logdir()\n",
    "file_writer = tf.summary.create_file_writer(run_log_dir + \"/metrics\")\n",
    "file_writer.set_as_default()\n",
    "\n",
    "tensorboard_cb = tf.keras.callbacks.TensorBoard(run_log_dir)\n",
    "\n",
    "mcp_save = callbacks.ModelCheckpoint('.mdl_wts.hdf5', save_best_only=True, monitor='val_loss', mode='min')\n",
    "\n",
    "my_callbacks = [earlystopping, lr_scheduler, tensorboard_cb]"
   ]
  },
  {
   "cell_type": "code",
   "execution_count": 43,
   "metadata": {},
   "outputs": [
    {
     "name": "stdout",
     "output_type": "stream",
     "text": [
      "Model: \"model_4\"\n",
      "__________________________________________________________________________________________________\n",
      "Layer (type)                    Output Shape         Param #     Connected to                     \n",
      "==================================================================================================\n",
      "token_input (InputLayer)        [(None, 16)]         0                                            \n",
      "__________________________________________________________________________________________________\n",
      "pos_input (InputLayer)          [(None, 16)]         0                                            \n",
      "__________________________________________________________________________________________________\n",
      "shared_embedding (Embedding)    (None, 16, 64)       241536      token_input[0][0]                \n",
      "                                                                 pos_input[0][0]                  \n",
      "__________________________________________________________________________________________________\n",
      "concatenate_4 (Concatenate)     (None, 16, 128)      0           shared_embedding[0][0]           \n",
      "                                                                 shared_embedding[1][0]           \n",
      "__________________________________________________________________________________________________\n",
      "token_bidir_lstm (Bidirectional (None, 16, 256)      263168      concatenate_4[0][0]              \n",
      "__________________________________________________________________________________________________\n",
      "token_bidir_lstm_2 (Bidirection (None, 16, 128)      164352      token_bidir_lstm[0][0]           \n",
      "__________________________________________________________________________________________________\n",
      "output (TimeDistributed)        (None, 16, 21)       2709        token_bidir_lstm_2[0][0]         \n",
      "==================================================================================================\n",
      "Total params: 671,765\n",
      "Trainable params: 671,765\n",
      "Non-trainable params: 0\n",
      "__________________________________________________________________________________________________\n"
     ]
    },
    {
     "name": "stderr",
     "output_type": "stream",
     "text": [
      "C:\\Users\\hanse\\AppData\\Local\\Packages\\PythonSoftwareFoundation.Python.3.9_qbz5n2kfra8p0\\LocalCache\\local-packages\\Python39\\site-packages\\keras\\optimizer_v2\\optimizer_v2.py:355: UserWarning: The `lr` argument is deprecated, use `learning_rate` instead.\n",
      "  warnings.warn(\n"
     ]
    },
    {
     "data": {
      "image/png": "[encoded data removed]",
      "text/plain": [
       "<IPython.core.display.Image object>"
      ]
     },
     "execution_count": 43,
     "metadata": {},
     "output_type": "execute_result"
    }
   ],
   "source": [
    "# Borrowed from: https://towardsdatascience.com/a-complete-step-by-step-tutorial-on-sentiment-analysis-in-keras-and-tensorflow-ea420cc8913f\n",
    "\n",
    "from tensorflow.keras.preprocessing.text import Tokenizer\n",
    "from tensorflow.keras.preprocessing.sequence import pad_sequences\n",
    "from keras import callbacks\n",
    "import numpy as np\n",
    "import tensorflow as tf\n",
    "\n",
    "input_dim = len(lemma_vocab)+1\n",
    "embedding_dim = 128\n",
    "output_dim = 64\n",
    "\n",
    "token_input = keras.Input(shape=(max_length,), name='token_input')\n",
    "pos_input = keras.Input(shape=(max_length,), name='pos_input')\n",
    "\n",
    "shared_embedding = layers.Embedding(input_dim=input_dim, output_dim=output_dim, input_length=max_length, mask_zero=True, name='shared_embedding')\n",
    "bidir_lstm = layers.Bidirectional(layers.LSTM(units=128, return_sequences=True, dropout=0.2, recurrent_dropout=0.2), merge_mode = 'concat', name='token_bidir_lstm')\n",
    "bidir_lstm_2 = layers.Bidirectional(layers.LSTM(units=64, return_sequences=True, dropout=0.1, recurrent_dropout=0.1), merge_mode = 'concat', name='token_bidir_lstm_2')\n",
    "\n",
    "token_embedding = shared_embedding(token_input)\n",
    "pos_embedding = shared_embedding(pos_input)\n",
    "\n",
    "concat = layers.concatenate([token_embedding, pos_embedding])\n",
    "bidir1 = bidir_lstm(concat)\n",
    "bidir2 = bidir_lstm_2(bidir1)\n",
    "output = layers.TimeDistributed(layers.Dense(len(pol_to_rep), activation=\"softmax\"), name='output')(bidir2)\n",
    "\n",
    "model = keras.Model(inputs=[token_input, pos_input], outputs=[output])\n",
    "\n",
    "adam = tf.keras.optimizers.Adam(lr=0.0005, beta_1=0.9, beta_2=0.999)\n",
    "model.compile(loss='categorical_crossentropy', optimizer=adam, metrics=['accuracy']) # cross entropy loss chapter 4 HOML - categorial crossentropy because to_categorial \n",
    "model.summary()\n",
    "plot_model(model)"
   ]
  },
  {
   "cell_type": "code",
   "execution_count": 44,
   "metadata": {},
   "outputs": [
    {
     "name": "stdout",
     "output_type": "stream",
     "text": [
      "Epoch 1/50\n",
      "28/28 [==============================] - 19s 226ms/step - loss: 0.7535 - accuracy: 0.5563 - val_loss: 0.6457 - val_accuracy: 0.5683\n",
      "Epoch 2/50\n",
      "28/28 [==============================] - 2s 72ms/step - loss: 0.6519 - accuracy: 0.5779 - val_loss: 0.6522 - val_accuracy: 0.5675\n",
      "Epoch 3/50\n",
      "28/28 [==============================] - 2s 72ms/step - loss: 0.6006 - accuracy: 0.5779 - val_loss: 0.6826 - val_accuracy: 0.5675\n",
      "Epoch 4/50\n",
      "28/28 [==============================] - 2s 70ms/step - loss: 0.5506 - accuracy: 0.5777 - val_loss: 0.7591 - val_accuracy: 0.5683\n",
      "Epoch 5/50\n",
      "28/28 [==============================] - 2s 67ms/step - loss: 0.5045 - accuracy: 0.5799 - val_loss: 0.8754 - val_accuracy: 0.5541\n",
      "Epoch 6/50\n",
      "28/28 [==============================] - 2s 66ms/step - loss: 0.4751 - accuracy: 0.5842 - val_loss: 0.9142 - val_accuracy: 0.5147\n",
      "Epoch 7/50\n",
      "28/28 [==============================] - 2s 65ms/step - loss: 0.4525 - accuracy: 0.5963 - val_loss: 0.9800 - val_accuracy: 0.4677\n",
      "Epoch 8/50\n",
      "28/28 [==============================] - 2s 65ms/step - loss: 0.4320 - accuracy: 0.6083 - val_loss: 1.0497 - val_accuracy: 0.4585\n",
      "Epoch 9/50\n",
      "28/28 [==============================] - 2s 65ms/step - loss: 0.4152 - accuracy: 0.6238 - val_loss: 1.0865 - val_accuracy: 0.4141\n",
      "Epoch 10/50\n",
      "28/28 [==============================] - 2s 64ms/step - loss: 0.4037 - accuracy: 0.6336 - val_loss: 1.1341 - val_accuracy: 0.4149\n",
      "Epoch 11/50\n",
      "28/28 [==============================] - 2s 64ms/step - loss: 0.3888 - accuracy: 0.6382 - val_loss: 1.1742 - val_accuracy: 0.3990\n"
     ]
    }
   ],
   "source": [
    "history = model.fit([train_tokens, train_pos], np.array(train_polarities), epochs=50, callbacks=my_callbacks, validation_split=0.2)\n",
    "\n",
    "model.save('classifiers/' + model_name + '/' + model_variant + '.h5')"
   ]
  },
  {
   "cell_type": "code",
   "execution_count": 57,
   "metadata": {},
   "outputs": [],
   "source": [
    "y_pred = model.predict([test_tokens, test_pos])"
   ]
  },
  {
   "cell_type": "code",
   "execution_count": 66,
   "metadata": {},
   "outputs": [
    {
     "data": {
      "text/plain": [
       "84"
      ]
     },
     "execution_count": 66,
     "metadata": {},
     "output_type": "execute_result"
    }
   ],
   "source": [
    "y_pred[350].argmax()"
   ]
  },
  {
   "cell_type": "code",
   "execution_count": 49,
   "metadata": {},
   "outputs": [
    {
     "name": "stdout",
     "output_type": "stream",
     "text": [
      "[ 0  8  0  0  0  0  0  0  0  0  0  0  0  0  0  0 13  9  0  0  0  0  0  0\n",
      "  0  0  0  0  0  0] [0 0 0 0 0 0 0 0 0 0 0 0 0 0 0 0 0 0 0 0 0 0 0 0 0 0 0 0 0 0]\n",
      "[0.77989865 0.         0.         0.         0.         0.\n",
      " 0.         0.         0.         0.         0.         0.\n",
      " 0.         0.         0.         0.         0.         0.\n",
      " 0.         0.         0.        ]\n",
      "[0, 1, 2, 3, 4, 5, 6, 7, 8, 9, 10, 11, 12, 13, 14, 15, 16, 17, 18, 19, 20]\n"
     ]
    },
    {
     "data": {
      "image/png": "[encoded data removed]",
      "text/plain": [
       "<Figure size 1332x756 with 1 Axes>"
      ]
     },
     "metadata": {
      "needs_background": "light"
     },
     "output_type": "display_data"
    }
   ],
   "source": [
    "from sklearn.metrics import confusion_matrix\n",
    "from itertools import chain\n",
    "\n",
    "y_classes = y_pred.argmax(axis=-1)\n",
    "cm_true = np.array(test_polarities).argmax(axis=-1).flatten()\n",
    "cm_pred = y_classes.flatten()\n",
    "\n",
    "#cm_true = [x - 10 for x in cm_true]\n",
    "#cm_pred = [x - 10 for x in cm_pred]\n",
    "\n",
    "\n",
    "print(cm_true[:30], cm_pred[:30])\n",
    "\n",
    "\n",
    "cm = confusion_matrix(cm_true, cm_pred, normalize='pred')\n",
    "\n",
    "print(cm[0])\n",
    "\n",
    "fig = plt.figure( figsize=[18.5,10.5])\n",
    "ax = fig.add_subplot(111)\n",
    "cax = ax.matshow(cm)\n",
    "ax.set_xlabel('Predicted sentiment', fontsize = 15, labelpad=15.0)\n",
    "ax.xaxis.set_label_position('top')\n",
    "ax.set_ylabel('True sentiment', fontsize = 15, labelpad=15.0)\n",
    "ax.set_title('Multiclass sentiment analysis ranging from -1 to 1',fontweight=\"bold\", size=20, pad=100.0)\n",
    "\n",
    "conf_x = []\n",
    "\n",
    "temp = set(chain(*df['Polarity_rounded']))\n",
    "\n",
    "for i in temp:\n",
    "    conf_x.append(i)\n",
    "\n",
    "print(sorted(conf_x))\n",
    "\n",
    "cm_axis_vals = []\n",
    "\n",
    "for x in np.unique(np.array(cm_pred)):\n",
    "    cm_axis_vals.append(rep_to_pol[x])\n",
    "\n"
   ]
  },
  {
   "cell_type": "code",
   "execution_count": 47,
   "metadata": {},
   "outputs": [
    {
     "data": {
      "text/plain": [
       "array([0], dtype=int64)"
      ]
     },
     "execution_count": 47,
     "metadata": {},
     "output_type": "execute_result"
    }
   ],
   "source": [
    "np.unique(np.array(cm_pred))"
   ]
  },
  {
   "cell_type": "code",
   "execution_count": 48,
   "metadata": {},
   "outputs": [
    {
     "ename": "ValueError",
     "evalue": "The number of FixedLocator locations (21), usually from a call to set_ticks, does not match the number of ticklabels (1).",
     "output_type": "error",
     "traceback": [
      "\u001b[1;31m---------------------------------------------------------------------------\u001b[0m",
      "\u001b[1;31mValueError\u001b[0m                                Traceback (most recent call last)",
      "\u001b[1;32m~\\AppData\\Local\\Temp/ipykernel_2648/3723818549.py\u001b[0m in \u001b[0;36m<module>\u001b[1;34m\u001b[0m\n\u001b[0;32m      1\u001b[0m \u001b[0mfig\u001b[0m\u001b[1;33m.\u001b[0m\u001b[0mcolorbar\u001b[0m\u001b[1;33m(\u001b[0m\u001b[0mcax\u001b[0m\u001b[1;33m)\u001b[0m\u001b[1;33m\u001b[0m\u001b[1;33m\u001b[0m\u001b[0m\n\u001b[1;32m----> 2\u001b[1;33m \u001b[0mplt\u001b[0m\u001b[1;33m.\u001b[0m\u001b[0mxticks\u001b[0m\u001b[1;33m(\u001b[0m\u001b[0mrange\u001b[0m\u001b[1;33m(\u001b[0m\u001b[0mlen\u001b[0m\u001b[1;33m(\u001b[0m\u001b[0mcm\u001b[0m\u001b[1;33m[\u001b[0m\u001b[1;36m0\u001b[0m\u001b[1;33m]\u001b[0m\u001b[1;33m)\u001b[0m\u001b[1;33m)\u001b[0m\u001b[1;33m,\u001b[0m\u001b[0mcm_axis_vals\u001b[0m\u001b[1;33m,\u001b[0m \u001b[0mrotation\u001b[0m\u001b[1;33m=\u001b[0m\u001b[1;36m90\u001b[0m\u001b[1;33m)\u001b[0m\u001b[1;33m\u001b[0m\u001b[1;33m\u001b[0m\u001b[0m\n\u001b[0m\u001b[0;32m      3\u001b[0m \u001b[0mplt\u001b[0m\u001b[1;33m.\u001b[0m\u001b[0myticks\u001b[0m\u001b[1;33m(\u001b[0m\u001b[0mrange\u001b[0m\u001b[1;33m(\u001b[0m\u001b[0mlen\u001b[0m\u001b[1;33m(\u001b[0m\u001b[0mcm\u001b[0m\u001b[1;33m[\u001b[0m\u001b[1;36m0\u001b[0m\u001b[1;33m]\u001b[0m\u001b[1;33m)\u001b[0m\u001b[1;33m)\u001b[0m\u001b[1;33m,\u001b[0m \u001b[0mcm_axis_vals\u001b[0m\u001b[1;33m)\u001b[0m\u001b[1;33m\u001b[0m\u001b[1;33m\u001b[0m\u001b[0m\n\u001b[0;32m      4\u001b[0m \u001b[0mplt\u001b[0m\u001b[1;33m.\u001b[0m\u001b[0mshow\u001b[0m\u001b[1;33m(\u001b[0m\u001b[1;33m)\u001b[0m\u001b[1;33m\u001b[0m\u001b[1;33m\u001b[0m\u001b[0m\n",
      "\u001b[1;32m~\\AppData\\Local\\Packages\\PythonSoftwareFoundation.Python.3.9_qbz5n2kfra8p0\\LocalCache\\local-packages\\Python39\\site-packages\\matplotlib\\pyplot.py\u001b[0m in \u001b[0;36mxticks\u001b[1;34m(ticks, labels, **kwargs)\u001b[0m\n\u001b[0;32m   1812\u001b[0m         \u001b[0mlabels\u001b[0m \u001b[1;33m=\u001b[0m \u001b[0max\u001b[0m\u001b[1;33m.\u001b[0m\u001b[0mget_xticklabels\u001b[0m\u001b[1;33m(\u001b[0m\u001b[1;33m)\u001b[0m\u001b[1;33m\u001b[0m\u001b[1;33m\u001b[0m\u001b[0m\n\u001b[0;32m   1813\u001b[0m     \u001b[1;32melse\u001b[0m\u001b[1;33m:\u001b[0m\u001b[1;33m\u001b[0m\u001b[1;33m\u001b[0m\u001b[0m\n\u001b[1;32m-> 1814\u001b[1;33m         \u001b[0mlabels\u001b[0m \u001b[1;33m=\u001b[0m \u001b[0max\u001b[0m\u001b[1;33m.\u001b[0m\u001b[0mset_xticklabels\u001b[0m\u001b[1;33m(\u001b[0m\u001b[0mlabels\u001b[0m\u001b[1;33m,\u001b[0m \u001b[1;33m**\u001b[0m\u001b[0mkwargs\u001b[0m\u001b[1;33m)\u001b[0m\u001b[1;33m\u001b[0m\u001b[1;33m\u001b[0m\u001b[0m\n\u001b[0m\u001b[0;32m   1815\u001b[0m     \u001b[1;32mfor\u001b[0m \u001b[0ml\u001b[0m \u001b[1;32min\u001b[0m \u001b[0mlabels\u001b[0m\u001b[1;33m:\u001b[0m\u001b[1;33m\u001b[0m\u001b[1;33m\u001b[0m\u001b[0m\n\u001b[0;32m   1816\u001b[0m         \u001b[0ml\u001b[0m\u001b[1;33m.\u001b[0m\u001b[0mupdate\u001b[0m\u001b[1;33m(\u001b[0m\u001b[0mkwargs\u001b[0m\u001b[1;33m)\u001b[0m\u001b[1;33m\u001b[0m\u001b[1;33m\u001b[0m\u001b[0m\n",
      "\u001b[1;32m~\\AppData\\Local\\Packages\\PythonSoftwareFoundation.Python.3.9_qbz5n2kfra8p0\\LocalCache\\local-packages\\Python39\\site-packages\\matplotlib\\axes\\_base.py\u001b[0m in \u001b[0;36mwrapper\u001b[1;34m(self, *args, **kwargs)\u001b[0m\n\u001b[0;32m     71\u001b[0m \u001b[1;33m\u001b[0m\u001b[0m\n\u001b[0;32m     72\u001b[0m         \u001b[1;32mdef\u001b[0m \u001b[0mwrapper\u001b[0m\u001b[1;33m(\u001b[0m\u001b[0mself\u001b[0m\u001b[1;33m,\u001b[0m \u001b[1;33m*\u001b[0m\u001b[0margs\u001b[0m\u001b[1;33m,\u001b[0m \u001b[1;33m**\u001b[0m\u001b[0mkwargs\u001b[0m\u001b[1;33m)\u001b[0m\u001b[1;33m:\u001b[0m\u001b[1;33m\u001b[0m\u001b[1;33m\u001b[0m\u001b[0m\n\u001b[1;32m---> 73\u001b[1;33m             \u001b[1;32mreturn\u001b[0m \u001b[0mget_method\u001b[0m\u001b[1;33m(\u001b[0m\u001b[0mself\u001b[0m\u001b[1;33m)\u001b[0m\u001b[1;33m(\u001b[0m\u001b[1;33m*\u001b[0m\u001b[0margs\u001b[0m\u001b[1;33m,\u001b[0m \u001b[1;33m**\u001b[0m\u001b[0mkwargs\u001b[0m\u001b[1;33m)\u001b[0m\u001b[1;33m\u001b[0m\u001b[1;33m\u001b[0m\u001b[0m\n\u001b[0m\u001b[0;32m     74\u001b[0m \u001b[1;33m\u001b[0m\u001b[0m\n\u001b[0;32m     75\u001b[0m         \u001b[0mwrapper\u001b[0m\u001b[1;33m.\u001b[0m\u001b[0m__module__\u001b[0m \u001b[1;33m=\u001b[0m \u001b[0mowner\u001b[0m\u001b[1;33m.\u001b[0m\u001b[0m__module__\u001b[0m\u001b[1;33m\u001b[0m\u001b[1;33m\u001b[0m\u001b[0m\n",
      "\u001b[1;32m~\\AppData\\Local\\Packages\\PythonSoftwareFoundation.Python.3.9_qbz5n2kfra8p0\\LocalCache\\local-packages\\Python39\\site-packages\\matplotlib\\_api\\deprecation.py\u001b[0m in \u001b[0;36mwrapper\u001b[1;34m(*args, **kwargs)\u001b[0m\n\u001b[0;32m    469\u001b[0m                 \u001b[1;34m\"parameter will become keyword-only %(removal)s.\"\u001b[0m\u001b[1;33m,\u001b[0m\u001b[1;33m\u001b[0m\u001b[1;33m\u001b[0m\u001b[0m\n\u001b[0;32m    470\u001b[0m                 name=name, obj_type=f\"parameter of {func.__name__}()\")\n\u001b[1;32m--> 471\u001b[1;33m         \u001b[1;32mreturn\u001b[0m \u001b[0mfunc\u001b[0m\u001b[1;33m(\u001b[0m\u001b[1;33m*\u001b[0m\u001b[0margs\u001b[0m\u001b[1;33m,\u001b[0m \u001b[1;33m**\u001b[0m\u001b[0mkwargs\u001b[0m\u001b[1;33m)\u001b[0m\u001b[1;33m\u001b[0m\u001b[1;33m\u001b[0m\u001b[0m\n\u001b[0m\u001b[0;32m    472\u001b[0m \u001b[1;33m\u001b[0m\u001b[0m\n\u001b[0;32m    473\u001b[0m     \u001b[1;32mreturn\u001b[0m \u001b[0mwrapper\u001b[0m\u001b[1;33m\u001b[0m\u001b[1;33m\u001b[0m\u001b[0m\n",
      "\u001b[1;32m~\\AppData\\Local\\Packages\\PythonSoftwareFoundation.Python.3.9_qbz5n2kfra8p0\\LocalCache\\local-packages\\Python39\\site-packages\\matplotlib\\axis.py\u001b[0m in \u001b[0;36m_set_ticklabels\u001b[1;34m(self, labels, fontdict, minor, **kwargs)\u001b[0m\n\u001b[0;32m   1793\u001b[0m         \u001b[1;32mif\u001b[0m \u001b[0mfontdict\u001b[0m \u001b[1;32mis\u001b[0m \u001b[1;32mnot\u001b[0m \u001b[1;32mNone\u001b[0m\u001b[1;33m:\u001b[0m\u001b[1;33m\u001b[0m\u001b[1;33m\u001b[0m\u001b[0m\n\u001b[0;32m   1794\u001b[0m             \u001b[0mkwargs\u001b[0m\u001b[1;33m.\u001b[0m\u001b[0mupdate\u001b[0m\u001b[1;33m(\u001b[0m\u001b[0mfontdict\u001b[0m\u001b[1;33m)\u001b[0m\u001b[1;33m\u001b[0m\u001b[1;33m\u001b[0m\u001b[0m\n\u001b[1;32m-> 1795\u001b[1;33m         \u001b[1;32mreturn\u001b[0m \u001b[0mself\u001b[0m\u001b[1;33m.\u001b[0m\u001b[0mset_ticklabels\u001b[0m\u001b[1;33m(\u001b[0m\u001b[0mlabels\u001b[0m\u001b[1;33m,\u001b[0m \u001b[0mminor\u001b[0m\u001b[1;33m=\u001b[0m\u001b[0mminor\u001b[0m\u001b[1;33m,\u001b[0m \u001b[1;33m**\u001b[0m\u001b[0mkwargs\u001b[0m\u001b[1;33m)\u001b[0m\u001b[1;33m\u001b[0m\u001b[1;33m\u001b[0m\u001b[0m\n\u001b[0m\u001b[0;32m   1796\u001b[0m \u001b[1;33m\u001b[0m\u001b[0m\n\u001b[0;32m   1797\u001b[0m     \u001b[1;32mdef\u001b[0m \u001b[0mset_ticks\u001b[0m\u001b[1;33m(\u001b[0m\u001b[0mself\u001b[0m\u001b[1;33m,\u001b[0m \u001b[0mticks\u001b[0m\u001b[1;33m,\u001b[0m \u001b[1;33m*\u001b[0m\u001b[1;33m,\u001b[0m \u001b[0mminor\u001b[0m\u001b[1;33m=\u001b[0m\u001b[1;32mFalse\u001b[0m\u001b[1;33m)\u001b[0m\u001b[1;33m:\u001b[0m\u001b[1;33m\u001b[0m\u001b[1;33m\u001b[0m\u001b[0m\n",
      "\u001b[1;32m~\\AppData\\Local\\Packages\\PythonSoftwareFoundation.Python.3.9_qbz5n2kfra8p0\\LocalCache\\local-packages\\Python39\\site-packages\\matplotlib\\axis.py\u001b[0m in \u001b[0;36mset_ticklabels\u001b[1;34m(self, ticklabels, minor, **kwargs)\u001b[0m\n\u001b[0;32m   1714\u001b[0m             \u001b[1;31m# remove all tick labels, so only error for > 0 ticklabels\u001b[0m\u001b[1;33m\u001b[0m\u001b[1;33m\u001b[0m\u001b[0m\n\u001b[0;32m   1715\u001b[0m             \u001b[1;32mif\u001b[0m \u001b[0mlen\u001b[0m\u001b[1;33m(\u001b[0m\u001b[0mlocator\u001b[0m\u001b[1;33m.\u001b[0m\u001b[0mlocs\u001b[0m\u001b[1;33m)\u001b[0m \u001b[1;33m!=\u001b[0m \u001b[0mlen\u001b[0m\u001b[1;33m(\u001b[0m\u001b[0mticklabels\u001b[0m\u001b[1;33m)\u001b[0m \u001b[1;32mand\u001b[0m \u001b[0mlen\u001b[0m\u001b[1;33m(\u001b[0m\u001b[0mticklabels\u001b[0m\u001b[1;33m)\u001b[0m \u001b[1;33m!=\u001b[0m \u001b[1;36m0\u001b[0m\u001b[1;33m:\u001b[0m\u001b[1;33m\u001b[0m\u001b[1;33m\u001b[0m\u001b[0m\n\u001b[1;32m-> 1716\u001b[1;33m                 raise ValueError(\n\u001b[0m\u001b[0;32m   1717\u001b[0m                     \u001b[1;34m\"The number of FixedLocator locations\"\u001b[0m\u001b[1;33m\u001b[0m\u001b[1;33m\u001b[0m\u001b[0m\n\u001b[0;32m   1718\u001b[0m                     \u001b[1;34mf\" ({len(locator.locs)}), usually from a call to\"\u001b[0m\u001b[1;33m\u001b[0m\u001b[1;33m\u001b[0m\u001b[0m\n",
      "\u001b[1;31mValueError\u001b[0m: The number of FixedLocator locations (21), usually from a call to set_ticks, does not match the number of ticklabels (1)."
     ]
    },
    {
     "data": {
      "image/png": "[encoded data removed]",
      "text/plain": [
       "<Figure size 432x288 with 1 Axes>"
      ]
     },
     "metadata": {
      "needs_background": "light"
     },
     "output_type": "display_data"
    }
   ],
   "source": [
    "\n",
    "fig.colorbar(cax)\n",
    "plt.xticks(range(len(cm[0])),cm_axis_vals, rotation=90)\n",
    "plt.yticks(range(len(cm[0])), cm_axis_vals)\n",
    "plt.show()"
   ]
  },
  {
   "cell_type": "code",
   "execution_count": null,
   "metadata": {},
   "outputs": [],
   "source": [
    "report = classification_report(cm_true, cm_pred, output_dict=True)\n",
    "df_perf = pd.DataFrame.from_dict(report).transpose()\n",
    "df_perf_2 = df_perf[:11]\n",
    "df_perf_2.insert(loc=0, column='Polarity', value=conf_x)\n",
    "df_perf_2.precision = df_perf_2.precision.round(2)\n",
    "df_perf_2.recall = df_perf_2.recall.round(2)\n",
    "df_perf_2['f1-score'] = df_perf_2['f1-score'].round(2)\n",
    "df_perf_2.support = df_perf_2.support.round()\n",
    "df_perf_2.reset_index(drop=True, inplace=True)\n",
    "\n",
    "\n",
    "df_perf_2"
   ]
  },
  {
   "cell_type": "code",
   "execution_count": null,
   "metadata": {},
   "outputs": [
    {
     "ename": "NameError",
     "evalue": "name 'y_pred' is not defined",
     "output_type": "error",
     "traceback": [
      "\u001b[1;31m---------------------------------------------------------------------------\u001b[0m",
      "\u001b[1;31mNameError\u001b[0m                                 Traceback (most recent call last)",
      "\u001b[1;32m~\\AppData\\Local\\Temp/ipykernel_2648/1283781320.py\u001b[0m in \u001b[0;36m<module>\u001b[1;34m\u001b[0m\n\u001b[1;32m----> 1\u001b[1;33m \u001b[0my_pred\u001b[0m\u001b[1;33m.\u001b[0m\u001b[0margmax\u001b[0m\u001b[1;33m(\u001b[0m\u001b[0maxis\u001b[0m\u001b[1;33m=\u001b[0m\u001b[1;33m-\u001b[0m\u001b[1;36m1\u001b[0m\u001b[1;33m)\u001b[0m\u001b[1;33m\u001b[0m\u001b[1;33m\u001b[0m\u001b[0m\n\u001b[0m\u001b[0;32m      2\u001b[0m \u001b[0mmin_sent\u001b[0m \u001b[1;33m=\u001b[0m \u001b[1;36m7\u001b[0m\u001b[1;33m\u001b[0m\u001b[1;33m\u001b[0m\u001b[0m\n\u001b[0;32m      3\u001b[0m \u001b[0mmax_sent\u001b[0m \u001b[1;33m=\u001b[0m \u001b[1;36m14\u001b[0m\u001b[1;33m\u001b[0m\u001b[1;33m\u001b[0m\u001b[0m\n\u001b[0;32m      4\u001b[0m \u001b[1;32mfor\u001b[0m \u001b[0mi\u001b[0m\u001b[1;33m,\u001b[0m \u001b[0mpred_sentiment\u001b[0m \u001b[1;32min\u001b[0m \u001b[0menumerate\u001b[0m\u001b[1;33m(\u001b[0m\u001b[0my_pred\u001b[0m\u001b[1;33m.\u001b[0m\u001b[0margmax\u001b[0m\u001b[1;33m(\u001b[0m\u001b[0maxis\u001b[0m\u001b[1;33m=\u001b[0m\u001b[1;33m-\u001b[0m\u001b[1;36m1\u001b[0m\u001b[1;33m)\u001b[0m\u001b[1;33m)\u001b[0m\u001b[1;33m:\u001b[0m\u001b[1;33m\u001b[0m\u001b[1;33m\u001b[0m\u001b[0m\n\u001b[0;32m      5\u001b[0m     \u001b[0mavg_sent\u001b[0m \u001b[1;33m=\u001b[0m \u001b[0msum\u001b[0m\u001b[1;33m(\u001b[0m\u001b[0mpred_sentiment\u001b[0m\u001b[1;33m)\u001b[0m\u001b[1;33m\u001b[0m\u001b[1;33m\u001b[0m\u001b[0m\n",
      "\u001b[1;31mNameError\u001b[0m: name 'y_pred' is not defined"
     ]
    }
   ],
   "source": [
    "y_pred.argmax(axis=-1)\n",
    "min_sent = 7\n",
    "max_sent = 14\n",
    "for i, pred_sentiment in enumerate(y_pred.argmax(axis=-1)):\n",
    "    avg_sent = sum(pred_sentiment) \n",
    "    if avg_sent < min_sent or avg_sent > max_sent:\n",
    "        print('--------------------------------------------------------------------------')\n",
    "        print('Sentence at index:', i, 'has a gender bias.\\nThe average sentiment of the sentence is:', round((avg_sent/10)-1, 2))\n",
    "        print('The sentence is: \"' + \" \".join(df.iloc[[i]]['Word'].tolist()[0]) + '\"')\n",
    "        polarities = df.iloc[[i]]['Polarity'].tolist()[0]\n",
    "        index_biased_word = np.argmin(polarities) if avg_sent < min_sent else np.argmax(polarities)\n",
    "        print('The bias most likely stems from the use of:', df.iloc[[i]]['Word'].tolist()[0][index_biased_word] + ', polarity is', round(df.iloc[[i]]['Polarity'].tolist()[0][index_biased_word], 2))\n",
    "        print(pred_sentiment[index_biased_word])"
   ]
  },
  {
   "cell_type": "code",
   "execution_count": null,
   "metadata": {},
   "outputs": [],
   "source": []
  }
 ],
 "metadata": {
  "interpreter": {
   "hash": "5ce0bbaaba556c243eee45087b7684ce43fda2aa9a5b0798832d1be21bf73af7"
  },
  "kernelspec": {
   "display_name": "Python 3.9.7 64-bit (windows store)",
   "name": "python3"
  },
  "language_info": {
   "codemirror_mode": {
    "name": "ipython",
    "version": 3
   },
   "file_extension": ".py",
   "mimetype": "text/x-python",
   "name": "python",
   "nbconvert_exporter": "python",
   "pygments_lexer": "ipython3",
   "version": "3.9.9"
  },
  "orig_nbformat": 4
 },
 "nbformat": 4,
 "nbformat_minor": 2
}
