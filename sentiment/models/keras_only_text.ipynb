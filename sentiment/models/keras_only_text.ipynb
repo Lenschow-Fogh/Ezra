{
 "cells": [
  {
   "cell_type": "code",
   "execution_count": 16,
   "metadata": {},
   "outputs": [
    {
     "name": "stdout",
     "output_type": "stream",
     "text": [
      "constructor of DataPrepper\n"
     ]
    }
   ],
   "source": [
    "# LOAD CLASS AND DATASET \n",
    "# dataset: https://www.kaggle.com/rmisra/news-category-dataset\n",
    "# start:    each doc in corpus contains an article link, category and other (irrelevant) key/value pairs\n",
    "# end goal: each doc in corpus contains a sentence with POS tagging and gender polarity, and label vector with actual gender\n",
    "import sys\n",
    "sys.path.append('../')\n",
    "\n",
    "%reload_ext autoreload\n",
    "%autoreload 2\n",
    "from classes.data_prepper import DataPrepper\n",
    "\n",
    "p = DataPrepper()\n",
    "\n",
    "import pandas as pd\n",
    "\n",
    "df = pd.read_json('../datasets/8_dataset_simple.json')\n",
    "df['sentiments'] = df.Gender.apply(lambda x: 0 if x == \"M\" else 1)"
   ]
  },
  {
   "cell_type": "code",
   "execution_count": 17,
   "metadata": {},
   "outputs": [
    {
     "data": {
      "text/html": [
       "<div>\n",
       "<style scoped>\n",
       "    .dataframe tbody tr th:only-of-type {\n",
       "        vertical-align: middle;\n",
       "    }\n",
       "\n",
       "    .dataframe tbody tr th {\n",
       "        vertical-align: top;\n",
       "    }\n",
       "\n",
       "    .dataframe thead th {\n",
       "        text-align: right;\n",
       "    }\n",
       "</style>\n",
       "<table border=\"1\" class=\"dataframe\">\n",
       "  <thead>\n",
       "    <tr style=\"text-align: right;\">\n",
       "      <th></th>\n",
       "      <th>Text</th>\n",
       "      <th>Gender</th>\n",
       "      <th>sentiments</th>\n",
       "    </tr>\n",
       "  </thead>\n",
       "  <tbody>\n",
       "    <tr>\n",
       "      <th>0</th>\n",
       "      <td>At least two organizations have decided to dro...</td>\n",
       "      <td>W</td>\n",
       "      <td>1</td>\n",
       "    </tr>\n",
       "    <tr>\n",
       "      <th>1</th>\n",
       "      <td>Women who previously worked with the Oscar win...</td>\n",
       "      <td>W</td>\n",
       "      <td>1</td>\n",
       "    </tr>\n",
       "    <tr>\n",
       "      <th>2</th>\n",
       "      <td>In response to the allegations Visa announced ...</td>\n",
       "      <td>W</td>\n",
       "      <td>1</td>\n",
       "    </tr>\n",
       "    <tr>\n",
       "      <th>3</th>\n",
       "      <td>We are aware of the allegations that have bee...</td>\n",
       "      <td>W</td>\n",
       "      <td>1</td>\n",
       "    </tr>\n",
       "    <tr>\n",
       "      <th>4</th>\n",
       "      <td>At this point Visa will be suspending our mark...</td>\n",
       "      <td>W</td>\n",
       "      <td>1</td>\n",
       "    </tr>\n",
       "    <tr>\n",
       "      <th>...</th>\n",
       "      <td>...</td>\n",
       "      <td>...</td>\n",
       "      <td>...</td>\n",
       "    </tr>\n",
       "    <tr>\n",
       "      <th>668170</th>\n",
       "      <td>We can just have guys or anybody out there not...</td>\n",
       "      <td>M</td>\n",
       "      <td>0</td>\n",
       "    </tr>\n",
       "    <tr>\n",
       "      <th>668171</th>\n",
       "      <td>Trade rumors about the reigning Defensive Pla...</td>\n",
       "      <td>M</td>\n",
       "      <td>0</td>\n",
       "    </tr>\n",
       "    <tr>\n",
       "      <th>668172</th>\n",
       "      <td>Before the season Howard was said to have made...</td>\n",
       "      <td>M</td>\n",
       "      <td>0</td>\n",
       "    </tr>\n",
       "    <tr>\n",
       "      <th>668173</th>\n",
       "      <td>Just last week he added the new look Los Angel...</td>\n",
       "      <td>M</td>\n",
       "      <td>0</td>\n",
       "    </tr>\n",
       "    <tr>\n",
       "      <th>668174</th>\n",
       "      <td>The Knicks and Celtics have also been named as...</td>\n",
       "      <td>M</td>\n",
       "      <td>0</td>\n",
       "    </tr>\n",
       "  </tbody>\n",
       "</table>\n",
       "<p>668175 rows × 3 columns</p>\n",
       "</div>"
      ],
      "text/plain": [
       "                                                     Text Gender  sentiments\n",
       "0       At least two organizations have decided to dro...      W           1\n",
       "1       Women who previously worked with the Oscar win...      W           1\n",
       "2       In response to the allegations Visa announced ...      W           1\n",
       "3        We are aware of the allegations that have bee...      W           1\n",
       "4       At this point Visa will be suspending our mark...      W           1\n",
       "...                                                   ...    ...         ...\n",
       "668170  We can just have guys or anybody out there not...      M           0\n",
       "668171   Trade rumors about the reigning Defensive Pla...      M           0\n",
       "668172  Before the season Howard was said to have made...      M           0\n",
       "668173  Just last week he added the new look Los Angel...      M           0\n",
       "668174  The Knicks and Celtics have also been named as...      M           0\n",
       "\n",
       "[668175 rows x 3 columns]"
      ]
     },
     "execution_count": 17,
     "metadata": {},
     "output_type": "execute_result"
    }
   ],
   "source": [
    "df"
   ]
  },
  {
   "cell_type": "code",
   "execution_count": 18,
   "metadata": {},
   "outputs": [
    {
     "name": "stdout",
     "output_type": "stream",
     "text": [
      "Model: \"sequential\"\n",
      "_________________________________________________________________\n",
      "Layer (type)                 Output Shape              Param #   \n",
      "=================================================================\n",
      "embedding (Embedding)        (None, 120, 16)           640000    \n",
      "_________________________________________________________________\n",
      "global_average_pooling1d (Gl (None, 16)                0         \n",
      "_________________________________________________________________\n",
      "dense (Dense)                (None, 6)                 102       \n",
      "_________________________________________________________________\n",
      "dense_1 (Dense)              (None, 1)                 7         \n",
      "=================================================================\n",
      "Total params: 640,109\n",
      "Trainable params: 640,109\n",
      "Non-trainable params: 0\n",
      "_________________________________________________________________\n",
      "Epoch 1/100\n",
      "16705/16705 [==============================] - 84s 5ms/step - loss: 0.4655 - accuracy: 0.7614 - val_loss: 0.3552 - val_accuracy: 0.8227\n",
      "Epoch 2/100\n",
      "16705/16705 [==============================] - 85s 5ms/step - loss: 0.4047 - accuracy: 0.7979 - val_loss: 0.3537 - val_accuracy: 0.8216\n",
      "Epoch 3/100\n",
      "16705/16705 [==============================] - 77s 5ms/step - loss: 0.3922 - accuracy: 0.8040 - val_loss: 0.3450 - val_accuracy: 0.8374\n",
      "Epoch 4/100\n",
      "16705/16705 [==============================] - 75s 4ms/step - loss: 0.3846 - accuracy: 0.8070 - val_loss: 0.3455 - val_accuracy: 0.8362\n",
      "Epoch 5/100\n",
      "16705/16705 [==============================] - 75s 4ms/step - loss: 0.3787 - accuracy: 0.8092 - val_loss: 0.3594 - val_accuracy: 0.8152\n",
      "Epoch 6/100\n",
      "16705/16705 [==============================] - 79s 5ms/step - loss: 0.3735 - accuracy: 0.8114 - val_loss: 0.3546 - val_accuracy: 0.8176\n",
      "Epoch 7/100\n",
      "16705/16705 [==============================] - 78s 5ms/step - loss: 0.3688 - accuracy: 0.8129 - val_loss: 0.3666 - val_accuracy: 0.8120\n",
      "Epoch 8/100\n",
      "16705/16705 [==============================] - 77s 5ms/step - loss: 0.3641 - accuracy: 0.8146 - val_loss: 0.3586 - val_accuracy: 0.8173\n"
     ]
    }
   ],
   "source": [
    "# Borrowed from: https://towardsdatascience.com/a-complete-step-by-step-tutorial-on-sentiment-analysis-in-keras-and-tensorflow-ea420cc8913f\n",
    "\n",
    "from tensorflow.keras.preprocessing.text import Tokenizer\n",
    "from tensorflow.keras.preprocessing.sequence import pad_sequences\n",
    "from keras import callbacks\n",
    "import tensorflow as tf\n",
    "tokenizer = Tokenizer(oov_token=\"<OOV>\")\n",
    "\n",
    "split = round(len(df)*0.8)\n",
    "train_texts = df['Text'][:split]\n",
    "train_label = df['sentiments'][:split]\n",
    "test_texts = df['Text'][split:]\n",
    "test_label = df['sentiments'][split:]\n",
    "\n",
    "import numpy as np\n",
    "training_sentences = []\n",
    "training_labels = []\n",
    "testing_sentences = []\n",
    "testing_labels = []\n",
    "for row in train_texts:\n",
    "    training_sentences.append(str(row))\n",
    "for row in train_label:\n",
    "    training_labels.append(row)\n",
    "for row in test_texts:\n",
    "    testing_sentences.append(str(row))\n",
    "for row in test_label:\n",
    "    testing_labels.append(row)\n",
    "\n",
    "vocab_size = 40000\n",
    "embedding_dim = 16\n",
    "max_length = 120\n",
    "trunc_type = 'post'\n",
    "oov_tok = '<OOV>'\n",
    "padding_type = 'post'\n",
    "\n",
    "tokenizer = Tokenizer(num_words=vocab_size, oov_token=oov_tok)\n",
    "tokenizer.fit_on_texts(training_sentences)\n",
    "word_index = tokenizer.word_index\n",
    "\n",
    "sequences = tokenizer.texts_to_sequences(training_sentences)\n",
    "padded = pad_sequences(sequences, maxlen=max_length, truncating=trunc_type)\n",
    "testing_sentences = tokenizer.texts_to_sequences(testing_sentences)\n",
    "testing_padded = pad_sequences(testing_sentences, maxlen=max_length)\n",
    "\n",
    "model = tf.keras.Sequential([\n",
    "    tf.keras.layers.Embedding(vocab_size, embedding_dim,       input_length=max_length),\n",
    "    tf.keras.layers.GlobalAveragePooling1D(),\n",
    "    tf.keras.layers.Dense(6, activation='relu'),\n",
    "    tf.keras.layers.Dense(1, activation='sigmoid')\n",
    "])\n",
    "\n",
    "model.compile(loss='binary_crossentropy', optimizer='adam', metrics=['accuracy'])\n",
    "\n",
    "model.summary()\n",
    "\n",
    "training_labels_final = np.array(training_labels)\n",
    "testing_labels_final = np.array(testing_labels)\n",
    "\n",
    "# Borrowed from: https://www.geeksforgeeks.org/choose-optimal-number-of-epochs-to-train-a-neural-network-in-keras/\n",
    "earlystopping = callbacks.EarlyStopping(monitor =\"val_loss\", \n",
    "                                        mode =\"min\", patience = 0, \n",
    "                                        restore_best_weights = True)\n",
    "\n",
    "num_epochs = 2\n",
    "history = model.fit(padded, training_labels_final, epochs=num_epochs, validation_data=(testing_padded, testing_labels_final), callbacks =[earlystopping])"
   ]
  },
  {
   "cell_type": "code",
   "execution_count": 19,
   "metadata": {},
   "outputs": [
    {
     "data": {
      "text/plain": [
       "ERROR: Could not find `tensorboard`. Please ensure that your PATH\n",
       "contains an executable `tensorboard` program, or explicitly specify\n",
       "the path to a TensorBoard binary by setting the `TENSORBOARD_BINARY`\n",
       "environment variable."
      ]
     },
     "metadata": {},
     "output_type": "display_data"
    },
    {
     "data": {
      "text/plain": [
       "<Figure size 432x288 with 0 Axes>"
      ]
     },
     "execution_count": 19,
     "metadata": {},
     "output_type": "execute_result"
    },
    {
     "data": {
      "image/png": "[encoded data removed]",
      "text/plain": [
       "<Figure size 432x288 with 1 Axes>"
      ]
     },
     "metadata": {
      "needs_background": "light"
     },
     "output_type": "display_data"
    },
    {
     "data": {
      "image/png": "[encoded data removed]",
      "text/plain": [
       "<Figure size 432x288 with 1 Axes>"
      ]
     },
     "metadata": {
      "needs_background": "light"
     },
     "output_type": "display_data"
    },
    {
     "data": {
      "text/plain": [
       "<Figure size 432x288 with 0 Axes>"
      ]
     },
     "metadata": {},
     "output_type": "display_data"
    }
   ],
   "source": [
    "%load_ext tensorboard\n",
    "%tensorboard --logdir=./la_logs --port=6006\n",
    "\n",
    "%matplotlib inline\n",
    "import matplotlib.pyplot as plt\n",
    "import matplotlib.image as mpimg\n",
    "acc = history.history['accuracy']\n",
    "val_acc = history.history['val_accuracy']\n",
    "loss = history.history['loss']\n",
    "val_loss = history.history['val_loss']\n",
    "epochs=range(len(acc))\n",
    "plt.plot(epochs, acc, 'r', 'Training Accuracy')\n",
    "plt.plot(epochs, val_acc, 'b', 'Validation Accuracy')\n",
    "plt.title('Training and validation accuracy')\n",
    "plt.figure()\n",
    "plt.plot(epochs, loss, 'r', 'Training Loss')\n",
    "plt.plot(epochs, val_loss, 'b', 'Validation Loss')\n",
    "plt.title('Training and validation loss')\n",
    "plt.figure()"
   ]
  },
  {
   "cell_type": "code",
   "execution_count": 36,
   "metadata": {},
   "outputs": [],
   "source": [
    "model.save('keras_simple.h5')"
   ]
  },
  {
   "cell_type": "code",
   "execution_count": 37,
   "metadata": {},
   "outputs": [],
   "source": [
    "model = tf.keras.models.load_model('keras_simple.h5')"
   ]
  }
 ],
 "metadata": {
  "interpreter": {
   "hash": "5ce0bbaaba556c243eee45087b7684ce43fda2aa9a5b0798832d1be21bf73af7"
  },
  "kernelspec": {
   "display_name": "Python 3.9.7 64-bit (windows store)",
   "name": "python3"
  },
  "language_info": {
   "codemirror_mode": {
    "name": "ipython",
    "version": 3
   },
   "file_extension": ".py",
   "mimetype": "text/x-python",
   "name": "python",
   "nbconvert_exporter": "python",
   "pygments_lexer": "ipython3",
   "version": "3.9.7"
  },
  "orig_nbformat": 4
 },
 "nbformat": 4,
 "nbformat_minor": 2
}
