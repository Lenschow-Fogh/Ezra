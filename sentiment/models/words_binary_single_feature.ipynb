{
 "cells": [
  {
   "cell_type": "code",
   "execution_count": 17,
   "metadata": {},
   "outputs": [],
   "source": [
    "import os\n",
    "os.environ['CUDA_VISIBLE_DEVICES'] = '-1'\n",
    "\n",
    "import pandas as pd\n",
    "import numpy as np\n",
    "from keras.preprocessing.sequence import pad_sequences\n",
    "from sklearn.model_selection import train_test_split\n",
    "import tensorflow as tf\n",
    "from tensorflow import keras\n",
    "from tensorflow.keras import layers\n",
    "from keras.utils.vis_utils import plot_model\n",
    "import time\n",
    "from sklearn.metrics import confusion_matrix\n",
    "import matplotlib.pyplot as plt\n",
    "from tensorflow.keras.utils import to_categorical\n",
    "from sklearn.metrics import classification_report\n",
    "from tensorflow.keras.preprocessing.text import Tokenizer\n",
    "from tensorflow.keras.preprocessing.sequence import pad_sequences\n",
    "from tensorflow.keras import layers\n",
    "from keras import callbacks\n",
    "import numpy as np\n",
    "import tensorflow as tf"
   ]
  },
  {
   "cell_type": "code",
   "execution_count": 18,
   "metadata": {},
   "outputs": [
    {
     "name": "stderr",
     "output_type": "stream",
     "text": [
      "C:\\Users\\hanse\\AppData\\Local\\Temp/ipykernel_3864/3762802835.py:17: FutureWarning: Indexing with multiple keys (implicitly converted to a tuple of keys) will be deprecated, use a list instead.\n",
      "  df = df.groupby(['Sentence #'],as_index=False)['Word', 'Lemma', 'Tag', 'POS', 'Dep', 'Polarity', 'sentiment'].agg(lambda x: list(x))\n"
     ]
    },
    {
     "data": {
      "text/html": [
       "<div>\n",
       "<style scoped>\n",
       "    .dataframe tbody tr th:only-of-type {\n",
       "        vertical-align: middle;\n",
       "    }\n",
       "\n",
       "    .dataframe tbody tr th {\n",
       "        vertical-align: top;\n",
       "    }\n",
       "\n",
       "    .dataframe thead th {\n",
       "        text-align: right;\n",
       "    }\n",
       "</style>\n",
       "<table border=\"1\" class=\"dataframe\">\n",
       "  <thead>\n",
       "    <tr style=\"text-align: right;\">\n",
       "      <th></th>\n",
       "      <th>Sentence #</th>\n",
       "      <th>Word</th>\n",
       "      <th>Lemma</th>\n",
       "      <th>Tag</th>\n",
       "      <th>POS</th>\n",
       "      <th>Dep</th>\n",
       "      <th>Polarity</th>\n",
       "      <th>sentiment</th>\n",
       "    </tr>\n",
       "  </thead>\n",
       "  <tbody>\n",
       "    <tr>\n",
       "      <th>0</th>\n",
       "      <td>406733</td>\n",
       "      <td>[Whip, DIY, skincare, treatment]</td>\n",
       "      <td>[whip, diy, skincare, treatment]</td>\n",
       "      <td>[VB, NN, NN, NN]</td>\n",
       "      <td>[VERB, NOUN, NOUN, NOUN]</td>\n",
       "      <td>[ROOT, COMPOUND, COMPOUND, DOBJ]</td>\n",
       "      <td>[0.0032185039427020004, 0.007093743507093001, ...</td>\n",
       "      <td>[2.0, 2.0, 2.0, 2.0]</td>\n",
       "    </tr>\n",
       "    <tr>\n",
       "      <th>1</th>\n",
       "      <td>457207</td>\n",
       "      <td>[dusty, rose, berry, burgundy, blushes, beauty...</td>\n",
       "      <td>[dusty, rise, berry, burgundy, blush, beauty, ...</td>\n",
       "      <td>[JJ, VBD, NN, NN, NNS, NN, NN, NN, JJ, VBG, JJ...</td>\n",
       "      <td>[ADJ, VERB, NOUN, NOUN, NOUN, NOUN, NOUN, NOUN...</td>\n",
       "      <td>[NSUBJ, ROOT, CONJ, COMPOUND, CONJ, COMPOUND, ...</td>\n",
       "      <td>[0.0008802730399210001, -0.13539414901264102, ...</td>\n",
       "      <td>[2.0, 2.0, 2.0, 2.0, 2.0, 2.0, 2.0, 2.0, 2.0, ...</td>\n",
       "    </tr>\n",
       "    <tr>\n",
       "      <th>2</th>\n",
       "      <td>562528</td>\n",
       "      <td>[followed, suit, condemning, actions]</td>\n",
       "      <td>[follow, suit, condemn, action]</td>\n",
       "      <td>[VBD, NN, VBG, NNS]</td>\n",
       "      <td>[VERB, NOUN, VERB, NOUN]</td>\n",
       "      <td>[ROOT, DOBJ, PCOMP, DOBJ]</td>\n",
       "      <td>[-0.153277040720876, 0.006368119734845, -0.006...</td>\n",
       "      <td>[2.0, 2.0, 2.0, 2.0]</td>\n",
       "    </tr>\n",
       "    <tr>\n",
       "      <th>3</th>\n",
       "      <td>614752</td>\n",
       "      <td>[Mrs., wearing, bright, spring, time, hues, la...</td>\n",
       "      <td>[Mrs., wear, bright, spring, time, hue, lately...</td>\n",
       "      <td>[NNP, VBG, JJ, NN, NN, NNS, RB, VBD, NNS, NN, ...</td>\n",
       "      <td>[PROPN, VERB, ADJ, NOUN, NOUN, NOUN, ADV, VERB...</td>\n",
       "      <td>[COMPOUND, ADVCL, AMOD, COMPOUND, COMPOUND, DO...</td>\n",
       "      <td>[0.013559198044936, 0.219309772653784, 0.01415...</td>\n",
       "      <td>[2.0, 2.0, 2.0, 2.0, 2.0, 2.0, 2.0, 2.0, 2.0, ...</td>\n",
       "    </tr>\n",
       "    <tr>\n",
       "      <th>4</th>\n",
       "      <td>556390</td>\n",
       "      <td>[failing, Life, Good]</td>\n",
       "      <td>[fail, life, good]</td>\n",
       "      <td>[VBG, NN, JJ]</td>\n",
       "      <td>[VERB, NOUN, ADJ]</td>\n",
       "      <td>[ROOT, NSUBJ, AMOD]</td>\n",
       "      <td>[-0.11598095226000801, -0.17466957345869003, -...</td>\n",
       "      <td>[2.0, 2.0, 2.0]</td>\n",
       "    </tr>\n",
       "  </tbody>\n",
       "</table>\n",
       "</div>"
      ],
      "text/plain": [
       "   Sentence #                                               Word  \\\n",
       "0      406733                   [Whip, DIY, skincare, treatment]   \n",
       "1      457207  [dusty, rose, berry, burgundy, blushes, beauty...   \n",
       "2      562528              [followed, suit, condemning, actions]   \n",
       "3      614752  [Mrs., wearing, bright, spring, time, hues, la...   \n",
       "4      556390                              [failing, Life, Good]   \n",
       "\n",
       "                                               Lemma  \\\n",
       "0                   [whip, diy, skincare, treatment]   \n",
       "1  [dusty, rise, berry, burgundy, blush, beauty, ...   \n",
       "2                    [follow, suit, condemn, action]   \n",
       "3  [Mrs., wear, bright, spring, time, hue, lately...   \n",
       "4                                 [fail, life, good]   \n",
       "\n",
       "                                                 Tag  \\\n",
       "0                                   [VB, NN, NN, NN]   \n",
       "1  [JJ, VBD, NN, NN, NNS, NN, NN, NN, JJ, VBG, JJ...   \n",
       "2                                [VBD, NN, VBG, NNS]   \n",
       "3  [NNP, VBG, JJ, NN, NN, NNS, RB, VBD, NNS, NN, ...   \n",
       "4                                      [VBG, NN, JJ]   \n",
       "\n",
       "                                                 POS  \\\n",
       "0                           [VERB, NOUN, NOUN, NOUN]   \n",
       "1  [ADJ, VERB, NOUN, NOUN, NOUN, NOUN, NOUN, NOUN...   \n",
       "2                           [VERB, NOUN, VERB, NOUN]   \n",
       "3  [PROPN, VERB, ADJ, NOUN, NOUN, NOUN, ADV, VERB...   \n",
       "4                                  [VERB, NOUN, ADJ]   \n",
       "\n",
       "                                                 Dep  \\\n",
       "0                   [ROOT, COMPOUND, COMPOUND, DOBJ]   \n",
       "1  [NSUBJ, ROOT, CONJ, COMPOUND, CONJ, COMPOUND, ...   \n",
       "2                          [ROOT, DOBJ, PCOMP, DOBJ]   \n",
       "3  [COMPOUND, ADVCL, AMOD, COMPOUND, COMPOUND, DO...   \n",
       "4                                [ROOT, NSUBJ, AMOD]   \n",
       "\n",
       "                                            Polarity  \\\n",
       "0  [0.0032185039427020004, 0.007093743507093001, ...   \n",
       "1  [0.0008802730399210001, -0.13539414901264102, ...   \n",
       "2  [-0.153277040720876, 0.006368119734845, -0.006...   \n",
       "3  [0.013559198044936, 0.219309772653784, 0.01415...   \n",
       "4  [-0.11598095226000801, -0.17466957345869003, -...   \n",
       "\n",
       "                                           sentiment  \n",
       "0                               [2.0, 2.0, 2.0, 2.0]  \n",
       "1  [2.0, 2.0, 2.0, 2.0, 2.0, 2.0, 2.0, 2.0, 2.0, ...  \n",
       "2                               [2.0, 2.0, 2.0, 2.0]  \n",
       "3  [2.0, 2.0, 2.0, 2.0, 2.0, 2.0, 2.0, 2.0, 2.0, ...  \n",
       "4                                    [2.0, 2.0, 2.0]  "
      ]
     },
     "execution_count": 18,
     "metadata": {},
     "output_type": "execute_result"
    },
    {
     "data": {
      "image/png": "[encoded data removed]",
      "text/plain": [
       "<Figure size 720x360 with 1 Axes>"
      ]
     },
     "metadata": {
      "needs_background": "light"
     },
     "output_type": "display_data"
    },
    {
     "data": {
      "image/png": "[encoded data removed]",
      "text/plain": [
       "<Figure size 432x288 with 1 Axes>"
      ]
     },
     "metadata": {
      "needs_background": "light"
     },
     "output_type": "display_data"
    }
   ],
   "source": [
    "import pandas as pd\n",
    "\n",
    "df = pd.read_json('../datasets/7_dataset_w_tags_SM.json')\n",
    "\n",
    "M, W = df[\"Gender\"].value_counts()\n",
    "if M>W:\n",
    "    diff = M-W\n",
    "    df = df.drop(df.loc[df['Gender'] == 'M'].index[:diff], axis=0)\n",
    "elif W>M:\n",
    "    diff = W-M\n",
    "    df = df.drop(df.loc[df['Gender'] == 'W'].index[:diff], axis=0)\n",
    "\n",
    "df[\"Gender\"].value_counts().plot(kind=\"bar\", figsize=(10,5))\n",
    "df['sentiment'] = df.Gender.apply(lambda x: 0. if x == \"M\" else 2.)\n",
    "df = df.drop('Gender', axis=1)\n",
    "df['Dep'] = df['Dep'].str.upper()\n",
    "df = df.groupby(['Sentence #'],as_index=False)['Word', 'Lemma', 'Tag', 'POS', 'Dep', 'Polarity', 'sentiment'].agg(lambda x: list(x))\n",
    "df = df.sample(frac=1).reset_index(drop=True)\n",
    "\n",
    "from collections import Counter\n",
    "\n",
    "counts = [len(row) for row in df[\"sentiment\"]]\n",
    "fig, ax = plt.subplots()\n",
    "ax.scatter(Counter(counts).keys(), Counter(counts).values())\n",
    "\n",
    "\n",
    "split = round(len(df)*0.6)\n",
    "train_data = df[:split]\n",
    "test_data = df[split:]\n",
    "\n",
    "train_data.head(5)"
   ]
  },
  {
   "cell_type": "code",
   "execution_count": 19,
   "metadata": {},
   "outputs": [],
   "source": [
    "import os\n",
    "import time\n",
    "import tensorflow as tf\n",
    "from keras import callbacks\n",
    "\n",
    "# Borrowed from: https://www.geeksforgeeks.org/choose-optimal-number-of-epochs-to-train-a-neural-network-in-keras/\n",
    "earlystopping = callbacks.EarlyStopping(monitor =\"val_loss\", \n",
    "                                        mode =\"min\", patience = 10, \n",
    "                                        restore_best_weights = True)\n",
    "\n",
    "model_name = 'words_binary_single_feature'\n",
    "model_variant = 'base'\n",
    "\n",
    "def exponential_decay(lr0, s):\n",
    "    def exponential_decay_fn(epoch):\n",
    "        exp = lr0 * 0.1**(epoch / s)\n",
    "        tf.summary.scalar('learning rate', data=exp, step=epoch)\n",
    "        return exp\n",
    "    return exponential_decay_fn\n",
    "\n",
    "exponential_decay_fn = exponential_decay(lr0=0.01, s=10)\n",
    "lr_scheduler = tf.keras.callbacks.LearningRateScheduler(exponential_decay_fn)\n",
    "\n",
    "root_logdir = os.path.join(os.curdir, \"./logged_models/\" + model_name + '/' + model_variant)\n",
    "def get_run_logdir():\n",
    "    run_id = time.strftime(\"run_%Y_%m_%d-%H_%M_%S\")\n",
    "    return os.path.join(root_logdir, run_id)\n",
    "\n",
    "run_log_dir = get_run_logdir()\n",
    "file_writer = tf.summary.create_file_writer(run_log_dir + \"/metrics\")\n",
    "file_writer.set_as_default()\n",
    "\n",
    "tensorboard_cb = tf.keras.callbacks.TensorBoard(run_log_dir)\n",
    "\n",
    "mcp_save = callbacks.ModelCheckpoint('.mdl_wts.hdf5', save_best_only=True, monitor='val_loss', mode='min')\n",
    "\n",
    "my_callbacks = [earlystopping, lr_scheduler, tensorboard_cb]"
   ]
  },
  {
   "cell_type": "code",
   "execution_count": 20,
   "metadata": {},
   "outputs": [
    {
     "name": "stderr",
     "output_type": "stream",
     "text": [
      "C:\\Users\\hanse\\AppData\\Local\\Packages\\PythonSoftwareFoundation.Python.3.9_qbz5n2kfra8p0\\LocalCache\\local-packages\\Python39\\site-packages\\keras\\optimizer_v2\\optimizer_v2.py:355: UserWarning: The `lr` argument is deprecated, use `learning_rate` instead.\n",
      "  warnings.warn(\n"
     ]
    },
    {
     "name": "stdout",
     "output_type": "stream",
     "text": [
      "Model: \"sequential_2\"\n",
      "_________________________________________________________________\n",
      "Layer (type)                 Output Shape              Param #   \n",
      "=================================================================\n",
      "embedding_2 (Embedding)      (None, 20, 16)            640000    \n",
      "_________________________________________________________________\n",
      "lstm_4 (LSTM)                (None, 20, 64)            20736     \n",
      "_________________________________________________________________\n",
      "lstm_5 (LSTM)                (None, 20, 64)            33024     \n",
      "_________________________________________________________________\n",
      "time_distributed_2 (TimeDist (None, 20, 3)             195       \n",
      "=================================================================\n",
      "Total params: 693,955\n",
      "Trainable params: 693,955\n",
      "Non-trainable params: 0\n",
      "_________________________________________________________________\n",
      "Epoch 1/50\n",
      "7701/7701 [==============================] - 230s 29ms/step - loss: 0.1873 - accuracy: 0.9087 - val_loss: 0.1765 - val_accuracy: 0.9168\n",
      "Epoch 2/50\n",
      "7701/7701 [==============================] - 221s 29ms/step - loss: 0.1633 - accuracy: 0.9224 - val_loss: 0.1767 - val_accuracy: 0.9170\n",
      "Epoch 3/50\n",
      "7701/7701 [==============================] - 218s 28ms/step - loss: 0.1561 - accuracy: 0.9261 - val_loss: 0.1763 - val_accuracy: 0.9176\n",
      "Epoch 4/50\n",
      "7701/7701 [==============================] - 218s 28ms/step - loss: 0.1516 - accuracy: 0.9284 - val_loss: 0.1762 - val_accuracy: 0.9179\n",
      "Epoch 5/50\n",
      "7701/7701 [==============================] - 215s 28ms/step - loss: 0.1481 - accuracy: 0.9301 - val_loss: 0.1769 - val_accuracy: 0.9175\n",
      "Epoch 6/50\n",
      "7701/7701 [==============================] - 214s 28ms/step - loss: 0.1453 - accuracy: 0.9314 - val_loss: 0.1798 - val_accuracy: 0.9173\n",
      "Epoch 7/50\n",
      "7701/7701 [==============================] - 217s 28ms/step - loss: 0.1434 - accuracy: 0.9324 - val_loss: 0.1807 - val_accuracy: 0.9173\n",
      "Epoch 8/50\n",
      "7701/7701 [==============================] - 217s 28ms/step - loss: 0.1417 - accuracy: 0.9330 - val_loss: 0.1839 - val_accuracy: 0.9174\n",
      "Epoch 9/50\n",
      "7701/7701 [==============================] - 225s 29ms/step - loss: 0.1402 - accuracy: 0.9338 - val_loss: 0.1824 - val_accuracy: 0.9172\n",
      "Epoch 10/50\n",
      "7701/7701 [==============================] - 352s 46ms/step - loss: 0.1390 - accuracy: 0.9343 - val_loss: 0.1820 - val_accuracy: 0.9171\n",
      "Epoch 11/50\n",
      "7701/7701 [==============================] - 367s 48ms/step - loss: 0.1379 - accuracy: 0.9349 - val_loss: 0.1856 - val_accuracy: 0.9169\n",
      "Epoch 12/50\n",
      "7701/7701 [==============================] - 304s 40ms/step - loss: 0.1370 - accuracy: 0.9353 - val_loss: 0.1859 - val_accuracy: 0.9170\n",
      "Epoch 13/50\n",
      "7701/7701 [==============================] - 237s 31ms/step - loss: 0.1364 - accuracy: 0.9356 - val_loss: 0.1858 - val_accuracy: 0.9169\n",
      "Epoch 14/50\n",
      "7701/7701 [==============================] - 212s 28ms/step - loss: 0.1358 - accuracy: 0.9357 - val_loss: 0.1876 - val_accuracy: 0.9169\n"
     ]
    }
   ],
   "source": [
    "# Borrowed from: https://towardsdatascience.com/a-complete-step-by-step-tutorial-on-sentiment-analysis-in-keras-and-tensorflow-ea420cc8913f\n",
    "vocab_size = 40000\n",
    "embedding_dim = 16\n",
    "max_length = 20 #max([len(w) for w in train_data['Lemma']])\n",
    "padding_type = 'post'\n",
    "trunc_type = 'post'\n",
    "oov_tok = '<OOV>'\n",
    "output_dim = 64\n",
    "\n",
    "tokenizer = Tokenizer(num_words=vocab_size, oov_token=oov_tok)\n",
    "tokenizer.fit_on_texts(train_data['Lemma'])\n",
    "\n",
    "train_seqs = tokenizer.texts_to_sequences(train_data['Lemma'])\n",
    "X_train = pad_sequences(train_seqs, maxlen=max_length, dtype='float32', padding=padding_type, truncating=trunc_type, value=1.)\n",
    "test_seqs = tokenizer.texts_to_sequences(test_data['Lemma'])\n",
    "X_test = pad_sequences(test_seqs, maxlen=max_length, dtype='float32', padding=padding_type, truncating=trunc_type, value=1.)\n",
    "\n",
    "y_train = pad_sequences(train_data['sentiment'], maxlen=max_length, dtype='float32', padding=padding_type, truncating=trunc_type, value=1.)\n",
    "y_test = pad_sequences(test_data['sentiment'], maxlen=max_length, dtype='float32', padding=padding_type, truncating=trunc_type, value=1.)\n",
    "\n",
    "y_train = [to_categorical(i, num_classes=3) for i in y_train]\n",
    "\n",
    "model = tf.keras.Sequential([\n",
    "        layers.Embedding(vocab_size, embedding_dim, input_length=max_length),\n",
    "        layers.LSTM(units=output_dim, return_sequences=True, dropout=0.2, recurrent_dropout=0.2),\n",
    "        layers.LSTM(units=output_dim, return_sequences=True, dropout=0.5, recurrent_dropout=0.2),\n",
    "        # layers.Dense(3, activation='sigmoid'),\n",
    "        layers.TimeDistributed(layers.Dense(3, activation=\"softmax\"))\n",
    "])\n",
    "\n",
    "adam = tf.keras.optimizers.Adam(lr=0.0005, beta_1=0.9, beta_2=0.999)\n",
    "model.compile(loss='categorical_crossentropy', optimizer=adam, metrics=['accuracy']) # cross entropy loss chapter 4 HOML - categorial crossentropy because to_categorial \n",
    "\n",
    "model.summary()\n",
    "\n",
    "history = model.fit(X_train, np.array(y_train), epochs=50, callbacks =my_callbacks, validation_split=0.2)"
   ]
  },
  {
   "cell_type": "code",
   "execution_count": 21,
   "metadata": {},
   "outputs": [
    {
     "data": {
      "text/plain": [
       "<Figure size 432x288 with 0 Axes>"
      ]
     },
     "execution_count": 21,
     "metadata": {},
     "output_type": "execute_result"
    },
    {
     "data": {
      "image/png": "[encoded data removed]",
      "text/plain": [
       "<Figure size 432x288 with 1 Axes>"
      ]
     },
     "metadata": {
      "needs_background": "light"
     },
     "output_type": "display_data"
    },
    {
     "data": {
      "image/png": "[encoded data removed]",
      "text/plain": [
       "<Figure size 432x288 with 1 Axes>"
      ]
     },
     "metadata": {
      "needs_background": "light"
     },
     "output_type": "display_data"
    },
    {
     "data": {
      "text/plain": [
       "<Figure size 432x288 with 0 Axes>"
      ]
     },
     "metadata": {},
     "output_type": "display_data"
    }
   ],
   "source": [
    "# %load_ext tensorboard\n",
    "# %tensorboard --logdir=./la_logs --port=6006\n",
    "\n",
    "%matplotlib inline\n",
    "import matplotlib.pyplot as plt\n",
    "import matplotlib.image as mpimg\n",
    "acc = history.history['accuracy']\n",
    "val_acc = history.history['val_accuracy']\n",
    "loss = history.history['loss']\n",
    "val_loss = history.history['val_loss']\n",
    "epochs=range(len(acc))\n",
    "plt.plot(epochs, acc, 'r', 'Training Accuracy')\n",
    "plt.plot(epochs, val_acc, 'b', 'Validation Accuracy')\n",
    "plt.title('Training and validation accuracy')\n",
    "plt.figure()\n",
    "plt.plot(epochs, loss, 'r', 'Training Loss')\n",
    "plt.plot(epochs, val_loss, 'b', 'Validation Loss')\n",
    "plt.title('Training and validation loss')\n",
    "plt.figure()"
   ]
  },
  {
   "cell_type": "code",
   "execution_count": 22,
   "metadata": {},
   "outputs": [],
   "source": [
    "model.save('classifiers/' + model_name + '/' + model_variant + '.h5')\n"
   ]
  },
  {
   "cell_type": "code",
   "execution_count": 23,
   "metadata": {},
   "outputs": [],
   "source": [
    "y_pred = model.predict(X_test)\n",
    "y_pred = y_pred.argmax(axis=-1)"
   ]
  },
  {
   "cell_type": "code",
   "execution_count": 24,
   "metadata": {},
   "outputs": [],
   "source": [
    "rep_to_pol = {\n",
    "  0 : -1.0,\n",
    "  1 : 0.0,\n",
    "  2 : 1.0\n",
    "}"
   ]
  },
  {
   "cell_type": "code",
   "execution_count": 25,
   "metadata": {},
   "outputs": [
    {
     "data": {
      "image/png": "[encoded data removed]",
      "text/plain": [
       "<Figure size 1332x756 with 2 Axes>"
      ]
     },
     "metadata": {
      "needs_background": "light"
     },
     "output_type": "display_data"
    }
   ],
   "source": [
    "from sklearn.metrics import confusion_matrix\n",
    "\n",
    "y_test = np.array(y_test).flatten()\n",
    "y_pred = y_pred.flatten()\n",
    "cm = confusion_matrix(y_test, y_pred, normalize='pred')\n",
    "\n",
    "fig = plt.figure( figsize=[18.5,10.5])\n",
    "ax = fig.add_subplot(111)\n",
    "cax = ax.matshow(cm)\n",
    "ax.set_xlabel('Predicted gender', fontsize = 15, labelpad=15.0)\n",
    "ax.xaxis.set_label_position('top')\n",
    "ax.set_ylabel('True gender', fontsize = 15, labelpad=15.0)\n",
    "ax.set_title('Binary sentiment analysis range: -1, 0, 1 / M, N, W',fontweight=\"bold\", size=20, pad=100.0)\n",
    "\n",
    "cm_axis_vals = []\n",
    "\n",
    "for x in np.unique(np.array(y_pred)):\n",
    "    cm_axis_vals.append(rep_to_pol[x])\n",
    "\n",
    "fig.colorbar(cax)\n",
    "plt.xticks(range(3), cm_axis_vals, rotation=90)\n",
    "plt.yticks(range(3), cm_axis_vals)\n",
    "plt.show()"
   ]
  },
  {
   "cell_type": "code",
   "execution_count": 26,
   "metadata": {},
   "outputs": [
    {
     "name": "stderr",
     "output_type": "stream",
     "text": [
      "C:\\Users\\hanse\\AppData\\Local\\Packages\\PythonSoftwareFoundation.Python.3.9_qbz5n2kfra8p0\\LocalCache\\local-packages\\Python39\\site-packages\\pandas\\core\\generic.py:5516: SettingWithCopyWarning: \n",
      "A value is trying to be set on a copy of a slice from a DataFrame.\n",
      "Try using .loc[row_indexer,col_indexer] = value instead\n",
      "\n",
      "See the caveats in the documentation: https://pandas.pydata.org/pandas-docs/stable/user_guide/indexing.html#returning-a-view-versus-a-copy\n",
      "  self[name] = value\n",
      "C:\\Users\\hanse\\AppData\\Local\\Temp/ipykernel_3864/1332072178.py:10: SettingWithCopyWarning: \n",
      "A value is trying to be set on a copy of a slice from a DataFrame.\n",
      "Try using .loc[row_indexer,col_indexer] = value instead\n",
      "\n",
      "See the caveats in the documentation: https://pandas.pydata.org/pandas-docs/stable/user_guide/indexing.html#returning-a-view-versus-a-copy\n",
      "  df_perf_2['f1-score'] = df_perf_2['f1-score'].round(2)\n"
     ]
    },
    {
     "data": {
      "text/html": [
       "<div>\n",
       "<style scoped>\n",
       "    .dataframe tbody tr th:only-of-type {\n",
       "        vertical-align: middle;\n",
       "    }\n",
       "\n",
       "    .dataframe tbody tr th {\n",
       "        vertical-align: top;\n",
       "    }\n",
       "\n",
       "    .dataframe thead th {\n",
       "        text-align: right;\n",
       "    }\n",
       "</style>\n",
       "<table border=\"1\" class=\"dataframe\">\n",
       "  <thead>\n",
       "    <tr style=\"text-align: right;\">\n",
       "      <th></th>\n",
       "      <th>Gender</th>\n",
       "      <th>precision</th>\n",
       "      <th>recall</th>\n",
       "      <th>f1-score</th>\n",
       "      <th>support</th>\n",
       "    </tr>\n",
       "  </thead>\n",
       "  <tbody>\n",
       "    <tr>\n",
       "      <th>0</th>\n",
       "      <td>M</td>\n",
       "      <td>0.79</td>\n",
       "      <td>0.79</td>\n",
       "      <td>0.79</td>\n",
       "      <td>804176.0</td>\n",
       "    </tr>\n",
       "    <tr>\n",
       "      <th>1</th>\n",
       "      <td>N</td>\n",
       "      <td>0.99</td>\n",
       "      <td>1.00</td>\n",
       "      <td>1.00</td>\n",
       "      <td>2494221.0</td>\n",
       "    </tr>\n",
       "    <tr>\n",
       "      <th>2</th>\n",
       "      <td>W</td>\n",
       "      <td>0.80</td>\n",
       "      <td>0.77</td>\n",
       "      <td>0.79</td>\n",
       "      <td>808523.0</td>\n",
       "    </tr>\n",
       "  </tbody>\n",
       "</table>\n",
       "</div>"
      ],
      "text/plain": [
       "  Gender  precision  recall  f1-score    support\n",
       "0      M       0.79    0.79      0.79   804176.0\n",
       "1      N       0.99    1.00      1.00  2494221.0\n",
       "2      W       0.80    0.77      0.79   808523.0"
      ]
     },
     "execution_count": 26,
     "metadata": {},
     "output_type": "execute_result"
    }
   ],
   "source": [
    "from sklearn.metrics import classification_report\n",
    "sentiment_vocab = ['M', 'N', 'W']\n",
    "\n",
    "report = classification_report(y_test, y_pred, output_dict=True)\n",
    "df_perf = pd.DataFrame.from_dict(report).transpose()\n",
    "df_perf_2 = df_perf[:3]\n",
    "df_perf_2.insert(loc=0, column='Gender', value=sentiment_vocab)\n",
    "df_perf_2.precision = df_perf_2.precision.round(2)\n",
    "df_perf_2.recall = df_perf_2.recall.round(2)\n",
    "df_perf_2['f1-score'] = df_perf_2['f1-score'].round(2)\n",
    "df_perf_2.support = df_perf_2.support.round()\n",
    "df_perf_2.reset_index(drop=True, inplace=True)\n",
    "\n",
    "\n",
    "df_perf_2"
   ]
  }
 ],
 "metadata": {
  "interpreter": {
   "hash": "5ce0bbaaba556c243eee45087b7684ce43fda2aa9a5b0798832d1be21bf73af7"
  },
  "kernelspec": {
   "display_name": "Python 3.9.7 64-bit (windows store)",
   "name": "python3"
  },
  "language_info": {
   "codemirror_mode": {
    "name": "ipython",
    "version": 3
   },
   "file_extension": ".py",
   "mimetype": "text/x-python",
   "name": "python",
   "nbconvert_exporter": "python",
   "pygments_lexer": "ipython3",
   "version": "3.9.7"
  },
  "orig_nbformat": 4
 },
 "nbformat": 4,
 "nbformat_minor": 2
}
