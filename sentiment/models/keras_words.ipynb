{
 "cells": [
  {
   "cell_type": "code",
   "execution_count": 480,
   "metadata": {},
   "outputs": [],
   "source": [
    "import os\n",
    "os.environ['CUDA_VISIBLE_DEVICES'] = '-1'\n",
    "\n",
    "import pandas as pd\n",
    "import numpy as np\n",
    "from keras.preprocessing.sequence import pad_sequences\n",
    "from sklearn.model_selection import train_test_split\n",
    "import tensorflow as tf\n",
    "from tensorflow import keras\n",
    "from tensorflow.keras import layers\n",
    "from keras.utils.vis_utils import plot_model\n",
    "import time\n",
    "from sklearn.metrics import confusion_matrix\n",
    "import matplotlib.pyplot as plt\n",
    "from tensorflow.keras.utils import to_categorical\n",
    "from sklearn.metrics import classification_report"
   ]
  },
  {
   "cell_type": "code",
   "execution_count": 522,
   "metadata": {},
   "outputs": [
    {
     "name": "stderr",
     "output_type": "stream",
     "text": [
      "C:\\Users\\hanse\\AppData\\Local\\Temp/ipykernel_16096/2682987996.py:17: FutureWarning: Indexing with multiple keys (implicitly converted to a tuple of keys) will be deprecated, use a list instead.\n",
      "  df = df.groupby(['Sentence #'],as_index=False)['Word', 'Lemma', 'Tag', 'POS', 'Dep', 'Polarity', 'sentiment'].agg(lambda x: list(x))\n"
     ]
    },
    {
     "data": {
      "text/html": [
       "<div>\n",
       "<style scoped>\n",
       "    .dataframe tbody tr th:only-of-type {\n",
       "        vertical-align: middle;\n",
       "    }\n",
       "\n",
       "    .dataframe tbody tr th {\n",
       "        vertical-align: top;\n",
       "    }\n",
       "\n",
       "    .dataframe thead th {\n",
       "        text-align: right;\n",
       "    }\n",
       "</style>\n",
       "<table border=\"1\" class=\"dataframe\">\n",
       "  <thead>\n",
       "    <tr style=\"text-align: right;\">\n",
       "      <th></th>\n",
       "      <th>Sentence #</th>\n",
       "      <th>Word</th>\n",
       "      <th>Lemma</th>\n",
       "      <th>Tag</th>\n",
       "      <th>POS</th>\n",
       "      <th>Dep</th>\n",
       "      <th>Polarity</th>\n",
       "      <th>sentiment</th>\n",
       "    </tr>\n",
       "  </thead>\n",
       "  <tbody>\n",
       "    <tr>\n",
       "      <th>0</th>\n",
       "      <td>3757</td>\n",
       "      <td>[woman, identified, Nanine, McCool, stood, aud...</td>\n",
       "      <td>[woman, identify, Nanine, McCool, stand, audie...</td>\n",
       "      <td>[NN, VBN, NNP, NNP, VBD, NN, NN, VBD, VB, NNS,...</td>\n",
       "      <td>[NOUN, VERB, PROPN, PROPN, VERB, NOUN, NOUN, V...</td>\n",
       "      <td>[NSUBJ, ACL, COMPOUND, POBJ, ROOT, POBJ, DOBJ,...</td>\n",
       "      <td>[0.35316112487835105, -0.067698023340304, 0.0,...</td>\n",
       "      <td>[1.0, 1.0, 1.0, 1.0, 1.0, 1.0, 1.0, 1.0, 1.0, ...</td>\n",
       "    </tr>\n",
       "    <tr>\n",
       "      <th>1</th>\n",
       "      <td>6993</td>\n",
       "      <td>[deal, closes, Cigna, shareholders, combined, ...</td>\n",
       "      <td>[deal, close, Cigna, shareholder, combine, com...</td>\n",
       "      <td>[NN, VBZ, NNP, NNS, VBN, NN, NNP, NNPS, NNS, NN]</td>\n",
       "      <td>[NOUN, VERB, PROPN, NOUN, VERB, NOUN, PROPN, P...</td>\n",
       "      <td>[NSUBJ, ADVCL, COMPOUND, NSUBJ, AMOD, POBJ, CO...</td>\n",
       "      <td>[-0.183481971541216, -0.08718014446342201, -0....</td>\n",
       "      <td>[0.0, 0.0, 0.0, 0.0, 0.0, 0.0, 0.0, 0.0, 0.0, ...</td>\n",
       "    </tr>\n",
       "    <tr>\n",
       "      <th>2</th>\n",
       "      <td>8233</td>\n",
       "      <td>[Flight]</td>\n",
       "      <td>[flight]</td>\n",
       "      <td>[NN]</td>\n",
       "      <td>[NOUN]</td>\n",
       "      <td>[ROOT]</td>\n",
       "      <td>[-0.039588725265266]</td>\n",
       "      <td>[0.0]</td>\n",
       "    </tr>\n",
       "    <tr>\n",
       "      <th>3</th>\n",
       "      <td>3946</td>\n",
       "      <td>[grew, small, town]</td>\n",
       "      <td>[grow, small, town]</td>\n",
       "      <td>[VBD, JJ, NN]</td>\n",
       "      <td>[VERB, ADJ, NOUN]</td>\n",
       "      <td>[ROOT, AMOD, POBJ]</td>\n",
       "      <td>[-0.123599772689972, -0.110633813667892, -0.01...</td>\n",
       "      <td>[1.0, 1.0, 1.0]</td>\n",
       "    </tr>\n",
       "    <tr>\n",
       "      <th>4</th>\n",
       "      <td>10578</td>\n",
       "      <td>[ask]</td>\n",
       "      <td>[ask]</td>\n",
       "      <td>[VBP]</td>\n",
       "      <td>[VERB]</td>\n",
       "      <td>[ROOT]</td>\n",
       "      <td>[-0.10657549532487501]</td>\n",
       "      <td>[0.0]</td>\n",
       "    </tr>\n",
       "  </tbody>\n",
       "</table>\n",
       "</div>"
      ],
      "text/plain": [
       "   Sentence #                                               Word  \\\n",
       "0        3757  [woman, identified, Nanine, McCool, stood, aud...   \n",
       "1        6993  [deal, closes, Cigna, shareholders, combined, ...   \n",
       "2        8233                                           [Flight]   \n",
       "3        3946                                [grew, small, town]   \n",
       "4       10578                                              [ask]   \n",
       "\n",
       "                                               Lemma  \\\n",
       "0  [woman, identify, Nanine, McCool, stand, audie...   \n",
       "1  [deal, close, Cigna, shareholder, combine, com...   \n",
       "2                                           [flight]   \n",
       "3                                [grow, small, town]   \n",
       "4                                              [ask]   \n",
       "\n",
       "                                                 Tag  \\\n",
       "0  [NN, VBN, NNP, NNP, VBD, NN, NN, VBD, VB, NNS,...   \n",
       "1   [NN, VBZ, NNP, NNS, VBN, NN, NNP, NNPS, NNS, NN]   \n",
       "2                                               [NN]   \n",
       "3                                      [VBD, JJ, NN]   \n",
       "4                                              [VBP]   \n",
       "\n",
       "                                                 POS  \\\n",
       "0  [NOUN, VERB, PROPN, PROPN, VERB, NOUN, NOUN, V...   \n",
       "1  [NOUN, VERB, PROPN, NOUN, VERB, NOUN, PROPN, P...   \n",
       "2                                             [NOUN]   \n",
       "3                                  [VERB, ADJ, NOUN]   \n",
       "4                                             [VERB]   \n",
       "\n",
       "                                                 Dep  \\\n",
       "0  [NSUBJ, ACL, COMPOUND, POBJ, ROOT, POBJ, DOBJ,...   \n",
       "1  [NSUBJ, ADVCL, COMPOUND, NSUBJ, AMOD, POBJ, CO...   \n",
       "2                                             [ROOT]   \n",
       "3                                 [ROOT, AMOD, POBJ]   \n",
       "4                                             [ROOT]   \n",
       "\n",
       "                                            Polarity  \\\n",
       "0  [0.35316112487835105, -0.067698023340304, 0.0,...   \n",
       "1  [-0.183481971541216, -0.08718014446342201, -0....   \n",
       "2                               [-0.039588725265266]   \n",
       "3  [-0.123599772689972, -0.110633813667892, -0.01...   \n",
       "4                             [-0.10657549532487501]   \n",
       "\n",
       "                                           sentiment  \n",
       "0  [1.0, 1.0, 1.0, 1.0, 1.0, 1.0, 1.0, 1.0, 1.0, ...  \n",
       "1  [0.0, 0.0, 0.0, 0.0, 0.0, 0.0, 0.0, 0.0, 0.0, ...  \n",
       "2                                              [0.0]  \n",
       "3                                    [1.0, 1.0, 1.0]  \n",
       "4                                              [0.0]  "
      ]
     },
     "execution_count": 522,
     "metadata": {},
     "output_type": "execute_result"
    },
    {
     "data": {
      "image/png": "[encoded data removed]",
      "text/plain": [
       "<Figure size 720x360 with 1 Axes>"
      ]
     },
     "metadata": {
      "needs_background": "light"
     },
     "output_type": "display_data"
    },
    {
     "data": {
      "image/png": "[encoded data removed]",
      "text/plain": [
       "<Figure size 432x288 with 1 Axes>"
      ]
     },
     "metadata": {
      "needs_background": "light"
     },
     "output_type": "display_data"
    }
   ],
   "source": [
    "import pandas as pd\n",
    "\n",
    "df = pd.read_json('../datasets/7_dataset_w_tags_SM.json')\n",
    "\n",
    "M, W = df[\"Gender\"].value_counts()\n",
    "if M>W:\n",
    "    diff = M-W\n",
    "    df = df.drop(df.loc[df['Gender'] == 'M'].index[:diff], axis=0)\n",
    "elif W>M:\n",
    "    diff = W-M\n",
    "    df = df.drop(df.loc[df['Gender'] == 'W'].index[:diff], axis=0)\n",
    "\n",
    "df[\"Gender\"].value_counts().plot(kind=\"bar\", figsize=(10,5))\n",
    "df['sentiment'] = df.Gender.apply(lambda x: 0. if x == \"M\" else 1.)\n",
    "df = df.drop('Gender', axis=1)\n",
    "df['Dep'] = df['Dep'].str.upper()\n",
    "df = df.groupby(['Sentence #'],as_index=False)['Word', 'Lemma', 'Tag', 'POS', 'Dep', 'Polarity', 'sentiment'].agg(lambda x: list(x))\n",
    "df = df.sample(frac=1).reset_index(drop=True)\n",
    "\n",
    "from collections import Counter\n",
    "\n",
    "counts = [len(row) for row in df[\"sentiment\"]]\n",
    "fig, ax = plt.subplots()\n",
    "ax.scatter(Counter(counts).keys(), Counter(counts).values())\n",
    "\n",
    "\n",
    "split = round(len(df)*0.6)\n",
    "train_data = df[:split]\n",
    "test_data = df[split:]\n",
    "\n",
    "train_data.head(5)"
   ]
  },
  {
   "cell_type": "code",
   "execution_count": 482,
   "metadata": {},
   "outputs": [],
   "source": [
    "# Borrowed from: https://www.geeksforgeeks.org/choose-optimal-number-of-epochs-to-train-a-neural-network-in-keras/\n",
    "earlystopping = callbacks.EarlyStopping(monitor =\"val_loss\", \n",
    "                                        mode =\"min\", patience = 5, \n",
    "                                        restore_best_weights = True)\n",
    "\n",
    "def exponential_decay(lr0, s):\n",
    "    def exponential_decay_fn(epoch):\n",
    "        exp = lr0 * 0.1**(epoch / s)\n",
    "        tf.summary.scalar('learning rate', data=exp, step=epoch)\n",
    "        return exp\n",
    "    return exponential_decay_fn\n",
    "\n",
    "exponential_decay_fn = exponential_decay(lr0=0.01, s=10)\n",
    "lr_scheduler = tf.keras.callbacks.LearningRateScheduler(exponential_decay_fn)\n",
    "\n",
    "root_logdir = os.path.join(os.curdir, \"./logged_models/keras_words\")\n",
    "def get_run_logdir():\n",
    "    run_id = time.strftime(\"run_%Y_%m_%d-%H_%M_%S\")\n",
    "    return os.path.join(root_logdir, run_id)\n",
    "\n",
    "run_log_dir = get_run_logdir()\n",
    "file_writer = tf.summary.create_file_writer(run_log_dir + \"/metrics\")\n",
    "file_writer.set_as_default()\n",
    "\n",
    "tensorboard_cb = tf.keras.callbacks.TensorBoard(run_log_dir)"
   ]
  },
  {
   "cell_type": "code",
   "execution_count": 483,
   "metadata": {},
   "outputs": [
    {
     "name": "stderr",
     "output_type": "stream",
     "text": [
      "C:\\Users\\hanse\\AppData\\Local\\Packages\\PythonSoftwareFoundation.Python.3.9_qbz5n2kfra8p0\\LocalCache\\local-packages\\Python39\\site-packages\\keras\\optimizer_v2\\optimizer_v2.py:355: UserWarning: The `lr` argument is deprecated, use `learning_rate` instead.\n",
      "  warnings.warn(\n"
     ]
    },
    {
     "name": "stdout",
     "output_type": "stream",
     "text": [
      "Model: \"sequential_94\"\n",
      "_________________________________________________________________\n",
      "Layer (type)                 Output Shape              Param #   \n",
      "=================================================================\n",
      "embedding_96 (Embedding)     (None, 20, 16)            640000    \n",
      "_________________________________________________________________\n",
      "lstm_168 (LSTM)              (None, 20, 64)            20736     \n",
      "_________________________________________________________________\n",
      "lstm_169 (LSTM)              (None, 20, 64)            33024     \n",
      "_________________________________________________________________\n",
      "time_distributed_72 (TimeDis (None, 20, 2)             130       \n",
      "=================================================================\n",
      "Total params: 693,890\n",
      "Trainable params: 693,890\n",
      "Non-trainable params: 0\n",
      "_________________________________________________________________\n",
      "Epoch 1/20\n",
      "168/168 [==============================] - 9s 29ms/step - loss: 0.2086 - accuracy: 0.8944 - val_loss: 0.1637 - val_accuracy: 0.9252\n",
      "Epoch 2/20\n",
      "168/168 [==============================] - 4s 22ms/step - loss: 0.0995 - accuracy: 0.9565 - val_loss: 0.1660 - val_accuracy: 0.9251\n",
      "Epoch 3/20\n",
      "168/168 [==============================] - 4s 22ms/step - loss: 0.0697 - accuracy: 0.9690 - val_loss: 0.2095 - val_accuracy: 0.9209\n",
      "Epoch 4/20\n",
      "168/168 [==============================] - 4s 23ms/step - loss: 0.0577 - accuracy: 0.9733 - val_loss: 0.2630 - val_accuracy: 0.9167\n",
      "Epoch 5/20\n",
      "168/168 [==============================] - 4s 23ms/step - loss: 0.0511 - accuracy: 0.9760 - val_loss: 0.2576 - val_accuracy: 0.9181\n",
      "Epoch 6/20\n",
      "168/168 [==============================] - 4s 23ms/step - loss: 0.0466 - accuracy: 0.9775 - val_loss: 0.3165 - val_accuracy: 0.9152\n"
     ]
    }
   ],
   "source": [
    "# Borrowed from: https://towardsdatascience.com/a-complete-step-by-step-tutorial-on-sentiment-analysis-in-keras-and-tensorflow-ea420cc8913f\n",
    "\n",
    "from tensorflow.keras.preprocessing.text import Tokenizer\n",
    "from tensorflow.keras.preprocessing.sequence import pad_sequences\n",
    "from tensorflow.keras import layers\n",
    "from keras import callbacks\n",
    "import numpy as np\n",
    "import tensorflow as tf\n",
    "tokenizer = Tokenizer(oov_token=\"<OOV>\")\n",
    "\n",
    "vocab_size = 40000\n",
    "embedding_dim = 16\n",
    "max_length = 20 #max([len(w) for w in train_data['Lemma']])\n",
    "padding_type = 'post'\n",
    "trunc_type = 'post'\n",
    "oov_tok = '<OOV>'\n",
    "output_dim = 64\n",
    "\n",
    "tokenizer = Tokenizer(num_words=vocab_size, oov_token=oov_tok)\n",
    "tokenizer.fit_on_texts(train_data['Lemma'])\n",
    "\n",
    "train_seqs = tokenizer.texts_to_sequences(train_data['Lemma'])\n",
    "X_train = pad_sequences(train_seqs, maxlen=max_length, dtype='float32', padding=padding_type, truncating=trunc_type)\n",
    "test_seqs = tokenizer.texts_to_sequences(test_data['Lemma'])\n",
    "X_test = pad_sequences(test_seqs, maxlen=max_length, dtype='float32', padding=padding_type, truncating=trunc_type)\n",
    "\n",
    "y_train = pad_sequences(train_data['sentiment'], maxlen=max_length, dtype='float32', padding=padding_type, truncating=trunc_type)\n",
    "y_test = pad_sequences(test_data['sentiment'], maxlen=max_length, dtype='float32', padding=padding_type, truncating=trunc_type)\n",
    "\n",
    "y_train = [to_categorical(i, num_classes=2) for i in y_train]\n",
    "# # y_test = [to_categorical(i, num_classes=2) for i in y_test]\n",
    "\n",
    "# print(np.array(y_train).shape)\n",
    "# print(np.array(X_train).shape)\n",
    "# print(output_dim)\n",
    "\n",
    "y_train\n",
    "\n",
    "model = tf.keras.Sequential([\n",
    "        layers.Embedding(vocab_size, embedding_dim, input_length=max_length),\n",
    "        layers.LSTM(units=output_dim, return_sequences=True, dropout=0.2, recurrent_dropout=0.2),\n",
    "        layers.LSTM(units=output_dim, return_sequences=True, dropout=0.5, recurrent_dropout=0.2),\n",
    "        # layers.Dense(3, activation='sigmoid'),\n",
    "        layers.TimeDistributed(layers.Dense(2, activation=\"softmax\"))\n",
    "])\n",
    "\n",
    "adam = tf.keras.optimizers.Adam(lr=0.0005, beta_1=0.9, beta_2=0.999)\n",
    "model.compile(loss='binary_crossentropy', optimizer=adam, metrics=['accuracy']) # cross entropy loss chapter 4 HOML - categorial crossentropy because to_categorial \n",
    "\n",
    "model.summary()\n",
    "\n",
    "num_epochs = 20\n",
    "history = model.fit(X_train, np.array(y_train), epochs=num_epochs, callbacks =[earlystopping, lr_scheduler, tensorboard_cb], validation_split=0.2)"
   ]
  },
  {
   "cell_type": "code",
   "execution_count": 484,
   "metadata": {},
   "outputs": [
    {
     "data": {
      "text/plain": [
       "<Figure size 432x288 with 0 Axes>"
      ]
     },
     "execution_count": 484,
     "metadata": {},
     "output_type": "execute_result"
    },
    {
     "data": {
      "image/png": "[encoded data removed]",
      "text/plain": [
       "<Figure size 432x288 with 1 Axes>"
      ]
     },
     "metadata": {
      "needs_background": "light"
     },
     "output_type": "display_data"
    },
    {
     "data": {
      "image/png": "[encoded data removed]",
      "text/plain": [
       "<Figure size 432x288 with 1 Axes>"
      ]
     },
     "metadata": {
      "needs_background": "light"
     },
     "output_type": "display_data"
    },
    {
     "data": {
      "text/plain": [
       "<Figure size 432x288 with 0 Axes>"
      ]
     },
     "metadata": {},
     "output_type": "display_data"
    }
   ],
   "source": [
    "# %load_ext tensorboard\n",
    "# %tensorboard --logdir=./la_logs --port=6006\n",
    "\n",
    "%matplotlib inline\n",
    "import matplotlib.pyplot as plt\n",
    "import matplotlib.image as mpimg\n",
    "acc = history.history['accuracy']\n",
    "val_acc = history.history['val_accuracy']\n",
    "loss = history.history['loss']\n",
    "val_loss = history.history['val_loss']\n",
    "epochs=range(len(acc))\n",
    "plt.plot(epochs, acc, 'r', 'Training Accuracy')\n",
    "plt.plot(epochs, val_acc, 'b', 'Validation Accuracy')\n",
    "plt.title('Training and validation accuracy')\n",
    "plt.figure()\n",
    "plt.plot(epochs, loss, 'r', 'Training Loss')\n",
    "plt.plot(epochs, val_loss, 'b', 'Validation Loss')\n",
    "plt.title('Training and validation loss')\n",
    "plt.figure()"
   ]
  },
  {
   "cell_type": "code",
   "execution_count": 485,
   "metadata": {},
   "outputs": [],
   "source": [
    "y_pred = model.predict(X_test)\n",
    "y_pred = y_pred.argmax(axis=-1)"
   ]
  },
  {
   "cell_type": "code",
   "execution_count": 491,
   "metadata": {},
   "outputs": [
    {
     "data": {
      "image/png": "[encoded data removed]",
      "text/plain": [
       "<Figure size 1332x756 with 2 Axes>"
      ]
     },
     "metadata": {
      "needs_background": "light"
     },
     "output_type": "display_data"
    }
   ],
   "source": [
    "from sklearn.metrics import confusion_matrix\n",
    "\n",
    "y_test = np.array(y_test).flatten()\n",
    "y_pred = y_pred.flatten()\n",
    "cm = confusion_matrix(y_test, y_pred, normalize='pred')\n",
    "\n",
    "fig = plt.figure( figsize=[18.5,10.5])\n",
    "ax = fig.add_subplot(111)\n",
    "cax = ax.matshow(cm)\n",
    "ax.set_xlabel('Predicted named entities', fontsize = 15, labelpad=15.0)\n",
    "ax.xaxis.set_label_position('top')\n",
    "ax.set_ylabel('True named entities', fontsize = 15, labelpad=15.0)\n",
    "ax.set_title('Confusion matrix Bi-directional LSTM classifier',fontweight=\"bold\", size=20, pad=100.0)\n",
    "\n",
    "fig.colorbar(cax)\n",
    "plt.xticks(range(2), [0,1], rotation=90)\n",
    "plt.yticks(range(2), [0,1])\n",
    "plt.show()"
   ]
  },
  {
   "cell_type": "code",
   "execution_count": 492,
   "metadata": {},
   "outputs": [
    {
     "name": "stderr",
     "output_type": "stream",
     "text": [
      "C:\\Users\\hanse\\AppData\\Local\\Packages\\PythonSoftwareFoundation.Python.3.9_qbz5n2kfra8p0\\LocalCache\\local-packages\\Python39\\site-packages\\pandas\\core\\generic.py:5516: SettingWithCopyWarning: \n",
      "A value is trying to be set on a copy of a slice from a DataFrame.\n",
      "Try using .loc[row_indexer,col_indexer] = value instead\n",
      "\n",
      "See the caveats in the documentation: https://pandas.pydata.org/pandas-docs/stable/user_guide/indexing.html#returning-a-view-versus-a-copy\n",
      "  self[name] = value\n",
      "C:\\Users\\hanse\\AppData\\Local\\Temp/ipykernel_16096/1101724749.py:10: SettingWithCopyWarning: \n",
      "A value is trying to be set on a copy of a slice from a DataFrame.\n",
      "Try using .loc[row_indexer,col_indexer] = value instead\n",
      "\n",
      "See the caveats in the documentation: https://pandas.pydata.org/pandas-docs/stable/user_guide/indexing.html#returning-a-view-versus-a-copy\n",
      "  df_perf_2['f1-score'] = df_perf_2['f1-score'].round(2)\n"
     ]
    },
    {
     "data": {
      "text/html": [
       "<div>\n",
       "<style scoped>\n",
       "    .dataframe tbody tr th:only-of-type {\n",
       "        vertical-align: middle;\n",
       "    }\n",
       "\n",
       "    .dataframe tbody tr th {\n",
       "        vertical-align: top;\n",
       "    }\n",
       "\n",
       "    .dataframe thead th {\n",
       "        text-align: right;\n",
       "    }\n",
       "</style>\n",
       "<table border=\"1\" class=\"dataframe\">\n",
       "  <thead>\n",
       "    <tr style=\"text-align: right;\">\n",
       "      <th></th>\n",
       "      <th>Gender</th>\n",
       "      <th>precision</th>\n",
       "      <th>recall</th>\n",
       "      <th>f1-score</th>\n",
       "      <th>support</th>\n",
       "    </tr>\n",
       "  </thead>\n",
       "  <tbody>\n",
       "    <tr>\n",
       "      <th>0</th>\n",
       "      <td>M</td>\n",
       "      <td>0.95</td>\n",
       "      <td>0.95</td>\n",
       "      <td>0.95</td>\n",
       "      <td>71407.0</td>\n",
       "    </tr>\n",
       "    <tr>\n",
       "      <th>1</th>\n",
       "      <td>W</td>\n",
       "      <td>0.80</td>\n",
       "      <td>0.81</td>\n",
       "      <td>0.81</td>\n",
       "      <td>18193.0</td>\n",
       "    </tr>\n",
       "  </tbody>\n",
       "</table>\n",
       "</div>"
      ],
      "text/plain": [
       "  Gender  precision  recall  f1-score  support\n",
       "0      M       0.95    0.95      0.95  71407.0\n",
       "1      W       0.80    0.81      0.81  18193.0"
      ]
     },
     "execution_count": 492,
     "metadata": {},
     "output_type": "execute_result"
    }
   ],
   "source": [
    "from sklearn.metrics import classification_report\n",
    "sentiment_vocab = ['M', 'W']\n",
    "\n",
    "report = classification_report(y_test, y_pred, output_dict=True)\n",
    "df_perf = pd.DataFrame.from_dict(report).transpose()\n",
    "df_perf_2 = df_perf[:2]\n",
    "df_perf_2.insert(loc=0, column='Gender', value=sentiment_vocab)\n",
    "df_perf_2.precision = df_perf_2.precision.round(2)\n",
    "df_perf_2.recall = df_perf_2.recall.round(2)\n",
    "df_perf_2['f1-score'] = df_perf_2['f1-score'].round(2)\n",
    "df_perf_2.support = df_perf_2.support.round()\n",
    "df_perf_2.reset_index(drop=True, inplace=True)\n",
    "\n",
    "\n",
    "df_perf_2"
   ]
  }
 ],
 "metadata": {
  "interpreter": {
   "hash": "5ce0bbaaba556c243eee45087b7684ce43fda2aa9a5b0798832d1be21bf73af7"
  },
  "kernelspec": {
   "display_name": "Python 3.9.7 64-bit (windows store)",
   "name": "python3"
  },
  "language_info": {
   "codemirror_mode": {
    "name": "ipython",
    "version": 3
   },
   "file_extension": ".py",
   "mimetype": "text/x-python",
   "name": "python",
   "nbconvert_exporter": "python",
   "pygments_lexer": "ipython3",
   "version": "3.9.7"
  },
  "orig_nbformat": 4
 },
 "nbformat": 4,
 "nbformat_minor": 2
}
