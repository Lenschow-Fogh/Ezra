{
 "cells": [
  {
   "cell_type": "code",
   "execution_count": 122,
   "metadata": {},
   "outputs": [],
   "source": [
    "import os\n",
    "os.environ['CUDA_VISIBLE_DEVICES'] = '-1'\n",
    "\n",
    "import pandas as pd\n",
    "import numpy as np\n",
    "from keras.preprocessing.sequence import pad_sequences\n",
    "from sklearn.model_selection import train_test_split\n",
    "import tensorflow as tf\n",
    "from tensorflow import keras\n",
    "from tensorflow.keras import layers\n",
    "from keras.utils.vis_utils import plot_model\n",
    "import time\n",
    "from sklearn.metrics import confusion_matrix\n",
    "import matplotlib.pyplot as plt\n",
    "from tensorflow.keras.utils import to_categorical\n",
    "from sklearn.metrics import classification_report\n",
    "from tensorflow.keras.preprocessing.text import Tokenizer\n",
    "from tensorflow.keras.preprocessing.sequence import pad_sequences\n",
    "from tensorflow.keras import layers\n",
    "from keras import callbacks\n",
    "import numpy as np\n",
    "import tensorflow as tf"
   ]
  },
  {
   "cell_type": "code",
   "execution_count": 123,
   "metadata": {},
   "outputs": [
    {
     "name": "stderr",
     "output_type": "stream",
     "text": [
      "C:\\Users\\hanse\\AppData\\Local\\Temp/ipykernel_11552/4172771825.py:17: FutureWarning: Indexing with multiple keys (implicitly converted to a tuple of keys) will be deprecated, use a list instead.\n",
      "  df = df.groupby(['Sentence #'],as_index=False)['Word', 'Lemma', 'Tag', 'POS', 'Dep', 'Polarity', 'sentiment'].agg(lambda x: list(x))\n"
     ]
    },
    {
     "data": {
      "text/html": [
       "<div>\n",
       "<style scoped>\n",
       "    .dataframe tbody tr th:only-of-type {\n",
       "        vertical-align: middle;\n",
       "    }\n",
       "\n",
       "    .dataframe tbody tr th {\n",
       "        vertical-align: top;\n",
       "    }\n",
       "\n",
       "    .dataframe thead th {\n",
       "        text-align: right;\n",
       "    }\n",
       "</style>\n",
       "<table border=\"1\" class=\"dataframe\">\n",
       "  <thead>\n",
       "    <tr style=\"text-align: right;\">\n",
       "      <th></th>\n",
       "      <th>Sentence #</th>\n",
       "      <th>Word</th>\n",
       "      <th>Lemma</th>\n",
       "      <th>Tag</th>\n",
       "      <th>POS</th>\n",
       "      <th>Dep</th>\n",
       "      <th>Polarity</th>\n",
       "      <th>sentiment</th>\n",
       "    </tr>\n",
       "  </thead>\n",
       "  <tbody>\n",
       "    <tr>\n",
       "      <th>0</th>\n",
       "      <td>15026</td>\n",
       "      <td>[rule, display, prices, credit, card, cash, pa...</td>\n",
       "      <td>[rule, display, price, credit, card, cash, pay...</td>\n",
       "      <td>[NN, VB, NNS, NN, NN, NN, NNS]</td>\n",
       "      <td>[NOUN, VERB, NOUN, NOUN, NOUN, NOUN, NOUN]</td>\n",
       "      <td>[NSUBJ, CCOMP, DOBJ, COMPOUND, POBJ, COMPOUND,...</td>\n",
       "      <td>[-0.13973215128820002, -0.010793714745134, -0....</td>\n",
       "      <td>[0.0, 0.0, 0.0, 0.0, 0.0, 0.0, 0.0]</td>\n",
       "    </tr>\n",
       "    <tr>\n",
       "      <th>1</th>\n",
       "      <td>12434</td>\n",
       "      <td>[away, financially, clueless, anymore]</td>\n",
       "      <td>[away, financially, clueless, anymore]</td>\n",
       "      <td>[RB, RB, JJ, RB]</td>\n",
       "      <td>[ADV, ADV, ADJ, ADV]</td>\n",
       "      <td>[ADVMOD, ADVMOD, ACOMP, ADVMOD]</td>\n",
       "      <td>[-0.05517869658580601, -0.033214665657989, 0.0...</td>\n",
       "      <td>[0.0, 0.0, 0.0, 0.0]</td>\n",
       "    </tr>\n",
       "    <tr>\n",
       "      <th>2</th>\n",
       "      <td>24</td>\n",
       "      <td>[reviewing, corrective, actions, warranted, time]</td>\n",
       "      <td>[review, corrective, action, warrant, time]</td>\n",
       "      <td>[VBG, JJ, NNS, VBN, NN]</td>\n",
       "      <td>[VERB, ADJ, NOUN, VERB, NOUN]</td>\n",
       "      <td>[ROOT, AMOD, NSUBJPASS, CCOMP, POBJ]</td>\n",
       "      <td>[-0.10238801031094001, -0.001702806016339, -0....</td>\n",
       "      <td>[2.0, 2.0, 2.0, 2.0, 2.0]</td>\n",
       "    </tr>\n",
       "    <tr>\n",
       "      <th>3</th>\n",
       "      <td>9830</td>\n",
       "      <td>[startling, surprising, completely, original, ...</td>\n",
       "      <td>[startling, surprising, completely, original, ...</td>\n",
       "      <td>[JJ, JJ, RB, JJ, JJ, NN, NN, NN]</td>\n",
       "      <td>[ADJ, ADJ, ADV, ADJ, ADJ, NOUN, NOUN, NOUN]</td>\n",
       "      <td>[ACOMP, CONJ, ADVMOD, CONJ, AMOD, ATTR, POBJ, ...</td>\n",
       "      <td>[0.000535262524878, -0.001049334237562, -0.011...</td>\n",
       "      <td>[2.0, 2.0, 2.0, 2.0, 2.0, 2.0, 2.0, 2.0]</td>\n",
       "    </tr>\n",
       "    <tr>\n",
       "      <th>4</th>\n",
       "      <td>15731</td>\n",
       "      <td>[Disguised, Lending, Consumers]</td>\n",
       "      <td>[disguise, Lending, Consumers]</td>\n",
       "      <td>[VBN, NNP, NNPS]</td>\n",
       "      <td>[VERB, PROPN, PROPN]</td>\n",
       "      <td>[AMOD, ROOT, POBJ]</td>\n",
       "      <td>[-0.0015985354356500001, -0.009095701826543, -...</td>\n",
       "      <td>[0.0, 0.0, 0.0]</td>\n",
       "    </tr>\n",
       "  </tbody>\n",
       "</table>\n",
       "</div>"
      ],
      "text/plain": [
       "   Sentence #                                               Word  \\\n",
       "0       15026  [rule, display, prices, credit, card, cash, pa...   \n",
       "1       12434             [away, financially, clueless, anymore]   \n",
       "2          24  [reviewing, corrective, actions, warranted, time]   \n",
       "3        9830  [startling, surprising, completely, original, ...   \n",
       "4       15731                    [Disguised, Lending, Consumers]   \n",
       "\n",
       "                                               Lemma  \\\n",
       "0  [rule, display, price, credit, card, cash, pay...   \n",
       "1             [away, financially, clueless, anymore]   \n",
       "2        [review, corrective, action, warrant, time]   \n",
       "3  [startling, surprising, completely, original, ...   \n",
       "4                     [disguise, Lending, Consumers]   \n",
       "\n",
       "                                Tag  \\\n",
       "0    [NN, VB, NNS, NN, NN, NN, NNS]   \n",
       "1                  [RB, RB, JJ, RB]   \n",
       "2           [VBG, JJ, NNS, VBN, NN]   \n",
       "3  [JJ, JJ, RB, JJ, JJ, NN, NN, NN]   \n",
       "4                  [VBN, NNP, NNPS]   \n",
       "\n",
       "                                           POS  \\\n",
       "0   [NOUN, VERB, NOUN, NOUN, NOUN, NOUN, NOUN]   \n",
       "1                         [ADV, ADV, ADJ, ADV]   \n",
       "2                [VERB, ADJ, NOUN, VERB, NOUN]   \n",
       "3  [ADJ, ADJ, ADV, ADJ, ADJ, NOUN, NOUN, NOUN]   \n",
       "4                         [VERB, PROPN, PROPN]   \n",
       "\n",
       "                                                 Dep  \\\n",
       "0  [NSUBJ, CCOMP, DOBJ, COMPOUND, POBJ, COMPOUND,...   \n",
       "1                    [ADVMOD, ADVMOD, ACOMP, ADVMOD]   \n",
       "2               [ROOT, AMOD, NSUBJPASS, CCOMP, POBJ]   \n",
       "3  [ACOMP, CONJ, ADVMOD, CONJ, AMOD, ATTR, POBJ, ...   \n",
       "4                                 [AMOD, ROOT, POBJ]   \n",
       "\n",
       "                                            Polarity  \\\n",
       "0  [-0.13973215128820002, -0.010793714745134, -0....   \n",
       "1  [-0.05517869658580601, -0.033214665657989, 0.0...   \n",
       "2  [-0.10238801031094001, -0.001702806016339, -0....   \n",
       "3  [0.000535262524878, -0.001049334237562, -0.011...   \n",
       "4  [-0.0015985354356500001, -0.009095701826543, -...   \n",
       "\n",
       "                                  sentiment  \n",
       "0       [0.0, 0.0, 0.0, 0.0, 0.0, 0.0, 0.0]  \n",
       "1                      [0.0, 0.0, 0.0, 0.0]  \n",
       "2                 [2.0, 2.0, 2.0, 2.0, 2.0]  \n",
       "3  [2.0, 2.0, 2.0, 2.0, 2.0, 2.0, 2.0, 2.0]  \n",
       "4                           [0.0, 0.0, 0.0]  "
      ]
     },
     "execution_count": 123,
     "metadata": {},
     "output_type": "execute_result"
    },
    {
     "data": {
      "image/png": "[encoded data removed]",
      "text/plain": [
       "<Figure size 720x360 with 1 Axes>"
      ]
     },
     "metadata": {
      "needs_background": "light"
     },
     "output_type": "display_data"
    },
    {
     "data": {
      "image/png": "[encoded data removed]",
      "text/plain": [
       "<Figure size 432x288 with 1 Axes>"
      ]
     },
     "metadata": {
      "needs_background": "light"
     },
     "output_type": "display_data"
    }
   ],
   "source": [
    "import pandas as pd\n",
    "\n",
    "df = pd.read_json('../datasets/7_dataset_w_tags_SM.json')\n",
    "\n",
    "M, W = df[\"Gender\"].value_counts()\n",
    "if M>W:\n",
    "    diff = M-W\n",
    "    df = df.drop(df.loc[df['Gender'] == 'M'].index[:diff], axis=0)\n",
    "elif W>M:\n",
    "    diff = W-M\n",
    "    df = df.drop(df.loc[df['Gender'] == 'W'].index[:diff], axis=0)\n",
    "\n",
    "df[\"Gender\"].value_counts().plot(kind=\"bar\", figsize=(10,5))\n",
    "df['sentiment'] = df.Gender.apply(lambda x: 0. if x == \"M\" else 2.)\n",
    "df = df.drop('Gender', axis=1)\n",
    "df['Dep'] = df['Dep'].str.upper()\n",
    "df = df.groupby(['Sentence #'],as_index=False)['Word', 'Lemma', 'Tag', 'POS', 'Dep', 'Polarity', 'sentiment'].agg(lambda x: list(x))\n",
    "df = df.sample(frac=1).reset_index(drop=True)\n",
    "\n",
    "from collections import Counter\n",
    "\n",
    "counts = [len(row) for row in df[\"sentiment\"]]\n",
    "fig, ax = plt.subplots()\n",
    "ax.scatter(Counter(counts).keys(), Counter(counts).values())\n",
    "\n",
    "\n",
    "split = round(len(df)*0.6)\n",
    "train_data = df[:split]\n",
    "test_data = df[split:]\n",
    "\n",
    "train_data.head(5)"
   ]
  },
  {
   "cell_type": "code",
   "execution_count": 124,
   "metadata": {},
   "outputs": [],
   "source": [
    "# Borrowed from: https://www.geeksforgeeks.org/choose-optimal-number-of-epochs-to-train-a-neural-network-in-keras/\n",
    "earlystopping = callbacks.EarlyStopping(monitor =\"val_loss\", \n",
    "                                        mode =\"min\", patience = 5, \n",
    "                                        restore_best_weights = True)\n",
    "\n",
    "def exponential_decay(lr0, s):\n",
    "    def exponential_decay_fn(epoch):\n",
    "        exp = lr0 * 0.1**(epoch / s)\n",
    "        tf.summary.scalar('learning rate', data=exp, step=epoch)\n",
    "        return exp\n",
    "    return exponential_decay_fn\n",
    "\n",
    "exponential_decay_fn = exponential_decay(lr0=0.01, s=10)\n",
    "lr_scheduler = tf.keras.callbacks.LearningRateScheduler(exponential_decay_fn)\n",
    "\n",
    "root_logdir = os.path.join(os.curdir, \"./logged_models/keras_words\")\n",
    "def get_run_logdir():\n",
    "    run_id = time.strftime(\"run_%Y_%m_%d-%H_%M_%S\")\n",
    "    return os.path.join(root_logdir, run_id)\n",
    "\n",
    "run_log_dir = get_run_logdir()\n",
    "file_writer = tf.summary.create_file_writer(run_log_dir + \"/metrics\")\n",
    "file_writer.set_as_default()\n",
    "\n",
    "tensorboard_cb = tf.keras.callbacks.TensorBoard(run_log_dir)"
   ]
  },
  {
   "cell_type": "code",
   "execution_count": 125,
   "metadata": {},
   "outputs": [
    {
     "name": "stderr",
     "output_type": "stream",
     "text": [
      "C:\\Users\\hanse\\AppData\\Local\\Packages\\PythonSoftwareFoundation.Python.3.9_qbz5n2kfra8p0\\LocalCache\\local-packages\\Python39\\site-packages\\keras\\optimizer_v2\\optimizer_v2.py:355: UserWarning: The `lr` argument is deprecated, use `learning_rate` instead.\n",
      "  warnings.warn(\n"
     ]
    },
    {
     "name": "stdout",
     "output_type": "stream",
     "text": [
      "Model: \"sequential_18\"\n",
      "_________________________________________________________________\n",
      "Layer (type)                 Output Shape              Param #   \n",
      "=================================================================\n",
      "embedding_18 (Embedding)     (None, 20, 16)            640000    \n",
      "_________________________________________________________________\n",
      "lstm_36 (LSTM)               (None, 20, 64)            20736     \n",
      "_________________________________________________________________\n",
      "lstm_37 (LSTM)               (None, 20, 64)            33024     \n",
      "_________________________________________________________________\n",
      "time_distributed_18 (TimeDis (None, 20, 3)             195       \n",
      "=================================================================\n",
      "Total params: 693,955\n",
      "Trainable params: 693,955\n",
      "Non-trainable params: 0\n",
      "_________________________________________________________________\n",
      "Epoch 1/20\n",
      "168/168 [==============================] - 9s 31ms/step - loss: 0.2670 - accuracy: 0.8629 - val_loss: 0.1631 - val_accuracy: 0.9212\n",
      "Epoch 2/20\n",
      "168/168 [==============================] - 4s 24ms/step - loss: 0.1040 - accuracy: 0.9541 - val_loss: 0.1751 - val_accuracy: 0.9234\n",
      "Epoch 3/20\n",
      "168/168 [==============================] - 4s 23ms/step - loss: 0.0725 - accuracy: 0.9671 - val_loss: 0.1873 - val_accuracy: 0.9210\n",
      "Epoch 4/20\n",
      "168/168 [==============================] - 3s 20ms/step - loss: 0.0583 - accuracy: 0.9723 - val_loss: 0.2356 - val_accuracy: 0.9226\n",
      "Epoch 5/20\n",
      "168/168 [==============================] - 4s 24ms/step - loss: 0.0494 - accuracy: 0.9753 - val_loss: 0.3048 - val_accuracy: 0.9203\n",
      "Epoch 6/20\n",
      "168/168 [==============================] - 4s 21ms/step - loss: 0.0459 - accuracy: 0.9765 - val_loss: 0.3457 - val_accuracy: 0.9183\n"
     ]
    }
   ],
   "source": [
    "# Borrowed from: https://towardsdatascience.com/a-complete-step-by-step-tutorial-on-sentiment-analysis-in-keras-and-tensorflow-ea420cc8913f\n",
    "vocab_size = 40000\n",
    "embedding_dim = 16\n",
    "max_length = 20 #max([len(w) for w in train_data['Lemma']])\n",
    "padding_type = 'post'\n",
    "trunc_type = 'post'\n",
    "oov_tok = '<OOV>'\n",
    "output_dim = 64\n",
    "\n",
    "tokenizer = Tokenizer(num_words=vocab_size, oov_token=oov_tok)\n",
    "tokenizer.fit_on_texts(train_data['Lemma'])\n",
    "\n",
    "train_seqs = tokenizer.texts_to_sequences(train_data['Lemma'])\n",
    "X_train = pad_sequences(train_seqs, maxlen=max_length, dtype='float32', padding=padding_type, truncating=trunc_type, value=1.)\n",
    "test_seqs = tokenizer.texts_to_sequences(test_data['Lemma'])\n",
    "X_test = pad_sequences(test_seqs, maxlen=max_length, dtype='float32', padding=padding_type, truncating=trunc_type, value=1.)\n",
    "\n",
    "y_train = pad_sequences(train_data['sentiment'], maxlen=max_length, dtype='float32', padding=padding_type, truncating=trunc_type, value=1.)\n",
    "y_test = pad_sequences(test_data['sentiment'], maxlen=max_length, dtype='float32', padding=padding_type, truncating=trunc_type, value=1.)\n",
    "\n",
    "y_train = [to_categorical(i, num_classes=3) for i in y_train]\n",
    "\n",
    "model = tf.keras.Sequential([\n",
    "        layers.Embedding(vocab_size, embedding_dim, input_length=max_length),\n",
    "        layers.LSTM(units=output_dim, return_sequences=True, dropout=0.2, recurrent_dropout=0.2),\n",
    "        layers.LSTM(units=output_dim, return_sequences=True, dropout=0.5, recurrent_dropout=0.2),\n",
    "        # layers.Dense(3, activation='sigmoid'),\n",
    "        layers.TimeDistributed(layers.Dense(3, activation=\"softmax\"))\n",
    "])\n",
    "\n",
    "adam = tf.keras.optimizers.Adam(lr=0.0005, beta_1=0.9, beta_2=0.999)\n",
    "model.compile(loss='categorical_crossentropy', optimizer=adam, metrics=['accuracy']) # cross entropy loss chapter 4 HOML - categorial crossentropy because to_categorial \n",
    "\n",
    "model.summary()\n",
    "\n",
    "num_epochs = 20\n",
    "history = model.fit(X_train, np.array(y_train), epochs=num_epochs, callbacks =[earlystopping, lr_scheduler, tensorboard_cb], validation_split=0.2)"
   ]
  },
  {
   "cell_type": "code",
   "execution_count": 126,
   "metadata": {},
   "outputs": [
    {
     "data": {
      "text/plain": [
       "<Figure size 432x288 with 0 Axes>"
      ]
     },
     "execution_count": 126,
     "metadata": {},
     "output_type": "execute_result"
    },
    {
     "data": {
      "image/png": "[encoded data removed]",
      "text/plain": [
       "<Figure size 432x288 with 1 Axes>"
      ]
     },
     "metadata": {
      "needs_background": "light"
     },
     "output_type": "display_data"
    },
    {
     "data": {
      "image/png": "[encoded data removed]",
      "text/plain": [
       "<Figure size 432x288 with 1 Axes>"
      ]
     },
     "metadata": {
      "needs_background": "light"
     },
     "output_type": "display_data"
    },
    {
     "data": {
      "text/plain": [
       "<Figure size 432x288 with 0 Axes>"
      ]
     },
     "metadata": {},
     "output_type": "display_data"
    }
   ],
   "source": [
    "# %load_ext tensorboard\n",
    "# %tensorboard --logdir=./la_logs --port=6006\n",
    "\n",
    "%matplotlib inline\n",
    "import matplotlib.pyplot as plt\n",
    "import matplotlib.image as mpimg\n",
    "acc = history.history['accuracy']\n",
    "val_acc = history.history['val_accuracy']\n",
    "loss = history.history['loss']\n",
    "val_loss = history.history['val_loss']\n",
    "epochs=range(len(acc))\n",
    "plt.plot(epochs, acc, 'r', 'Training Accuracy')\n",
    "plt.plot(epochs, val_acc, 'b', 'Validation Accuracy')\n",
    "plt.title('Training and validation accuracy')\n",
    "plt.figure()\n",
    "plt.plot(epochs, loss, 'r', 'Training Loss')\n",
    "plt.plot(epochs, val_loss, 'b', 'Validation Loss')\n",
    "plt.title('Training and validation loss')\n",
    "plt.figure()"
   ]
  },
  {
   "cell_type": "code",
   "execution_count": 127,
   "metadata": {},
   "outputs": [],
   "source": [
    "y_pred = model.predict(X_test)\n",
    "y_pred = y_pred.argmax(axis=-1)"
   ]
  },
  {
   "cell_type": "code",
   "execution_count": 128,
   "metadata": {},
   "outputs": [],
   "source": [
    "rep_to_pol = {\n",
    "  0 : -1.0,\n",
    "  1 : 0.0,\n",
    "  2 : 1.0\n",
    "}"
   ]
  },
  {
   "cell_type": "code",
   "execution_count": 137,
   "metadata": {},
   "outputs": [
    {
     "data": {
      "image/png": "[encoded data removed]",
      "text/plain": [
       "<Figure size 1332x756 with 2 Axes>"
      ]
     },
     "metadata": {
      "needs_background": "light"
     },
     "output_type": "display_data"
    }
   ],
   "source": [
    "from sklearn.metrics import confusion_matrix\n",
    "\n",
    "y_test = np.array(y_test).flatten()\n",
    "y_pred = y_pred.flatten()\n",
    "cm = confusion_matrix(y_test, y_pred, normalize='pred')\n",
    "\n",
    "fig = plt.figure( figsize=[18.5,10.5])\n",
    "ax = fig.add_subplot(111)\n",
    "cax = ax.matshow(cm)\n",
    "ax.set_xlabel('Predicted gender', fontsize = 15, labelpad=15.0)\n",
    "ax.xaxis.set_label_position('top')\n",
    "ax.set_ylabel('True gender', fontsize = 15, labelpad=15.0)\n",
    "ax.set_title('Binary sentiment analysis range: -1, 0, 1 / M, N, W',fontweight=\"bold\", size=20, pad=100.0)\n",
    "\n",
    "cm_axis_vals = []\n",
    "\n",
    "for x in np.unique(np.array(y_pred)):\n",
    "    cm_axis_vals.append(rep_to_pol[x])\n",
    "\n",
    "fig.colorbar(cax)\n",
    "plt.xticks(range(3), cm_axis_vals, rotation=90)\n",
    "plt.yticks(range(3), cm_axis_vals)\n",
    "plt.show()"
   ]
  },
  {
   "cell_type": "code",
   "execution_count": 134,
   "metadata": {},
   "outputs": [
    {
     "name": "stderr",
     "output_type": "stream",
     "text": [
      "C:\\Users\\hanse\\AppData\\Local\\Packages\\PythonSoftwareFoundation.Python.3.9_qbz5n2kfra8p0\\LocalCache\\local-packages\\Python39\\site-packages\\pandas\\core\\generic.py:5516: SettingWithCopyWarning: \n",
      "A value is trying to be set on a copy of a slice from a DataFrame.\n",
      "Try using .loc[row_indexer,col_indexer] = value instead\n",
      "\n",
      "See the caveats in the documentation: https://pandas.pydata.org/pandas-docs/stable/user_guide/indexing.html#returning-a-view-versus-a-copy\n",
      "  self[name] = value\n",
      "C:\\Users\\hanse\\AppData\\Local\\Temp/ipykernel_11552/1332072178.py:10: SettingWithCopyWarning: \n",
      "A value is trying to be set on a copy of a slice from a DataFrame.\n",
      "Try using .loc[row_indexer,col_indexer] = value instead\n",
      "\n",
      "See the caveats in the documentation: https://pandas.pydata.org/pandas-docs/stable/user_guide/indexing.html#returning-a-view-versus-a-copy\n",
      "  df_perf_2['f1-score'] = df_perf_2['f1-score'].round(2)\n"
     ]
    },
    {
     "data": {
      "text/html": [
       "<div>\n",
       "<style scoped>\n",
       "    .dataframe tbody tr th:only-of-type {\n",
       "        vertical-align: middle;\n",
       "    }\n",
       "\n",
       "    .dataframe tbody tr th {\n",
       "        vertical-align: top;\n",
       "    }\n",
       "\n",
       "    .dataframe thead th {\n",
       "        text-align: right;\n",
       "    }\n",
       "</style>\n",
       "<table border=\"1\" class=\"dataframe\">\n",
       "  <thead>\n",
       "    <tr style=\"text-align: right;\">\n",
       "      <th></th>\n",
       "      <th>Gender</th>\n",
       "      <th>precision</th>\n",
       "      <th>recall</th>\n",
       "      <th>f1-score</th>\n",
       "      <th>support</th>\n",
       "    </tr>\n",
       "  </thead>\n",
       "  <tbody>\n",
       "    <tr>\n",
       "      <th>0</th>\n",
       "      <td>M</td>\n",
       "      <td>0.85</td>\n",
       "      <td>0.66</td>\n",
       "      <td>0.74</td>\n",
       "      <td>18062.0</td>\n",
       "    </tr>\n",
       "    <tr>\n",
       "      <th>1</th>\n",
       "      <td>N</td>\n",
       "      <td>0.91</td>\n",
       "      <td>1.00</td>\n",
       "      <td>0.95</td>\n",
       "      <td>53022.0</td>\n",
       "    </tr>\n",
       "    <tr>\n",
       "      <th>2</th>\n",
       "      <td>W</td>\n",
       "      <td>0.76</td>\n",
       "      <td>0.71</td>\n",
       "      <td>0.73</td>\n",
       "      <td>18516.0</td>\n",
       "    </tr>\n",
       "  </tbody>\n",
       "</table>\n",
       "</div>"
      ],
      "text/plain": [
       "  Gender  precision  recall  f1-score  support\n",
       "0      M       0.85    0.66      0.74  18062.0\n",
       "1      N       0.91    1.00      0.95  53022.0\n",
       "2      W       0.76    0.71      0.73  18516.0"
      ]
     },
     "execution_count": 134,
     "metadata": {},
     "output_type": "execute_result"
    }
   ],
   "source": [
    "from sklearn.metrics import classification_report\n",
    "sentiment_vocab = ['M', 'N', 'W']\n",
    "\n",
    "report = classification_report(y_test, y_pred, output_dict=True)\n",
    "df_perf = pd.DataFrame.from_dict(report).transpose()\n",
    "df_perf_2 = df_perf[:3]\n",
    "df_perf_2.insert(loc=0, column='Gender', value=sentiment_vocab)\n",
    "df_perf_2.precision = df_perf_2.precision.round(2)\n",
    "df_perf_2.recall = df_perf_2.recall.round(2)\n",
    "df_perf_2['f1-score'] = df_perf_2['f1-score'].round(2)\n",
    "df_perf_2.support = df_perf_2.support.round()\n",
    "df_perf_2.reset_index(drop=True, inplace=True)\n",
    "\n",
    "\n",
    "df_perf_2"
   ]
  }
 ],
 "metadata": {
  "interpreter": {
   "hash": "5ce0bbaaba556c243eee45087b7684ce43fda2aa9a5b0798832d1be21bf73af7"
  },
  "kernelspec": {
   "display_name": "Python 3.9.7 64-bit (windows store)",
   "name": "python3"
  },
  "language_info": {
   "codemirror_mode": {
    "name": "ipython",
    "version": 3
   },
   "file_extension": ".py",
   "mimetype": "text/x-python",
   "name": "python",
   "nbconvert_exporter": "python",
   "pygments_lexer": "ipython3",
   "version": "3.9.7"
  },
  "orig_nbformat": 4
 },
 "nbformat": 4,
 "nbformat_minor": 2
}
