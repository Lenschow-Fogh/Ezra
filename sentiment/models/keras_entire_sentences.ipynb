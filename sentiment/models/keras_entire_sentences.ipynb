{
 "cells": [
  {
   "cell_type": "code",
   "execution_count": 103,
   "metadata": {},
   "outputs": [
    {
     "name": "stdout",
     "output_type": "stream",
     "text": [
      "constructor of HelperFuncs\n"
     ]
    }
   ],
   "source": [
    "%reload_ext autoreload\n",
    "%autoreload 1\n",
    "from classes.helper_functions import HelperFuncs\n",
    "\n",
    "h = HelperFuncs()"
   ]
  },
  {
   "cell_type": "code",
   "execution_count": 104,
   "metadata": {},
   "outputs": [
    {
     "data": {
      "text/html": [
       "<div>\n",
       "<style scoped>\n",
       "    .dataframe tbody tr th:only-of-type {\n",
       "        vertical-align: middle;\n",
       "    }\n",
       "\n",
       "    .dataframe tbody tr th {\n",
       "        vertical-align: top;\n",
       "    }\n",
       "\n",
       "    .dataframe thead th {\n",
       "        text-align: right;\n",
       "    }\n",
       "</style>\n",
       "<table border=\"1\" class=\"dataframe\">\n",
       "  <thead>\n",
       "    <tr style=\"text-align: right;\">\n",
       "      <th></th>\n",
       "      <th>Text</th>\n",
       "      <th>sentiment</th>\n",
       "    </tr>\n",
       "  </thead>\n",
       "  <tbody>\n",
       "    <tr>\n",
       "      <th>0</th>\n",
       "      <td>What transformed that night from happy into n...</td>\n",
       "      <td>1</td>\n",
       "    </tr>\n",
       "    <tr>\n",
       "      <th>1</th>\n",
       "      <td>Start Early in Your Planning You ll want to de...</td>\n",
       "      <td>0</td>\n",
       "    </tr>\n",
       "    <tr>\n",
       "      <th>2</th>\n",
       "      <td>Have you ever spoken to Donald or does he ign...</td>\n",
       "      <td>1</td>\n",
       "    </tr>\n",
       "    <tr>\n",
       "      <th>3</th>\n",
       "      <td>Do you have style story idea or tip</td>\n",
       "      <td>1</td>\n",
       "    </tr>\n",
       "    <tr>\n",
       "      <th>4</th>\n",
       "      <td>I think blogs are changing the way information...</td>\n",
       "      <td>1</td>\n",
       "    </tr>\n",
       "    <tr>\n",
       "      <th>5</th>\n",
       "      <td>For now we ll dream of warm days ahead when we...</td>\n",
       "      <td>1</td>\n",
       "    </tr>\n",
       "    <tr>\n",
       "      <th>6</th>\n",
       "      <td>That was expected</td>\n",
       "      <td>0</td>\n",
       "    </tr>\n",
       "    <tr>\n",
       "      <th>7</th>\n",
       "      <td>They expected breathtaking encounters griping ...</td>\n",
       "      <td>0</td>\n",
       "    </tr>\n",
       "    <tr>\n",
       "      <th>8</th>\n",
       "      <td>The top receiver from last year will not be a...</td>\n",
       "      <td>0</td>\n",
       "    </tr>\n",
       "    <tr>\n",
       "      <th>9</th>\n",
       "      <td>Zoosk iOs and Android Zoosk is top mobile dati...</td>\n",
       "      <td>1</td>\n",
       "    </tr>\n",
       "  </tbody>\n",
       "</table>\n",
       "</div>"
      ],
      "text/plain": [
       "                                                Text  sentiment\n",
       "0   What transformed that night from happy into n...          1\n",
       "1  Start Early in Your Planning You ll want to de...          0\n",
       "2   Have you ever spoken to Donald or does he ign...          1\n",
       "3               Do you have style story idea or tip           1\n",
       "4  I think blogs are changing the way information...          1\n",
       "5  For now we ll dream of warm days ahead when we...          1\n",
       "6                                 That was expected           0\n",
       "7  They expected breathtaking encounters griping ...          0\n",
       "8   The top receiver from last year will not be a...          0\n",
       "9  Zoosk iOs and Android Zoosk is top mobile dati...          1"
      ]
     },
     "execution_count": 104,
     "metadata": {},
     "output_type": "execute_result"
    },
    {
     "data": {
      "image/png": "[encoded data removed]",
      "text/plain": [
       "<Figure size 720x360 with 1 Axes>"
      ]
     },
     "metadata": {
      "needs_background": "light"
     },
     "output_type": "display_data"
    }
   ],
   "source": [
    "import pandas as pd\n",
    "\n",
    "df = pd.read_json('../datasets/8_dataset_simple.json')\n",
    "df = df[df.Text != \" \"]\n",
    "\n",
    "M, W = df[\"Gender\"].value_counts()\n",
    "if M>W:\n",
    "    diff = M-W\n",
    "    df = df.drop(df.loc[df['Gender'] == 'M'].index[:diff], axis=0)\n",
    "elif W>M:\n",
    "    diff = W-M\n",
    "    df = df.drop(df.loc[df['Gender'] == 'W'].index[:diff], axis=0)\n",
    "\n",
    "df[\"Gender\"].value_counts().plot(kind=\"bar\", figsize=(10,5))\n",
    "df['sentiment'] = df.Gender.apply(lambda x: 0 if x == \"M\" else 1)\n",
    "df = df.drop('Gender', axis=1)\n",
    "df = df.sample(frac=1).reset_index(drop=True)\n",
    "\n",
    "split = round(len(df)*0.75)\n",
    "train_data = df[:split]\n",
    "test_data = df[split:]\n",
    "\n",
    "train_data.head(10)"
   ]
  },
  {
   "cell_type": "code",
   "execution_count": 105,
   "metadata": {},
   "outputs": [],
   "source": [
    "import os\n",
    "import time\n",
    "import tensorflow as tf\n",
    "from keras import callbacks\n",
    "\n",
    "# Borrowed from: https://www.geeksforgeeks.org/choose-optimal-number-of-epochs-to-train-a-neural-network-in-keras/\n",
    "earlystopping = callbacks.EarlyStopping(monitor =\"val_loss\", \n",
    "                                        mode =\"min\", patience = 10, \n",
    "                                        restore_best_weights = True)\n",
    "\n",
    "model_name = 'entire_sentences'\n",
    "model_variant = '1_dropout_w_2_relu'\n",
    "\n",
    "def exponential_decay(lr0, s):\n",
    "    def exponential_decay_fn(epoch):\n",
    "        exp = lr0 * 0.1**(epoch / s)\n",
    "        tf.summary.scalar('learning rate', data=exp, step=epoch)\n",
    "        return exp\n",
    "    return exponential_decay_fn\n",
    "\n",
    "exponential_decay_fn = exponential_decay(lr0=0.01, s=10)\n",
    "lr_scheduler = tf.keras.callbacks.LearningRateScheduler(exponential_decay_fn)\n",
    "\n",
    "root_logdir = os.path.join(os.curdir, \"./logged_models/\" + model_name + '/' + model_variant)\n",
    "def get_run_logdir():\n",
    "    run_id = time.strftime(\"run_%Y_%m_%d-%H_%M_%S\")\n",
    "    return os.path.join(root_logdir, run_id)\n",
    "\n",
    "run_log_dir = get_run_logdir()\n",
    "file_writer = tf.summary.create_file_writer(run_log_dir + \"/metrics\")\n",
    "file_writer.set_as_default()\n",
    "\n",
    "tensorboard_cb = tf.keras.callbacks.TensorBoard(run_log_dir)\n",
    "\n",
    "mcp_save = callbacks.ModelCheckpoint('.mdl_wts.hdf5', save_best_only=True, monitor='val_loss', mode='min')\n",
    "\n",
    "my_callbacks = [earlystopping, lr_scheduler, tensorboard_cb]"
   ]
  },
  {
   "cell_type": "code",
   "execution_count": 106,
   "metadata": {},
   "outputs": [
    {
     "name": "stdout",
     "output_type": "stream",
     "text": [
      "Model: \"sequential_15\"\n",
      "_________________________________________________________________\n",
      "Layer (type)                 Output Shape              Param #   \n",
      "=================================================================\n",
      "embedding_15 (Embedding)     (None, 120, 16)           640000    \n",
      "_________________________________________________________________\n",
      "global_average_pooling1d_15  (None, 16)                0         \n",
      "_________________________________________________________________\n",
      "dense_30 (Dense)             (None, 16)                272       \n",
      "_________________________________________________________________\n",
      "dropout_1 (Dropout)          (None, 16)                0         \n",
      "_________________________________________________________________\n",
      "dense_31 (Dense)             (None, 16)                272       \n",
      "_________________________________________________________________\n",
      "dropout_2 (Dropout)          (None, 16)                0         \n",
      "_________________________________________________________________\n",
      "dense_32 (Dense)             (None, 1)                 17        \n",
      "=================================================================\n",
      "Total params: 640,561\n",
      "Trainable params: 640,561\n",
      "Non-trainable params: 0\n",
      "_________________________________________________________________\n",
      "Epoch 1/50\n",
      "10412/10412 [==============================] - 70s 7ms/step - loss: 0.4248 - accuracy: 0.7932 - val_loss: 0.3713 - val_accuracy: 0.8263\n",
      "Epoch 2/50\n",
      "10412/10412 [==============================] - 69s 7ms/step - loss: 0.3600 - accuracy: 0.8322 - val_loss: 0.3684 - val_accuracy: 0.8227\n",
      "Epoch 3/50\n",
      "10412/10412 [==============================] - 71s 7ms/step - loss: 0.3403 - accuracy: 0.8414 - val_loss: 0.3603 - val_accuracy: 0.8334\n",
      "Epoch 4/50\n",
      "10412/10412 [==============================] - 68s 7ms/step - loss: 0.3264 - accuracy: 0.8477 - val_loss: 0.3620 - val_accuracy: 0.8335\n",
      "Epoch 5/50\n",
      "10412/10412 [==============================] - 72s 7ms/step - loss: 0.3154 - accuracy: 0.8527 - val_loss: 0.3652 - val_accuracy: 0.8307\n",
      "Epoch 6/50\n",
      "10412/10412 [==============================] - 74s 7ms/step - loss: 0.3069 - accuracy: 0.8568 - val_loss: 0.3658 - val_accuracy: 0.8328\n",
      "Epoch 7/50\n",
      "10412/10412 [==============================] - 74s 7ms/step - loss: 0.3004 - accuracy: 0.8599 - val_loss: 0.3731 - val_accuracy: 0.8298\n",
      "Epoch 8/50\n",
      "10412/10412 [==============================] - 69s 7ms/step - loss: 0.2936 - accuracy: 0.8632 - val_loss: 0.3757 - val_accuracy: 0.8296\n",
      "Epoch 9/50\n",
      "10412/10412 [==============================] - 67s 6ms/step - loss: 0.2886 - accuracy: 0.8657 - val_loss: 0.3806 - val_accuracy: 0.8313\n",
      "Epoch 10/50\n",
      "10412/10412 [==============================] - 67s 6ms/step - loss: 0.2837 - accuracy: 0.8688 - val_loss: 0.3832 - val_accuracy: 0.8299\n",
      "Epoch 11/50\n",
      "10412/10412 [==============================] - 65s 6ms/step - loss: 0.2801 - accuracy: 0.8698 - val_loss: 0.3960 - val_accuracy: 0.8274\n",
      "Epoch 12/50\n",
      "10412/10412 [==============================] - 67s 6ms/step - loss: 0.2762 - accuracy: 0.8725 - val_loss: 0.3928 - val_accuracy: 0.8311\n",
      "Epoch 13/50\n",
      "10412/10412 [==============================] - 67s 6ms/step - loss: 0.2735 - accuracy: 0.8742 - val_loss: 0.4025 - val_accuracy: 0.8277\n"
     ]
    }
   ],
   "source": [
    "# Borrowed from: https://towardsdatascience.com/a-complete-step-by-step-tutorial-on-sentiment-analysis-in-keras-and-tensorflow-ea420cc8913f\n",
    "\n",
    "from tensorflow.keras.preprocessing.text import Tokenizer\n",
    "from tensorflow.keras.preprocessing.sequence import pad_sequences\n",
    "from keras import callbacks\n",
    "import tensorflow as tf\n",
    "import numpy as np\n",
    "\n",
    "vocab_size = 40000\n",
    "embedding_dim = 16\n",
    "max_length = 120\n",
    "trunc_type = 'post'\n",
    "oov_tok = '<OOV>'\n",
    "padding_type = 'post'\n",
    "\n",
    "tokenizer = Tokenizer(num_words=vocab_size, oov_token=oov_tok)\n",
    "tokenizer.fit_on_texts(train_data['Text'])\n",
    "\n",
    "train_seqs = tokenizer.texts_to_sequences(train_data['Text'])\n",
    "X_train = pad_sequences(train_seqs, maxlen=max_length, truncating=trunc_type)\n",
    "test_seqs = tokenizer.texts_to_sequences(test_data['Text'])\n",
    "X_test = pad_sequences(test_seqs, maxlen=max_length)\n",
    "\n",
    "y_train = np.array(train_data['sentiment'])\n",
    "y_test = np.array(test_data['sentiment'])\n",
    "\n",
    "model = tf.keras.Sequential([\n",
    "    tf.keras.layers.Embedding(vocab_size, embedding_dim, input_length=max_length),\n",
    "    tf.keras.layers.GlobalAveragePooling1D(),\n",
    "    tf.keras.layers.Dense(16, activation='relu'),\n",
    "    tf.keras.layers.Dropout(0.3, noise_shape=None, seed=None),\n",
    "    tf.keras.layers.Dense(16, activation='relu'),\n",
    "    tf.keras.layers.Dropout(0.2, noise_shape=None, seed=None),\n",
    "    tf.keras.layers.Dense(1, activation='sigmoid')\n",
    "])\n",
    "\n",
    "model.compile(loss='binary_crossentropy', optimizer='adam', metrics=['accuracy'])\n",
    "\n",
    "model.summary()\n",
    "\n",
    "# model_name = 'entire_sentences'\n",
    "# model_variant = 'base'\n",
    "# tensorboard_cb = callbacks.TensorBoard(h.get_run_logdir('logged_models/' + model_name + '/' + model_variant))\n",
    "\n",
    "# history = model.fit(X_train, y_train, epochs=20, callbacks =[h.earlystopping, h.lr_scheduler, tensorboard_cb], validation_split=0.2)\n",
    "history = model.fit(X_train, y_train, epochs=50, callbacks =my_callbacks, validation_split=0.2)"
   ]
  },
  {
   "cell_type": "code",
   "execution_count": 107,
   "metadata": {},
   "outputs": [
    {
     "data": {
      "text/plain": [
       "<Figure size 432x288 with 0 Axes>"
      ]
     },
     "execution_count": 107,
     "metadata": {},
     "output_type": "execute_result"
    },
    {
     "data": {
      "image/png": "[encoded data removed]",
      "text/plain": [
       "<Figure size 432x288 with 1 Axes>"
      ]
     },
     "metadata": {
      "needs_background": "light"
     },
     "output_type": "display_data"
    },
    {
     "data": {
      "image/png": "[encoded data removed]",
      "text/plain": [
       "<Figure size 432x288 with 1 Axes>"
      ]
     },
     "metadata": {
      "needs_background": "light"
     },
     "output_type": "display_data"
    },
    {
     "data": {
      "text/plain": [
       "<Figure size 432x288 with 0 Axes>"
      ]
     },
     "metadata": {},
     "output_type": "display_data"
    }
   ],
   "source": [
    "%matplotlib inline\n",
    "import matplotlib.pyplot as plt\n",
    "import matplotlib.image as mpimg\n",
    "acc = history.history['accuracy']\n",
    "val_acc = history.history['val_accuracy']\n",
    "loss = history.history['loss']\n",
    "val_loss = history.history['val_loss']\n",
    "epochs=range(len(acc))\n",
    "plt.plot(epochs, acc, 'r', 'Training Accuracy')\n",
    "plt.plot(epochs, val_acc, 'b', 'Validation Accuracy')\n",
    "plt.title('Training and validation accuracy')\n",
    "plt.figure()\n",
    "plt.plot(epochs, loss, 'r', 'Training Loss')\n",
    "plt.plot(epochs, val_loss, 'b', 'Validation Loss')\n",
    "plt.title('Training and validation loss')\n",
    "plt.figure()"
   ]
  },
  {
   "cell_type": "code",
   "execution_count": 108,
   "metadata": {},
   "outputs": [],
   "source": [
    "model.save('classifiers/' + model_name + '/' + model_variant + '.h5')"
   ]
  },
  {
   "cell_type": "code",
   "execution_count": 109,
   "metadata": {},
   "outputs": [],
   "source": [
    "y_pred = model.predict(X_test)\n",
    "y_pred_binary = []\n",
    "for x in y_pred:\n",
    "    y_pred_binary.append(0 if x < 0.5 else 1)"
   ]
  },
  {
   "cell_type": "code",
   "execution_count": 110,
   "metadata": {},
   "outputs": [
    {
     "data": {
      "image/png": "[encoded data removed]",
      "text/plain": [
       "<Figure size 1332x756 with 2 Axes>"
      ]
     },
     "metadata": {
      "needs_background": "light"
     },
     "output_type": "display_data"
    },
    {
     "data": {
      "text/plain": [
       "array([[58740, 10797],\n",
       "       [12827, 56452]], dtype=int64)"
      ]
     },
     "execution_count": 110,
     "metadata": {},
     "output_type": "execute_result"
    }
   ],
   "source": [
    "from sklearn.metrics import confusion_matrix\n",
    "\n",
    "cm = confusion_matrix(y_test, y_pred_binary)\n",
    "\n",
    "fig = plt.figure( figsize=[18.5,10.5])\n",
    "ax = fig.add_subplot(111)\n",
    "cax = ax.matshow(cm)\n",
    "ax.set_xlabel('Predicted genders', fontsize = 15, labelpad=15.0)\n",
    "ax.xaxis.set_label_position('top')\n",
    "ax.set_ylabel('True genders', fontsize = 15, labelpad=15.0)\n",
    "ax.set_title('Confusion matrix Bi-directional LSTM classifier',fontweight=\"bold\", size=20, pad=100.0)\n",
    "\n",
    "fig.colorbar(cax)\n",
    "plt.xticks(range(2), [0,1], rotation=90)\n",
    "plt.yticks(range(2), [0,1])\n",
    "plt.show()\n",
    "cm"
   ]
  },
  {
   "cell_type": "code",
   "execution_count": 111,
   "metadata": {},
   "outputs": [
    {
     "name": "stderr",
     "output_type": "stream",
     "text": [
      "C:\\Users\\hanse\\AppData\\Local\\Packages\\PythonSoftwareFoundation.Python.3.9_qbz5n2kfra8p0\\LocalCache\\local-packages\\Python39\\site-packages\\pandas\\core\\generic.py:5516: SettingWithCopyWarning: \n",
      "A value is trying to be set on a copy of a slice from a DataFrame.\n",
      "Try using .loc[row_indexer,col_indexer] = value instead\n",
      "\n",
      "See the caveats in the documentation: https://pandas.pydata.org/pandas-docs/stable/user_guide/indexing.html#returning-a-view-versus-a-copy\n",
      "  self[name] = value\n",
      "C:\\Users\\hanse\\AppData\\Local\\Temp/ipykernel_5816/1509086957.py:10: SettingWithCopyWarning: \n",
      "A value is trying to be set on a copy of a slice from a DataFrame.\n",
      "Try using .loc[row_indexer,col_indexer] = value instead\n",
      "\n",
      "See the caveats in the documentation: https://pandas.pydata.org/pandas-docs/stable/user_guide/indexing.html#returning-a-view-versus-a-copy\n",
      "  df_perf_2['f1-score'] = df_perf_2['f1-score'].round(2)\n"
     ]
    },
    {
     "data": {
      "text/html": [
       "<div>\n",
       "<style scoped>\n",
       "    .dataframe tbody tr th:only-of-type {\n",
       "        vertical-align: middle;\n",
       "    }\n",
       "\n",
       "    .dataframe tbody tr th {\n",
       "        vertical-align: top;\n",
       "    }\n",
       "\n",
       "    .dataframe thead th {\n",
       "        text-align: right;\n",
       "    }\n",
       "</style>\n",
       "<table border=\"1\" class=\"dataframe\">\n",
       "  <thead>\n",
       "    <tr style=\"text-align: right;\">\n",
       "      <th></th>\n",
       "      <th>Gender</th>\n",
       "      <th>precision</th>\n",
       "      <th>recall</th>\n",
       "      <th>f1-score</th>\n",
       "      <th>support</th>\n",
       "    </tr>\n",
       "  </thead>\n",
       "  <tbody>\n",
       "    <tr>\n",
       "      <th>0</th>\n",
       "      <td>M</td>\n",
       "      <td>0.82</td>\n",
       "      <td>0.84</td>\n",
       "      <td>0.83</td>\n",
       "      <td>69537.0</td>\n",
       "    </tr>\n",
       "    <tr>\n",
       "      <th>1</th>\n",
       "      <td>W</td>\n",
       "      <td>0.84</td>\n",
       "      <td>0.81</td>\n",
       "      <td>0.83</td>\n",
       "      <td>69279.0</td>\n",
       "    </tr>\n",
       "  </tbody>\n",
       "</table>\n",
       "</div>"
      ],
      "text/plain": [
       "  Gender  precision  recall  f1-score  support\n",
       "0      M       0.82    0.84      0.83  69537.0\n",
       "1      W       0.84    0.81      0.83  69279.0"
      ]
     },
     "execution_count": 111,
     "metadata": {},
     "output_type": "execute_result"
    }
   ],
   "source": [
    "from sklearn.metrics import classification_report\n",
    "sentiment_vocab = ['M', 'W']\n",
    "\n",
    "report = classification_report(y_test, y_pred_binary, output_dict=True)\n",
    "df_perf = pd.DataFrame.from_dict(report).transpose()\n",
    "df_perf_2 = df_perf[:2]\n",
    "df_perf_2.insert(loc=0, column='Gender', value=sentiment_vocab)\n",
    "df_perf_2.precision = df_perf_2.precision.round(2)\n",
    "df_perf_2.recall = df_perf_2.recall.round(2)\n",
    "df_perf_2['f1-score'] = df_perf_2['f1-score'].round(2)\n",
    "df_perf_2.support = df_perf_2.support.round()\n",
    "df_perf_2.reset_index(drop=True, inplace=True)\n",
    "\n",
    "\n",
    "df_perf_2"
   ]
  }
 ],
 "metadata": {
  "interpreter": {
   "hash": "5ce0bbaaba556c243eee45087b7684ce43fda2aa9a5b0798832d1be21bf73af7"
  },
  "kernelspec": {
   "display_name": "Python 3.9.7 64-bit (windows store)",
   "name": "python3"
  },
  "language_info": {
   "codemirror_mode": {
    "name": "ipython",
    "version": 3
   },
   "file_extension": ".py",
   "mimetype": "text/x-python",
   "name": "python",
   "nbconvert_exporter": "python",
   "pygments_lexer": "ipython3",
   "version": "3.9.7"
  },
  "orig_nbformat": 4
 },
 "nbformat": 4,
 "nbformat_minor": 2
}
