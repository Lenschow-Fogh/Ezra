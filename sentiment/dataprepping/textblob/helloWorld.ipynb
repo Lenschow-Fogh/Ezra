{
 "metadata": {
  "language_info": {
   "codemirror_mode": {
    "name": "ipython",
    "version": 3
   },
   "file_extension": ".py",
   "mimetype": "text/x-python",
   "name": "python",
   "nbconvert_exporter": "python",
   "pygments_lexer": "ipython3",
   "version": "3.9.7"
  },
  "orig_nbformat": 4,
  "kernelspec": {
   "name": "python3",
   "display_name": "Python 3.9.7 64-bit (windows store)"
  },
  "interpreter": {
   "hash": "5ce0bbaaba556c243eee45087b7684ce43fda2aa9a5b0798832d1be21bf73af7"
  }
 },
 "nbformat": 4,
 "nbformat_minor": 2,
 "cells": [
  {
   "cell_type": "code",
   "execution_count": 4,
   "metadata": {},
   "outputs": [
    {
     "output_type": "stream",
     "name": "stdout",
     "text": [
      "\nsentiment score: Sentiment(classification='pos', p_pos=0.5207363128927179, p_neg=0.4792636871072822)\n\nPrinting sentences:\nRasmus is a very cool and nice young man.\nMorten is a bad boy.\n\nPrinting tags, word and its function:\nRasmus NNP\nis VBZ\na DT\nvery RB\ncool JJ\nand CC\nnice JJ\nyoung JJ\nman NN\nMorten NNP\nis VBZ\na DT\nbad JJ\nboy NN\n\nPrinting nouns:\nrasmus\nnice young man\nmorten\nbad boy\n"
     ]
    }
   ],
   "source": [
    "from textblob import TextBlob\n",
    "from textblob.sentiments import NaiveBayesAnalyzer\n",
    "blob = TextBlob(\"Rasmus is a very cool and nice young man. Morten is a bad boy.\", analyzer=NaiveBayesAnalyzer())\n",
    "\n",
    "print(\"\\nsentiment score:\",blob.sentiment)\n",
    "print(\"\\nPrinting sentences:\")\n",
    "for sentence in blob.sentences:\n",
    "    print(sentence)\n",
    "\n",
    "print(\"\\nPrinting tags, word and its function:\")\n",
    "for word, pos in blob.tags:\n",
    "    print(word, pos)\n",
    "\n",
    "print(\"\\nPrinting nouns:\")\n",
    "for np in blob.noun_phrases:\n",
    "    print(np)"
   ]
  }
 ]
}