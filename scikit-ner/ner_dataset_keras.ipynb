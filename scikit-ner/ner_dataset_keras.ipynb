{
 "cells": [
  {
   "cell_type": "code",
   "execution_count": 1,
   "metadata": {},
   "outputs": [],
   "source": [
    "import pandas as pd\n",
    "import numpy as np\n",
    "import tensorflow as tf\n",
    "from tensorflow.keras import layers\n",
    "from keras.utils.vis_utils import plot_model\n",
    "from itertools import chain\n",
    "from sklearn.model_selection import train_test_split\n",
    "from tensorflow.keras.utils import to_categorical\n",
    "from keras.preprocessing.sequence import pad_sequences\n",
    "from sklearn.metrics import confusion_matrix\n",
    "from sklearn.metrics import classification_report\n",
    "import matplotlib.pyplot as plt\n",
    "import os\n",
    "import time\n",
    "from itertools import chain\n"
   ]
  },
  {
   "cell_type": "code",
   "execution_count": 15,
   "metadata": {},
   "outputs": [
    {
     "name": "stdout",
     "output_type": "stream",
     "text": [
      "[name: \"/device:CPU:0\"\n",
      "device_type: \"CPU\"\n",
      "memory_limit: 268435456\n",
      "locality {\n",
      "}\n",
      "incarnation: 901568334186326186\n",
      "]\n"
     ]
    }
   ],
   "source": [
    "from tensorflow.python.client import device_lib\n",
    "print(device_lib.list_local_devices())"
   ]
  },
  {
   "cell_type": "code",
   "execution_count": 2,
   "metadata": {},
   "outputs": [
    {
     "name": "stderr",
     "output_type": "stream",
     "text": [
      "C:\\Users\\Rasmu\\anaconda3\\lib\\site-packages\\IPython\\core\\interactiveshell.py:3441: FutureWarning: The error_bad_lines argument has been deprecated and will be removed in a future version.\n",
      "\n",
      "\n",
      "  exec(code_obj, self.user_global_ns, self.user_ns)\n"
     ]
    },
    {
     "data": {
      "text/html": [
       "<div>\n",
       "<style scoped>\n",
       "    .dataframe tbody tr th:only-of-type {\n",
       "        vertical-align: middle;\n",
       "    }\n",
       "\n",
       "    .dataframe tbody tr th {\n",
       "        vertical-align: top;\n",
       "    }\n",
       "\n",
       "    .dataframe thead th {\n",
       "        text-align: right;\n",
       "    }\n",
       "</style>\n",
       "<table border=\"1\" class=\"dataframe\">\n",
       "  <thead>\n",
       "    <tr style=\"text-align: right;\">\n",
       "      <th></th>\n",
       "      <th>Sentence #</th>\n",
       "      <th>Word</th>\n",
       "      <th>POS</th>\n",
       "      <th>Tag</th>\n",
       "    </tr>\n",
       "  </thead>\n",
       "  <tbody>\n",
       "    <tr>\n",
       "      <th>0</th>\n",
       "      <td>Sentence: 1</td>\n",
       "      <td>Thousands</td>\n",
       "      <td>NNS</td>\n",
       "      <td>O</td>\n",
       "    </tr>\n",
       "    <tr>\n",
       "      <th>1</th>\n",
       "      <td>Sentence: 1</td>\n",
       "      <td>of</td>\n",
       "      <td>IN</td>\n",
       "      <td>O</td>\n",
       "    </tr>\n",
       "    <tr>\n",
       "      <th>2</th>\n",
       "      <td>Sentence: 1</td>\n",
       "      <td>demonstrators</td>\n",
       "      <td>NNS</td>\n",
       "      <td>O</td>\n",
       "    </tr>\n",
       "    <tr>\n",
       "      <th>3</th>\n",
       "      <td>Sentence: 1</td>\n",
       "      <td>have</td>\n",
       "      <td>VBP</td>\n",
       "      <td>O</td>\n",
       "    </tr>\n",
       "    <tr>\n",
       "      <th>4</th>\n",
       "      <td>Sentence: 1</td>\n",
       "      <td>marched</td>\n",
       "      <td>VBN</td>\n",
       "      <td>O</td>\n",
       "    </tr>\n",
       "  </tbody>\n",
       "</table>\n",
       "</div>"
      ],
      "text/plain": [
       "    Sentence #           Word  POS Tag\n",
       "0  Sentence: 1      Thousands  NNS   O\n",
       "1  Sentence: 1             of   IN   O\n",
       "2  Sentence: 1  demonstrators  NNS   O\n",
       "3  Sentence: 1           have  VBP   O\n",
       "4  Sentence: 1        marched  VBN   O"
      ]
     },
     "execution_count": 2,
     "metadata": {},
     "output_type": "execute_result"
    }
   ],
   "source": [
    "df = pd.read_csv('C:/Users/Rasmu/Downloads/ner_dataset.csv', encoding = \"unicode-escape\", error_bad_lines=False)\n",
    "df = df[:100000]\n",
    "df = df.fillna(method='ffill')\n",
    "df.head()"
   ]
  },
  {
   "cell_type": "code",
   "execution_count": 3,
   "metadata": {},
   "outputs": [],
   "source": [
    "def get_dict_map(dataframe, token_or_tag):\n",
    "    tok2idx = {}\n",
    "    idx2tok = {}\n",
    "    \n",
    "    if token_or_tag == 'token':\n",
    "        vocab = list(set(dataframe['Word'].to_list()))\n",
    "    else:\n",
    "        vocab = list(set(dataframe['Tag'].to_list()))\n",
    "    \n",
    "    idx2tok = {idx:tok for  idx, tok in enumerate(vocab)}\n",
    "    tok2idx = {tok:idx for  idx, tok in enumerate(vocab)}\n",
    "    return tok2idx, idx2tok\n",
    "\n",
    "\n",
    "token2idx, idx2token = get_dict_map(df, 'token')\n",
    "tag2idx, idx2tag = get_dict_map(df, 'tag')"
   ]
  },
  {
   "cell_type": "code",
   "execution_count": 4,
   "metadata": {},
   "outputs": [],
   "source": [
    "#Create mapper for features\n",
    "\n",
    "tag_vocab = np.unique(df['Tag']).tolist()\n",
    "word_vocab = np.unique(df['Word']).tolist()\n",
    "\n",
    "i_to_word = {i:word for  i, word in enumerate(word_vocab)}\n",
    "word_to_i = {word:i for  i, word in enumerate(word_vocab)}\n",
    "\n",
    "i_to_tag = {i:tag for  i, tag in enumerate(tag_vocab)}\n",
    "tag_to_i = {tag:i for  i, tag in enumerate(tag_vocab)}"
   ]
  },
  {
   "cell_type": "code",
   "execution_count": 5,
   "metadata": {},
   "outputs": [
    {
     "name": "stderr",
     "output_type": "stream",
     "text": [
      "C:\\Users\\Rasmu\\AppData\\Local\\Temp/ipykernel_24764/2204932765.py:6: FutureWarning: Indexing with multiple keys (implicitly converted to a tuple of keys) will be deprecated, use a list instead.\n",
      "  df_grouped = df.groupby(['Sentence #'],as_index=False)['Word', 'POS', 'Tag', 'Word_index', 'Tag_index'].agg(lambda x: list(x))\n"
     ]
    }
   ],
   "source": [
    "#Append index columns for words and tags and group dataframe by sentence\n",
    "\n",
    "df['Word_index'] = df['Word'].map(word_to_i)\n",
    "df['Tag_index'] = df['Tag'].map(tag_to_i)\n",
    "\n",
    "df_grouped = df.groupby(['Sentence #'],as_index=False)['Word', 'POS', 'Tag', 'Word_index', 'Tag_index'].agg(lambda x: list(x))"
   ]
  },
  {
   "cell_type": "code",
   "execution_count": 6,
   "metadata": {},
   "outputs": [],
   "source": [
    "max_tag = len(tag_vocab)\n",
    "max_word = len(word_vocab)\n",
    "\n",
    "tokens = df_grouped['Word_index'].tolist()\n",
    "tags = df_grouped['Tag_index'].tolist()\n",
    "\n",
    "max_length = max([len(s) for s in tokens])\n",
    "\n",
    "pad_tokens = pad_sequences(tokens, maxlen=max_length, dtype='int32', padding='post', value= max_word - 1)\n",
    "\n",
    "\n",
    "pad_tags = pad_sequences(tags, maxlen=max_length, dtype='int32', padding='post', value= tag_to_i[\"O\"])\n",
    "n_tags = len(tag_to_i)\n",
    "\n",
    "pad_tags = [to_categorical(i, num_classes=n_tags) for i in pad_tags]\n",
    "\n",
    "tokens_, test_tokens, tags_, test_tags = train_test_split(pad_tokens, pad_tags, test_size=None, random_state=0)\n",
    "train_tokens, test_tokens, train_tags, test_tags = train_test_split(tokens_,tags_,test_size = 0.3, random_state=0)"
   ]
  },
  {
   "cell_type": "code",
   "execution_count": 7,
   "metadata": {},
   "outputs": [],
   "source": [
    "input_dim = len(word_vocab)+1\n",
    "output_dim = 64\n",
    "input_length = max([len(s) for s in df_grouped['Word_index'].tolist()])\n",
    "n_tags = len(tag_vocab)"
   ]
  },
  {
   "cell_type": "code",
   "execution_count": 8,
   "metadata": {},
   "outputs": [],
   "source": [
    "root_logdir = os.path.join(os.curdir, \"la_logs\")\n",
    "def get_run_logdir():\n",
    "    run_id = time.strftime(\"run_%Y_%m_%d-%H_%M_%S\")\n",
    "    return os.path.join(root_logdir, run_id)\n",
    "\n",
    "run_log_dir = get_run_logdir()\n",
    "run_log_dir\n",
    "\n",
    "tensorboard_cb = tf.keras.callbacks.TensorBoard(run_log_dir)"
   ]
  },
  {
   "cell_type": "code",
   "execution_count": 9,
   "metadata": {},
   "outputs": [
    {
     "name": "stderr",
     "output_type": "stream",
     "text": [
      "C:\\Users\\Rasmu\\anaconda3\\lib\\site-packages\\keras\\optimizer_v2\\optimizer_v2.py:355: UserWarning: The `lr` argument is deprecated, use `learning_rate` instead.\n",
      "  warnings.warn(\n"
     ]
    },
    {
     "name": "stdout",
     "output_type": "stream",
     "text": [
      "Model: \"sequential\"\n",
      "_________________________________________________________________\n",
      "Layer (type)                 Output Shape              Param #   \n",
      "=================================================================\n",
      "embedding (Embedding)        (None, 70, 64)            699072    \n",
      "_________________________________________________________________\n",
      "bidirectional (Bidirectional (None, 70, 128)           66048     \n",
      "_________________________________________________________________\n",
      "lstm_1 (LSTM)                (None, 70, 64)            49408     \n",
      "_________________________________________________________________\n",
      "time_distributed (TimeDistri (None, 70, 17)            1105      \n",
      "=================================================================\n",
      "Total params: 815,633\n",
      "Trainable params: 815,633\n",
      "Non-trainable params: 0\n",
      "_________________________________________________________________\n"
     ]
    },
    {
     "data": {
      "image/png": "[encoded data removed]",
      "text/plain": [
       "<IPython.core.display.Image object>"
      ]
     },
     "execution_count": 9,
     "metadata": {},
     "output_type": "execute_result"
    }
   ],
   "source": [
    "model = tf.keras.models.Sequential(\n",
    "    [\n",
    "        layers.Embedding(input_dim=input_dim, output_dim=output_dim, input_length=input_length), # Embedding vs Input layer\n",
    "        layers.Bidirectional(layers.LSTM(units=output_dim, return_sequences=True, dropout=0.2, recurrent_dropout=0.2), merge_mode = 'concat'),\n",
    "        layers.LSTM(units=output_dim, return_sequences=True, dropout=0.5, recurrent_dropout=0.5),\n",
    "        layers.TimeDistributed(layers.Dense(n_tags, activation=\"softmax\")) #Use softmax for activation HOML page 383\n",
    "    ]\n",
    ")\n",
    "\n",
    "adam = tf.keras.optimizers.Adam(lr=0.0005, beta_1=0.9, beta_2=0.999)\n",
    "\n",
    "#Hyper params to change - learning rate, number of layers and neurons, activations functions\n",
    "\n",
    "model.compile(loss='categorical_crossentropy', optimizer='adam', metrics=['accuracy']) # cross entropy loss chapter 4 HOML - categorial crossentropy because to_categorial \n",
    "model.summary()\n",
    "plot_model(model)"
   ]
  },
  {
   "cell_type": "code",
   "execution_count": 10,
   "metadata": {},
   "outputs": [
    {
     "name": "stdout",
     "output_type": "stream",
     "text": [
      "Epoch 1/20\n",
      "75/75 - 45s - loss: 0.6060 - accuracy: 0.9401\n",
      "Epoch 2/20\n",
      "75/75 - 19s - loss: 0.2491 - accuracy: 0.9516\n",
      "Epoch 3/20\n",
      "75/75 - 21s - loss: 0.2257 - accuracy: 0.9516\n",
      "Epoch 4/20\n",
      "75/75 - 19s - loss: 0.1839 - accuracy: 0.9521\n",
      "Epoch 5/20\n",
      "75/75 - 21s - loss: 0.1355 - accuracy: 0.9589\n",
      "Epoch 6/20\n",
      "75/75 - 20s - loss: 0.1160 - accuracy: 0.9647\n",
      "Epoch 7/20\n",
      "75/75 - 21s - loss: 0.1059 - accuracy: 0.9668\n",
      "Epoch 8/20\n",
      "75/75 - 21s - loss: 0.0994 - accuracy: 0.9679\n",
      "Epoch 9/20\n",
      "75/75 - 20s - loss: 0.0944 - accuracy: 0.9692\n",
      "Epoch 10/20\n",
      "75/75 - 21s - loss: 0.0893 - accuracy: 0.9712\n",
      "Epoch 11/20\n",
      "75/75 - 21s - loss: 0.0838 - accuracy: 0.9733\n",
      "Epoch 12/20\n",
      "75/75 - 21s - loss: 0.0791 - accuracy: 0.9745\n",
      "Epoch 13/20\n",
      "75/75 - 21s - loss: 0.0746 - accuracy: 0.9760\n",
      "Epoch 14/20\n",
      "75/75 - 20s - loss: 0.0697 - accuracy: 0.9777\n",
      "Epoch 15/20\n",
      "75/75 - 21s - loss: 0.0663 - accuracy: 0.9791\n",
      "Epoch 16/20\n",
      "75/75 - 21s - loss: 0.0630 - accuracy: 0.9804\n",
      "Epoch 17/20\n",
      "75/75 - 21s - loss: 0.0599 - accuracy: 0.9816\n",
      "Epoch 18/20\n",
      "75/75 - 20s - loss: 0.0569 - accuracy: 0.9826\n",
      "Epoch 19/20\n",
      "75/75 - 20s - loss: 0.0540 - accuracy: 0.9839\n",
      "Epoch 20/20\n",
      "75/75 - 21s - loss: 0.0520 - accuracy: 0.9848\n"
     ]
    },
    {
     "data": {
      "text/plain": [
       "Reusing TensorBoard on port 6006 (pid 8252), started 20:33:45 ago. (Use '!kill 8252' to kill it.)"
      ]
     },
     "metadata": {},
     "output_type": "display_data"
    },
    {
     "data": {
      "text/html": [
       "\n",
       "      <iframe id=\"tensorboard-frame-304caa85b9e2ab36\" width=\"100%\" height=\"800\" frameborder=\"0\">\n",
       "      </iframe>\n",
       "      <script>\n",
       "        (function() {\n",
       "          const frame = document.getElementById(\"tensorboard-frame-304caa85b9e2ab36\");\n",
       "          const url = new URL(\"http://localhost\");\n",
       "          const port = 6006;\n",
       "          if (port) {\n",
       "            url.port = port;\n",
       "          }\n",
       "          frame.src = url;\n",
       "        })();\n",
       "      </script>\n",
       "    "
      ],
      "text/plain": [
       "<IPython.core.display.HTML object>"
      ]
     },
     "metadata": {},
     "output_type": "display_data"
    }
   ],
   "source": [
    "history = model.fit(train_tokens, np.array(train_tags), epochs=20, callbacks=[tensorboard_cb], verbose=2)\n",
    "%load_ext tensorboard\n",
    "%tensorboard --logdir=./la_logs --port=6006"
   ]
  },
  {
   "cell_type": "code",
   "execution_count": 11,
   "metadata": {},
   "outputs": [],
   "source": [
    "y_pred = model.predict(test_tokens) #Calculates probability for each tag"
   ]
  },
  {
   "cell_type": "code",
   "execution_count": 12,
   "metadata": {},
   "outputs": [
    {
     "data": {
      "image/png": "[encoded data removed]",
      "text/plain": [
       "<Figure size 1332x756 with 2 Axes>"
      ]
     },
     "metadata": {
      "needs_background": "light"
     },
     "output_type": "display_data"
    }
   ],
   "source": [
    "y_classes = y_pred.argmax(axis=-1)\n",
    "cm_true = y_classes.flatten()\n",
    "cm_pred = np.array(test_tags).argmax(axis=-1).flatten()\n",
    "\n",
    "cm = confusion_matrix(cm_pred, cm_true, normalize='pred')\n",
    "fig = plt.figure( figsize=[18.5,10.5])\n",
    "ax = fig.add_subplot(111)\n",
    "cax = ax.matshow(cm)\n",
    "ax.set_xlabel('Predicted named entities', fontsize = 15, labelpad=15.0)\n",
    "ax.xaxis.set_label_position('top')\n",
    "ax.set_ylabel('True named entities', fontsize = 15, labelpad=15.0)\n",
    "ax.set_title('Confusion matrix Bi-directional LSTM classifier',fontweight=\"bold\", size=20, pad=100.0)\n",
    "\n",
    "fig.colorbar(cax)\n",
    "plt.xticks(range(len(tag_vocab)), tag_vocab, rotation=90)\n",
    "plt.yticks(range(len(tag_vocab)), tag_vocab)\n",
    "plt.show()"
   ]
  },
  {
   "cell_type": "code",
   "execution_count": null,
   "metadata": {},
   "outputs": [],
   "source": []
  }
 ],
 "metadata": {
  "interpreter": {
   "hash": "bd34ee478fa0847ab87fc7d4e3aad97b380550d4c60f14d070d6733b8eb989aa"
  },
  "kernelspec": {
   "display_name": "Python 3.8.8 64-bit ('base': conda)",
   "name": "python3"
  },
  "language_info": {
   "codemirror_mode": {
    "name": "ipython",
    "version": 3
   },
   "file_extension": ".py",
   "mimetype": "text/x-python",
   "name": "python",
   "nbconvert_exporter": "python",
   "pygments_lexer": "ipython3",
   "version": "3.8.8"
  },
  "orig_nbformat": 4
 },
 "nbformat": 4,
 "nbformat_minor": 2
}
